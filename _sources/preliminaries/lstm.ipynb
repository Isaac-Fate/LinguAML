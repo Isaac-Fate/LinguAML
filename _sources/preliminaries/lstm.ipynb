{
 "cells": [
  {
   "cell_type": "markdown",
   "metadata": {},
   "source": [
    "# LSTM"
   ]
  },
  {
   "cell_type": "code",
   "execution_count": 28,
   "metadata": {},
   "outputs": [
    {
     "data": {
      "text/plain": [
       "<torch._C.Generator at 0x116cd9b90>"
      ]
     },
     "execution_count": 28,
     "metadata": {},
     "output_type": "execute_result"
    }
   ],
   "source": [
    "import torch\n",
    "from torch.nn import LSTMCell\n",
    "from torch import sigmoid, tanh\n",
    "\n",
    "torch.manual_seed(42)"
   ]
  },
  {
   "cell_type": "code",
   "execution_count": 29,
   "metadata": {},
   "outputs": [
    {
     "name": "stdout",
     "output_type": "stream",
     "text": [
      "model parameters: odict_keys(['weight_ih', 'weight_hh', 'bias_ih', 'bias_hh'])\n"
     ]
    }
   ],
   "source": [
    "# Input size of x, i.e.,\n",
    "# number of features of x\n",
    "d = 3\n",
    "\n",
    "# Hidden size, i.e.,\n",
    "# size of the hidden state vector h\n",
    "# In fact, all vectors involved in an LSTM cell \n",
    "# other than x share the same size\n",
    "k = 2\n",
    "\n",
    "lstm_cell = LSTMCell(\n",
    "    input_size=d,\n",
    "    hidden_size=k,\n",
    ")\n",
    "\n",
    "print(f\"model parameters: {lstm_cell.state_dict().keys()}\")"
   ]
  },
  {
   "cell_type": "code",
   "execution_count": 30,
   "metadata": {},
   "outputs": [
    {
     "name": "stdout",
     "output_type": "stream",
     "text": [
      "shape:\n",
      "W_ih: torch.Size([8, 3])\tbias_ih: torch.Size([8])\n",
      "W_hh: torch.Size([8, 2])\tbias_hh: torch.Size([8])\n"
     ]
    }
   ],
   "source": [
    "W_ih = lstm_cell.state_dict()[\"weight_ih\"]\n",
    "bias_ih = lstm_cell.state_dict()[\"bias_ih\"]\n",
    "W_hh = lstm_cell.state_dict()[\"weight_hh\"]\n",
    "bias_hh = lstm_cell.state_dict()[\"bias_hh\"]\n",
    "\n",
    "print(\"shape:\")\n",
    "print(f\"W_ih: {W_ih.shape}\\tbias_ih: {bias_ih.shape}\")\n",
    "print(f\"W_hh: {W_hh.shape}\\tbias_hh: {bias_hh.shape}\")"
   ]
  },
  {
   "cell_type": "code",
   "execution_count": 31,
   "metadata": {},
   "outputs": [
    {
     "name": "stdout",
     "output_type": "stream",
     "text": [
      "shapes of weights and biases of the input gate:\n",
      "W_ii: torch.Size([2, 3])\tbias_ii: torch.Size([2])\n",
      "W_hi: torch.Size([2, 2])\tbias_hi: torch.Size([2])\n"
     ]
    }
   ],
   "source": [
    "W_ii, W_if, W_ig, W_io = torch.split(W_ih, k)\n",
    "bias_ii, bias_if, bias_ig, bias_io = torch.split(bias_ih, k)\n",
    "W_hi, W_hf, W_hg, W_ho = torch.split(W_hh, k)\n",
    "bias_hi, bias_hf, bias_hg, bias_ho = torch.split(bias_hh, k)\n",
    "\n",
    "print(\"shapes of weights and biases of the input gate:\")\n",
    "print(f\"W_ii: {W_ii.shape}\\tbias_ii: {bias_ii.shape}\")\n",
    "print(f\"W_hi: {W_hi.shape}\\tbias_hi: {bias_hi.shape}\")"
   ]
  },
  {
   "cell_type": "markdown",
   "metadata": {},
   "source": [
    "The following diagram illustrates the structure of a single LSTM cell.\n",
    "\n",
    "<img src=\"../figures/lstm.png\" width=\"60%\"></img>"
   ]
  },
  {
   "cell_type": "markdown",
   "metadata": {},
   "source": [
    "The four internal activation vectors inside an LSTM cell, $i_t$, $f_t$, $g_t$ and $o_t$, are calculated using the following equations:\n",
    "\n",
    "$$\n",
    "\\begin{align*}\n",
    "    i_t &= \\sigma(W_{ii} x_t + b_{ii} + W_{hi} h_{t-1} + b_{hi}) \\\\\n",
    "    f_t &= \\sigma(W_{if} x_t + b_{if} + W_{hf} h_{t-1} + b_{hf}) \\\\\n",
    "    g_t &= \\tanh(W_{ig} x_t + b_{ig} + W_{hg} h_{t-1} + b_{hg}) \\\\\n",
    "    o_t &= \\sigma(W_{io} x_t + b_{io} + W_{ho} h_{t-1} + b_{ho})\n",
    "\\end{align*}\n",
    "$$"
   ]
  },
  {
   "cell_type": "code",
   "execution_count": 32,
   "metadata": {},
   "outputs": [
    {
     "name": "stdout",
     "output_type": "stream",
     "text": [
      "i: tensor([0.5944, 0.2809])\n",
      "f: tensor([0.4461, 0.7488])\n",
      "g: tensor([0.2927, 0.4243])\n",
      "o: tensor([0.7073, 0.5732])\n"
     ]
    }
   ],
   "source": [
    "x = torch.randn(d)\n",
    "h0 = torch.randn(k)\n",
    "c0 = torch.randn(k)\n",
    "\n",
    "# Inpute gate's activation vector\n",
    "i = sigmoid(\n",
    "    W_ii @ x + bias_ii + W_hi @ h0 + bias_hi\n",
    ")\n",
    "\n",
    "# Forget gate's activation vector\n",
    "f = sigmoid(\n",
    "    W_if @ x + bias_if + W_hf @ h0 + bias_hf\n",
    ")\n",
    "\n",
    "# Cell input activation vector\n",
    "g = tanh(\n",
    "    W_ig @ x + bias_ig + W_hg @ h0 + bias_hg\n",
    ")\n",
    "\n",
    "# Ouput gate's activation vector\n",
    "o = sigmoid(\n",
    "    W_io @ x + bias_io + W_ho @ h0 + bias_ho\n",
    ")\n",
    "\n",
    "print(f\"i: {i}\")\n",
    "print(f\"f: {f}\")\n",
    "print(f\"g: {g}\")\n",
    "print(f\"o: {o}\")"
   ]
  },
  {
   "cell_type": "markdown",
   "metadata": {},
   "source": [
    "The cell state vector $c_t$ and hidden state vector $h_t$ are outputted from each LSTM cell:\n",
    "\n",
    "$$\n",
    "\\begin{align*}\n",
    "    c_t &= f_t \\odot c_{t-1} + i_t \\odot g_t \\\\\n",
    "    h_t &= o_t \\odot \\tanh(c_t) \n",
    "\\end{align*}\n",
    "$$"
   ]
  },
  {
   "cell_type": "code",
   "execution_count": 33,
   "metadata": {},
   "outputs": [
    {
     "name": "stdout",
     "output_type": "stream",
     "text": [
      "manual calculations of h and c:\n",
      "h: tensor([ 0.3590, -0.3243])\n",
      "c: tensor([ 0.5594, -0.6413])\n"
     ]
    }
   ],
   "source": [
    "# Cell state vector\n",
    "c = f * c0 + i * g\n",
    "\n",
    "# Hidden state vector, i.e.,\n",
    "# output vector of the LSTM cell\n",
    "h = o * tanh(c)\n",
    "\n",
    "print(f\"manual calculations of h and c:\")\n",
    "print(f\"h: {h}\")\n",
    "print(f\"c: {c}\")"
   ]
  },
  {
   "cell_type": "code",
   "execution_count": 34,
   "metadata": {},
   "outputs": [
    {
     "name": "stdout",
     "output_type": "stream",
     "text": [
      "output from the LSTM cell:\n",
      "h: tensor([ 0.3590, -0.3243])\n",
      "c: tensor([ 0.5594, -0.6413])\n"
     ]
    }
   ],
   "source": [
    "with torch.no_grad():\n",
    "    h, c = lstm_cell(x, (h0, c0))\n",
    "    \n",
    "print(f\"output from the LSTM cell:\")\n",
    "print(f\"h: {h}\")\n",
    "print(f\"c: {c}\")"
   ]
  },
  {
   "cell_type": "markdown",
   "metadata": {},
   "source": [
    "As we have verified, the manual calculations agree with PyTorch's implementation."
   ]
  },
  {
   "cell_type": "code",
   "execution_count": null,
   "metadata": {},
   "outputs": [],
   "source": []
  }
 ],
 "metadata": {
  "kernelspec": {
   "display_name": "linguaml",
   "language": "python",
   "name": "python3"
  },
  "language_info": {
   "codemirror_mode": {
    "name": "ipython",
    "version": 3
   },
   "file_extension": ".py",
   "mimetype": "text/x-python",
   "name": "python",
   "nbconvert_exporter": "python",
   "pygments_lexer": "ipython3",
   "version": "3.11.4"
  },
  "orig_nbformat": 4
 },
 "nbformat": 4,
 "nbformat_minor": 2
}
