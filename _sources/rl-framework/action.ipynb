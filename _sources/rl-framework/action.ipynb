{
 "cells": [
  {
   "cell_type": "markdown",
   "metadata": {},
   "source": [
    "# Action"
   ]
  },
  {
   "cell_type": "markdown",
   "metadata": {},
   "source": [
    "- Numeric hyperparameter $\\iff$ Continuous action\n",
    "- Categorical hyperparameter $\\iff$ Discrete action"
   ]
  },
  {
   "cell_type": "markdown",
   "metadata": {},
   "source": [
    "## Action Configuration"
   ]
  },
  {
   "cell_type": "markdown",
   "metadata": {},
   "source": [
    "Before creating `Action` or `BatchedAction` instances, you need to specify the model family and numeric hyperparameter bounds by setting up the abstract class `ActionConfig`."
   ]
  },
  {
   "cell_type": "code",
   "execution_count": 1,
   "metadata": {},
   "outputs": [],
   "source": [
    "from linguaml.rl.action import ActionConfig\n",
    "from linguaml.tolearn.family import Family\n",
    "from linguaml.tolearn.hp.bounds import NumericHPBounds\n",
    "\n",
    "ActionConfig.family = Family.SVC\n",
    "ActionConfig.numeric_hp_bounds = NumericHPBounds.from_dict({\n",
    "    \"C\": (0.1, 100),\n",
    "    \"gamma\": (0.1, 100),\n",
    "    \"tol\": (1e-5, 1e-3)\n",
    "})"
   ]
  },
  {
   "cell_type": "markdown",
   "metadata": {},
   "source": [
    "`ActionConfig` is shared by all `Action` and `BatchedAction` instances."
   ]
  },
  {
   "cell_type": "markdown",
   "metadata": {},
   "source": [
    "## Single Action"
   ]
  },
  {
   "cell_type": "markdown",
   "metadata": {},
   "source": [
    "Construct an action from a dictionary:"
   ]
  },
  {
   "cell_type": "code",
   "execution_count": 2,
   "metadata": {},
   "outputs": [
    {
     "data": {
      "text/plain": [
       "{'C': 0.1, 'gamma': 0.5, 'tol': 0.1, 'kernel': 0, 'decision_function_shape': 1}"
      ]
     },
     "execution_count": 2,
     "metadata": {},
     "output_type": "execute_result"
    }
   ],
   "source": [
    "from linguaml.rl.action import Action\n",
    "\n",
    "action = Action({\n",
    "    \"C\": 0.1,\n",
    "    \"gamma\": 0.5,\n",
    "    \"tol\": 0.1,\n",
    "    \"kernel\": 0,\n",
    "    \"decision_function_shape\": 1\n",
    "})\n",
    "\n",
    "action"
   ]
  },
  {
   "cell_type": "code",
   "execution_count": 3,
   "metadata": {},
   "outputs": [
    {
     "name": "stdout",
     "output_type": "stream",
     "text": [
      "Family.SVC\n",
      "name2bounds={'C': Bounds(min=0.1, max=100.0), 'gamma': Bounds(min=0.1, max=100.0), 'tol': Bounds(min=1e-05, max=0.001)}\n"
     ]
    }
   ],
   "source": [
    "print(action.family)\n",
    "print(action.numeric_hp_bounds)"
   ]
  },
  {
   "cell_type": "markdown",
   "metadata": {},
   "source": [
    "Use `to_hp_config` method to create the corresponding hyperparameter configuration."
   ]
  },
  {
   "cell_type": "code",
   "execution_count": 4,
   "metadata": {},
   "outputs": [
    {
     "data": {
      "text/plain": [
       "SVCConfig(C=10.090000000000002, kernel='linear', gamma=50.050000000000004, tol=0.000109, decision_function_shape='ovr')"
      ]
     },
     "execution_count": 4,
     "metadata": {},
     "output_type": "execute_result"
    }
   ],
   "source": [
    "action.to_hp_config()"
   ]
  },
  {
   "cell_type": "markdown",
   "metadata": {},
   "source": [
    "Convert the action to a dictionary that maps hyperparameter names to tensors so that you can feed it to PyTorch's neural network:"
   ]
  },
  {
   "cell_type": "code",
   "execution_count": 5,
   "metadata": {},
   "outputs": [
    {
     "data": {
      "text/plain": [
       "{'C': tensor(0.1000),\n",
       " 'gamma': tensor(0.5000),\n",
       " 'tol': tensor(0.1000),\n",
       " 'kernel': tensor(0.),\n",
       " 'decision_function_shape': tensor(1.)}"
      ]
     },
     "execution_count": 5,
     "metadata": {},
     "output_type": "execute_result"
    }
   ],
   "source": [
    "action.to_tensor_dict()"
   ]
  },
  {
   "cell_type": "markdown",
   "metadata": {},
   "source": [
    "## Batched Actions"
   ]
  },
  {
   "cell_type": "markdown",
   "metadata": {},
   "source": [
    "Construct batched actions from a dictionary with values of NumPy arrays:"
   ]
  },
  {
   "cell_type": "code",
   "execution_count": 10,
   "metadata": {},
   "outputs": [
    {
     "data": {
      "text/plain": [
       "{'C': array([0.5, 0.1]),\n",
       " 'gamma': array([0.1, 0.1]),\n",
       " 'tol': array([0.1 , 0.01]),\n",
       " 'kernel': array([0, 1]),\n",
       " 'decision_function_shape': array([1, 0])}"
      ]
     },
     "execution_count": 10,
     "metadata": {},
     "output_type": "execute_result"
    }
   ],
   "source": [
    "from linguaml.rl.action import BatchedActions\n",
    "import numpy as np\n",
    "\n",
    "batched_actions = BatchedActions({\n",
    "    \"C\": np.array([0.5, 0.1]),\n",
    "    \"gamma\": np.array([0.1, 0.1]),\n",
    "    \"tol\": np.array([0.1, 0.01]),\n",
    "    \"kernel\": np.array([0, 1]),\n",
    "    \"decision_function_shape\": np.array([1, 0])\n",
    "})\n",
    "\n",
    "batched_actions"
   ]
  },
  {
   "cell_type": "markdown",
   "metadata": {},
   "source": [
    "Convert to a list of `Action` instances:"
   ]
  },
  {
   "cell_type": "code",
   "execution_count": 11,
   "metadata": {},
   "outputs": [
    {
     "data": {
      "text/plain": [
       "[{'C': 0.5,\n",
       "  'gamma': 0.1,\n",
       "  'tol': 0.1,\n",
       "  'kernel': 0,\n",
       "  'decision_function_shape': 1},\n",
       " {'C': 0.1,\n",
       "  'gamma': 0.1,\n",
       "  'tol': 0.01,\n",
       "  'kernel': 1,\n",
       "  'decision_function_shape': 0}]"
      ]
     },
     "execution_count": 11,
     "metadata": {},
     "output_type": "execute_result"
    }
   ],
   "source": [
    "batched_actions.to_actions()"
   ]
  },
  {
   "cell_type": "markdown",
   "metadata": {},
   "source": [
    "Convert to a list of hyperparameter configurations:"
   ]
  },
  {
   "cell_type": "code",
   "execution_count": 12,
   "metadata": {},
   "outputs": [
    {
     "data": {
      "text/plain": [
       "[SVCConfig(C=50.050000000000004, kernel='linear', gamma=10.090000000000002, tol=0.000109, decision_function_shape='ovr'),\n",
       " SVCConfig(C=10.090000000000002, kernel='poly', gamma=10.090000000000002, tol=1.9900000000000003e-05, decision_function_shape='ovo')]"
      ]
     },
     "execution_count": 12,
     "metadata": {},
     "output_type": "execute_result"
    }
   ],
   "source": [
    "batched_actions.to_hp_configs()"
   ]
  },
  {
   "cell_type": "markdown",
   "metadata": {},
   "source": [
    "Convert to tensor dictionary:"
   ]
  },
  {
   "cell_type": "code",
   "execution_count": 14,
   "metadata": {},
   "outputs": [
    {
     "data": {
      "text/plain": [
       "{'C': tensor([0.5000, 0.1000]),\n",
       " 'gamma': tensor([0.1000, 0.1000]),\n",
       " 'tol': tensor([0.1000, 0.0100]),\n",
       " 'kernel': tensor([0., 1.]),\n",
       " 'decision_function_shape': tensor([1., 0.])}"
      ]
     },
     "execution_count": 14,
     "metadata": {},
     "output_type": "execute_result"
    }
   ],
   "source": [
    "batched_actions.to_tensor_dict()"
   ]
  },
  {
   "cell_type": "code",
   "execution_count": null,
   "metadata": {},
   "outputs": [],
   "source": []
  }
 ],
 "metadata": {
  "kernelspec": {
   "display_name": "linguaml-OS06el3p-py3.11",
   "language": "python",
   "name": "python3"
  },
  "language_info": {
   "codemirror_mode": {
    "name": "ipython",
    "version": 3
   },
   "file_extension": ".py",
   "mimetype": "text/x-python",
   "name": "python",
   "nbconvert_exporter": "python",
   "pygments_lexer": "ipython3",
   "version": "3.11.0"
  }
 },
 "nbformat": 4,
 "nbformat_minor": 2
}
