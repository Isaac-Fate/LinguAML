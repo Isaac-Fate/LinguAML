{
 "cells": [
  {
   "cell_type": "markdown",
   "metadata": {},
   "source": [
    "# Agent"
   ]
  },
  {
   "cell_type": "code",
   "execution_count": 38,
   "metadata": {},
   "outputs": [],
   "source": [
    "from rich import print\n",
    "import random\n",
    "\n",
    "from linguaml.tolearn.family import Family\n",
    "from linguaml.tolearn.hp.bounds import NumericHPBounds\n",
    "from linguaml.rl.action import ActionConfig, Action\n",
    "from linguaml.rl.state import StateConfig, State\n",
    "\n",
    "family = Family.SVC\n",
    "\n",
    "numeric_hp_bounds = NumericHPBounds.from_dict({\n",
    "    \"C\": (0.1, 100),\n",
    "    \"gamma\": (0.1, 100),\n",
    "    \"tol\": (1e-5, 1e-3)\n",
    "})\n",
    "\n",
    "ActionConfig.family = family\n",
    "ActionConfig.numeric_hp_bounds = numeric_hp_bounds\n",
    "\n",
    "StateConfig.lookback = 5\n",
    "\n",
    "def generate_random_action():\n",
    "    \n",
    "    # Create an empty action\n",
    "    action = Action()\n",
    "    \n",
    "    # Continuous actions\n",
    "    for hp_name in family.numeric_hp_names():\n",
    "            \n",
    "        # Generate a random number in [0, 1]\n",
    "        action[hp_name] = random.random()\n",
    "        \n",
    "    # Discrete actions\n",
    "    for hp_name in family.categorical_hp_names():\n",
    "        \n",
    "        # Get the number of levels in the category\n",
    "        n_levels = family.n_levels_in_category(hp_name)\n",
    "        \n",
    "        # Generate a random integer in [0, n_levels - 1]\n",
    "        action[hp_name] = random.randint(0, n_levels - 1)\n",
    "    \n",
    "    return action\n",
    "\n",
    "def generate_random_actions(n: int) -> list[Action]:\n",
    "    \n",
    "    actions = [\n",
    "        generate_random_action()\n",
    "        for _ in range(n)\n",
    "    ]\n",
    "    \n",
    "    return actions\n",
    "\n",
    "def generate_random_state() -> State:\n",
    "    \n",
    "    actions = generate_random_actions(StateConfig.lookback)\n",
    "    \n",
    "    rewards = [\n",
    "        random.random()\n",
    "        for _ in range(StateConfig.lookback)\n",
    "    ]\n",
    "    \n",
    "    state = State.from_actions_and_rewards(actions, rewards)\n",
    "    \n",
    "    return state\n",
    "\n",
    "def generate_random_states(n: int) -> list[State]:\n",
    "    \n",
    "    states = [\n",
    "        generate_random_state()\n",
    "        for _ in range(n)\n",
    "    ]\n",
    "    \n",
    "    return states\n"
   ]
  },
  {
   "cell_type": "code",
   "execution_count": 34,
   "metadata": {},
   "outputs": [
    {
     "data": {
      "text/plain": [
       "{'C': 0.709065814257011,\n",
       " 'gamma': 0.908919155394657,\n",
       " 'tol': 0.8326055084880106,\n",
       " 'kernel': 3,\n",
       " 'decision_function_shape': 2}"
      ]
     },
     "execution_count": 34,
     "metadata": {},
     "output_type": "execute_result"
    }
   ],
   "source": [
    "generate_random_action()"
   ]
  },
  {
   "cell_type": "code",
   "execution_count": null,
   "metadata": {},
   "outputs": [],
   "source": []
  },
  {
   "cell_type": "markdown",
   "metadata": {},
   "source": [
    "## Selecting Actions"
   ]
  },
  {
   "cell_type": "markdown",
   "metadata": {},
   "source": [
    "### Random Actions"
   ]
  },
  {
   "cell_type": "code",
   "execution_count": 9,
   "metadata": {},
   "outputs": [
    {
     "data": {
      "text/html": [
       "<pre style=\"white-space:pre;overflow-x:auto;line-height:normal;font-family:Menlo,'DejaVu Sans Mono',consolas,'Courier New',monospace\"><span style=\"font-weight: bold\">{</span>\n",
       "    <span style=\"color: #008000; text-decoration-color: #008000\">'C'</span>: <span style=\"color: #008080; text-decoration-color: #008080; font-weight: bold\">0.7254745717836685</span>,\n",
       "    <span style=\"color: #008000; text-decoration-color: #008000\">'gamma'</span>: <span style=\"color: #008080; text-decoration-color: #008080; font-weight: bold\">0.414141520089093</span>,\n",
       "    <span style=\"color: #008000; text-decoration-color: #008000\">'tol'</span>: <span style=\"color: #008080; text-decoration-color: #008080; font-weight: bold\">0.6514806593112382</span>,\n",
       "    <span style=\"color: #008000; text-decoration-color: #008000\">'kernel'</span>: <span style=\"color: #008080; text-decoration-color: #008080; font-weight: bold\">1</span>,\n",
       "    <span style=\"color: #008000; text-decoration-color: #008000\">'decision_function_shape'</span>: <span style=\"color: #008080; text-decoration-color: #008080; font-weight: bold\">0</span>\n",
       "<span style=\"font-weight: bold\">}</span>\n",
       "</pre>\n"
      ],
      "text/plain": [
       "\u001b[1m{\u001b[0m\n",
       "    \u001b[32m'C'\u001b[0m: \u001b[1;36m0.7254745717836685\u001b[0m,\n",
       "    \u001b[32m'gamma'\u001b[0m: \u001b[1;36m0.414141520089093\u001b[0m,\n",
       "    \u001b[32m'tol'\u001b[0m: \u001b[1;36m0.6514806593112382\u001b[0m,\n",
       "    \u001b[32m'kernel'\u001b[0m: \u001b[1;36m1\u001b[0m,\n",
       "    \u001b[32m'decision_function_shape'\u001b[0m: \u001b[1;36m0\u001b[0m\n",
       "\u001b[1m}\u001b[0m\n"
      ]
     },
     "metadata": {},
     "output_type": "display_data"
    }
   ],
   "source": [
    "from linguaml.rl.agent import Agent, ContinuousDistributionFamily\n",
    "from linguaml.tolearn.family import Family\n",
    "\n",
    "agent = Agent(\n",
    "    family=Family.SVC,\n",
    "    numeric_hp_bounds={\n",
    "        \"C\": (0.1, 100),\n",
    "        \"gamma\": (0.1, 100),\n",
    "        \"tol\": (1e-5, 1e-3)\n",
    "    },\n",
    "    hidden_size=128,\n",
    "    cont_dist_family=ContinuousDistributionFamily.NORMAL\n",
    ")\n",
    "\n",
    "print(agent.select_random_action())"
   ]
  },
  {
   "cell_type": "markdown",
   "metadata": {},
   "source": [
    "### Single Action"
   ]
  },
  {
   "cell_type": "markdown",
   "metadata": {},
   "source": [
    "Create an agent:"
   ]
  },
  {
   "cell_type": "code",
   "execution_count": 45,
   "metadata": {},
   "outputs": [
    {
     "data": {
      "text/html": [
       "<pre style=\"white-space:pre;overflow-x:auto;line-height:normal;font-family:Menlo,'DejaVu Sans Mono',consolas,'Courier New',monospace\"><span style=\"font-weight: bold\">{</span><span style=\"color: #008000; text-decoration-color: #008000\">'C'</span>: <span style=\"color: #008080; text-decoration-color: #008080; font-weight: bold\">0.5211094617843628</span>, <span style=\"color: #008000; text-decoration-color: #008000\">'kernel'</span>: <span style=\"color: #008080; text-decoration-color: #008080; font-weight: bold\">1</span>, <span style=\"color: #008000; text-decoration-color: #008000\">'gamma'</span>: <span style=\"color: #008080; text-decoration-color: #008080; font-weight: bold\">0.0</span>, <span style=\"color: #008000; text-decoration-color: #008000\">'tol'</span>: <span style=\"color: #008080; text-decoration-color: #008080; font-weight: bold\">0.7661858797073364</span>, <span style=\"color: #008000; text-decoration-color: #008000\">'decision_function_shape'</span>: <span style=\"color: #008080; text-decoration-color: #008080; font-weight: bold\">0</span><span style=\"font-weight: bold\">}</span>\n",
       "</pre>\n"
      ],
      "text/plain": [
       "\u001b[1m{\u001b[0m\u001b[32m'C'\u001b[0m: \u001b[1;36m0.5211094617843628\u001b[0m, \u001b[32m'kernel'\u001b[0m: \u001b[1;36m1\u001b[0m, \u001b[32m'gamma'\u001b[0m: \u001b[1;36m0.0\u001b[0m, \u001b[32m'tol'\u001b[0m: \u001b[1;36m0.7661858797073364\u001b[0m, \u001b[32m'decision_function_shape'\u001b[0m: \u001b[1;36m0\u001b[0m\u001b[1m}\u001b[0m\n"
      ]
     },
     "metadata": {},
     "output_type": "display_data"
    }
   ],
   "source": [
    "from linguaml.rl.agent import Agent, ContinuousDistributionFamily\n",
    "from linguaml.tolearn.family import Family\n",
    "\n",
    "# Create an agent\n",
    "agent = Agent(\n",
    "    family=Family.SVC,\n",
    "    numeric_hp_bounds={\n",
    "        \"C\": (0.1, 100),\n",
    "        \"gamma\": (0.1, 100),\n",
    "        \"tol\": (1e-5, 1e-3)\n",
    "    },\n",
    "    hidden_size=128,\n",
    "    cont_dist_family=ContinuousDistributionFamily.NORMAL\n",
    ")\n",
    "\n",
    "# Generate a random state\n",
    "state = generate_random_state()\n",
    "\n",
    "# Select an action\n",
    "action = agent.select_action(state)\n",
    "\n",
    "print(action)"
   ]
  },
  {
   "cell_type": "markdown",
   "metadata": {},
   "source": [
    "### Batched Actions"
   ]
  },
  {
   "cell_type": "code",
   "execution_count": 26,
   "metadata": {},
   "outputs": [],
   "source": [
    "from linguaml.rl.agent import Agent, ContinuousDistributionFamily\n",
    "from linguaml.tolearn.family import Family\n",
    "\n",
    "agent = Agent(\n",
    "    family=Family.SVC,\n",
    "    numeric_hp_bounds={\n",
    "        \"C\": (0.1, 100),\n",
    "        \"gamma\": (0.1, 100),\n",
    "        \"tol\": (1e-5, 1e-3)\n",
    "    },\n",
    "    hidden_size=128,\n",
    "    cont_dist_family=ContinuousDistributionFamily.NORMAL\n",
    ")"
   ]
  },
  {
   "cell_type": "code",
   "execution_count": 50,
   "metadata": {},
   "outputs": [
    {
     "data": {
      "text/html": [
       "<pre style=\"white-space:pre;overflow-x:auto;line-height:normal;font-family:Menlo,'DejaVu Sans Mono',consolas,'Courier New',monospace\">shape of data of batched states: <span style=\"font-weight: bold\">(</span><span style=\"color: #008080; text-decoration-color: #008080; font-weight: bold\">10</span>, <span style=\"color: #008080; text-decoration-color: #008080; font-weight: bold\">5</span>, <span style=\"color: #008080; text-decoration-color: #008080; font-weight: bold\">10</span><span style=\"font-weight: bold\">)</span>\n",
       "</pre>\n"
      ],
      "text/plain": [
       "shape of data of batched states: \u001b[1m(\u001b[0m\u001b[1;36m10\u001b[0m, \u001b[1;36m5\u001b[0m, \u001b[1;36m10\u001b[0m\u001b[1m)\u001b[0m\n"
      ]
     },
     "metadata": {},
     "output_type": "display_data"
    },
    {
     "data": {
      "text/html": [
       "<pre style=\"white-space:pre;overflow-x:auto;line-height:normal;font-family:Menlo,'DejaVu Sans Mono',consolas,'Courier New',monospace\"><span style=\"font-weight: bold\">{</span>\n",
       "    <span style=\"color: #008000; text-decoration-color: #008000\">'C'</span>: <span style=\"color: #800080; text-decoration-color: #800080; font-weight: bold\">array</span><span style=\"font-weight: bold\">([</span><span style=\"color: #008080; text-decoration-color: #008080; font-weight: bold\">0</span>.        , <span style=\"color: #008080; text-decoration-color: #008080; font-weight: bold\">0.4485766</span> , <span style=\"color: #008080; text-decoration-color: #008080; font-weight: bold\">0.74467874</span>, <span style=\"color: #008080; text-decoration-color: #008080; font-weight: bold\">0.26534462</span>, <span style=\"color: #008080; text-decoration-color: #008080; font-weight: bold\">0.33302683</span>,\n",
       "       <span style=\"color: #008080; text-decoration-color: #008080; font-weight: bold\">0</span>.        , <span style=\"color: #008080; text-decoration-color: #008080; font-weight: bold\">0.01054871</span>, <span style=\"color: #008080; text-decoration-color: #008080; font-weight: bold\">0.7600914</span> , <span style=\"color: #008080; text-decoration-color: #008080; font-weight: bold\">0.21722707</span>, <span style=\"color: #008080; text-decoration-color: #008080; font-weight: bold\">0.24913226</span><span style=\"font-weight: bold\">]</span>,\n",
       "      <span style=\"color: #808000; text-decoration-color: #808000\">dtype</span>=<span style=\"color: #800080; text-decoration-color: #800080\">float32</span><span style=\"font-weight: bold\">)</span>,\n",
       "    <span style=\"color: #008000; text-decoration-color: #008000\">'kernel'</span>: <span style=\"color: #800080; text-decoration-color: #800080; font-weight: bold\">array</span><span style=\"font-weight: bold\">([</span><span style=\"color: #008080; text-decoration-color: #008080; font-weight: bold\">2</span>, <span style=\"color: #008080; text-decoration-color: #008080; font-weight: bold\">1</span>, <span style=\"color: #008080; text-decoration-color: #008080; font-weight: bold\">0</span>, <span style=\"color: #008080; text-decoration-color: #008080; font-weight: bold\">3</span>, <span style=\"color: #008080; text-decoration-color: #008080; font-weight: bold\">3</span>, <span style=\"color: #008080; text-decoration-color: #008080; font-weight: bold\">1</span>, <span style=\"color: #008080; text-decoration-color: #008080; font-weight: bold\">3</span>, <span style=\"color: #008080; text-decoration-color: #008080; font-weight: bold\">3</span>, <span style=\"color: #008080; text-decoration-color: #008080; font-weight: bold\">1</span>, <span style=\"color: #008080; text-decoration-color: #008080; font-weight: bold\">3</span><span style=\"font-weight: bold\">])</span>,\n",
       "    <span style=\"color: #008000; text-decoration-color: #008000\">'gamma'</span>: <span style=\"color: #800080; text-decoration-color: #800080; font-weight: bold\">array</span><span style=\"font-weight: bold\">([</span><span style=\"color: #008080; text-decoration-color: #008080; font-weight: bold\">0.51459336</span>, <span style=\"color: #008080; text-decoration-color: #008080; font-weight: bold\">0.43040276</span>, <span style=\"color: #008080; text-decoration-color: #008080; font-weight: bold\">0.88630176</span>, <span style=\"color: #008080; text-decoration-color: #008080; font-weight: bold\">0</span>.        , <span style=\"color: #008080; text-decoration-color: #008080; font-weight: bold\">1</span>.        ,\n",
       "       <span style=\"color: #008080; text-decoration-color: #008080; font-weight: bold\">0.28879407</span>, <span style=\"color: #008080; text-decoration-color: #008080; font-weight: bold\">0.5592177</span> , <span style=\"color: #008080; text-decoration-color: #008080; font-weight: bold\">0</span>.        , <span style=\"color: #008080; text-decoration-color: #008080; font-weight: bold\">1</span>.        , <span style=\"color: #008080; text-decoration-color: #008080; font-weight: bold\">0.5656874</span> <span style=\"font-weight: bold\">]</span>,\n",
       "      <span style=\"color: #808000; text-decoration-color: #808000\">dtype</span>=<span style=\"color: #800080; text-decoration-color: #800080\">float32</span><span style=\"font-weight: bold\">)</span>,\n",
       "    <span style=\"color: #008000; text-decoration-color: #008000\">'tol'</span>: <span style=\"color: #800080; text-decoration-color: #800080; font-weight: bold\">array</span><span style=\"font-weight: bold\">([</span><span style=\"color: #008080; text-decoration-color: #008080; font-weight: bold\">0.1928125</span> , <span style=\"color: #008080; text-decoration-color: #008080; font-weight: bold\">0</span>.        , <span style=\"color: #008080; text-decoration-color: #008080; font-weight: bold\">0</span>.        , <span style=\"color: #008080; text-decoration-color: #008080; font-weight: bold\">0.7702479</span> , <span style=\"color: #008080; text-decoration-color: #008080; font-weight: bold\">1</span>.        ,\n",
       "       <span style=\"color: #008080; text-decoration-color: #008080; font-weight: bold\">0.26864272</span>, <span style=\"color: #008080; text-decoration-color: #008080; font-weight: bold\">0</span>.        , <span style=\"color: #008080; text-decoration-color: #008080; font-weight: bold\">0.27716446</span>, <span style=\"color: #008080; text-decoration-color: #008080; font-weight: bold\">0.72063833</span>, <span style=\"color: #008080; text-decoration-color: #008080; font-weight: bold\">0</span>.        <span style=\"font-weight: bold\">]</span>,\n",
       "      <span style=\"color: #808000; text-decoration-color: #808000\">dtype</span>=<span style=\"color: #800080; text-decoration-color: #800080\">float32</span><span style=\"font-weight: bold\">)</span>,\n",
       "    <span style=\"color: #008000; text-decoration-color: #008000\">'decision_function_shape'</span>: <span style=\"color: #800080; text-decoration-color: #800080; font-weight: bold\">array</span><span style=\"font-weight: bold\">([</span><span style=\"color: #008080; text-decoration-color: #008080; font-weight: bold\">1</span>, <span style=\"color: #008080; text-decoration-color: #008080; font-weight: bold\">1</span>, <span style=\"color: #008080; text-decoration-color: #008080; font-weight: bold\">1</span>, <span style=\"color: #008080; text-decoration-color: #008080; font-weight: bold\">1</span>, <span style=\"color: #008080; text-decoration-color: #008080; font-weight: bold\">0</span>, <span style=\"color: #008080; text-decoration-color: #008080; font-weight: bold\">1</span>, <span style=\"color: #008080; text-decoration-color: #008080; font-weight: bold\">0</span>, <span style=\"color: #008080; text-decoration-color: #008080; font-weight: bold\">0</span>, <span style=\"color: #008080; text-decoration-color: #008080; font-weight: bold\">1</span>, <span style=\"color: #008080; text-decoration-color: #008080; font-weight: bold\">0</span><span style=\"font-weight: bold\">])</span>\n",
       "<span style=\"font-weight: bold\">}</span>\n",
       "</pre>\n"
      ],
      "text/plain": [
       "\u001b[1m{\u001b[0m\n",
       "    \u001b[32m'C'\u001b[0m: \u001b[1;35marray\u001b[0m\u001b[1m(\u001b[0m\u001b[1m[\u001b[0m\u001b[1;36m0\u001b[0m.        , \u001b[1;36m0.4485766\u001b[0m , \u001b[1;36m0.74467874\u001b[0m, \u001b[1;36m0.26534462\u001b[0m, \u001b[1;36m0.33302683\u001b[0m,\n",
       "       \u001b[1;36m0\u001b[0m.        , \u001b[1;36m0.01054871\u001b[0m, \u001b[1;36m0.7600914\u001b[0m , \u001b[1;36m0.21722707\u001b[0m, \u001b[1;36m0.24913226\u001b[0m\u001b[1m]\u001b[0m,\n",
       "      \u001b[33mdtype\u001b[0m=\u001b[35mfloat32\u001b[0m\u001b[1m)\u001b[0m,\n",
       "    \u001b[32m'kernel'\u001b[0m: \u001b[1;35marray\u001b[0m\u001b[1m(\u001b[0m\u001b[1m[\u001b[0m\u001b[1;36m2\u001b[0m, \u001b[1;36m1\u001b[0m, \u001b[1;36m0\u001b[0m, \u001b[1;36m3\u001b[0m, \u001b[1;36m3\u001b[0m, \u001b[1;36m1\u001b[0m, \u001b[1;36m3\u001b[0m, \u001b[1;36m3\u001b[0m, \u001b[1;36m1\u001b[0m, \u001b[1;36m3\u001b[0m\u001b[1m]\u001b[0m\u001b[1m)\u001b[0m,\n",
       "    \u001b[32m'gamma'\u001b[0m: \u001b[1;35marray\u001b[0m\u001b[1m(\u001b[0m\u001b[1m[\u001b[0m\u001b[1;36m0.51459336\u001b[0m, \u001b[1;36m0.43040276\u001b[0m, \u001b[1;36m0.88630176\u001b[0m, \u001b[1;36m0\u001b[0m.        , \u001b[1;36m1\u001b[0m.        ,\n",
       "       \u001b[1;36m0.28879407\u001b[0m, \u001b[1;36m0.5592177\u001b[0m , \u001b[1;36m0\u001b[0m.        , \u001b[1;36m1\u001b[0m.        , \u001b[1;36m0.5656874\u001b[0m \u001b[1m]\u001b[0m,\n",
       "      \u001b[33mdtype\u001b[0m=\u001b[35mfloat32\u001b[0m\u001b[1m)\u001b[0m,\n",
       "    \u001b[32m'tol'\u001b[0m: \u001b[1;35marray\u001b[0m\u001b[1m(\u001b[0m\u001b[1m[\u001b[0m\u001b[1;36m0.1928125\u001b[0m , \u001b[1;36m0\u001b[0m.        , \u001b[1;36m0\u001b[0m.        , \u001b[1;36m0.7702479\u001b[0m , \u001b[1;36m1\u001b[0m.        ,\n",
       "       \u001b[1;36m0.26864272\u001b[0m, \u001b[1;36m0\u001b[0m.        , \u001b[1;36m0.27716446\u001b[0m, \u001b[1;36m0.72063833\u001b[0m, \u001b[1;36m0\u001b[0m.        \u001b[1m]\u001b[0m,\n",
       "      \u001b[33mdtype\u001b[0m=\u001b[35mfloat32\u001b[0m\u001b[1m)\u001b[0m,\n",
       "    \u001b[32m'decision_function_shape'\u001b[0m: \u001b[1;35marray\u001b[0m\u001b[1m(\u001b[0m\u001b[1m[\u001b[0m\u001b[1;36m1\u001b[0m, \u001b[1;36m1\u001b[0m, \u001b[1;36m1\u001b[0m, \u001b[1;36m1\u001b[0m, \u001b[1;36m0\u001b[0m, \u001b[1;36m1\u001b[0m, \u001b[1;36m0\u001b[0m, \u001b[1;36m0\u001b[0m, \u001b[1;36m1\u001b[0m, \u001b[1;36m0\u001b[0m\u001b[1m]\u001b[0m\u001b[1m)\u001b[0m\n",
       "\u001b[1m}\u001b[0m\n"
      ]
     },
     "metadata": {},
     "output_type": "display_data"
    },
    {
     "data": {
      "text/html": [
       "<pre style=\"white-space:pre;overflow-x:auto;line-height:normal;font-family:Menlo,'DejaVu Sans Mono',consolas,'Courier New',monospace\"><span style=\"font-weight: bold\">[</span>\n",
       "    <span style=\"color: #800080; text-decoration-color: #800080; font-weight: bold\">SVCConfig</span><span style=\"font-weight: bold\">(</span>\n",
       "        <span style=\"color: #808000; text-decoration-color: #808000\">C</span>=<span style=\"color: #008080; text-decoration-color: #008080; font-weight: bold\">0.1</span>,\n",
       "        <span style=\"color: #808000; text-decoration-color: #808000\">kernel</span>=<span style=\"color: #008000; text-decoration-color: #008000\">'rbf'</span>,\n",
       "        <span style=\"color: #808000; text-decoration-color: #808000\">gamma</span>=<span style=\"color: #008080; text-decoration-color: #008080; font-weight: bold\">51.507876944541934</span>,\n",
       "        <span style=\"color: #808000; text-decoration-color: #808000\">tol</span>=<span style=\"color: #008080; text-decoration-color: #008080; font-weight: bold\">0.00020088437736034392</span>,\n",
       "        <span style=\"color: #808000; text-decoration-color: #808000\">decision_function_shape</span>=<span style=\"color: #008000; text-decoration-color: #008000\">'ovr'</span>\n",
       "    <span style=\"font-weight: bold\">)</span>,\n",
       "    <span style=\"color: #800080; text-decoration-color: #800080; font-weight: bold\">SVCConfig</span><span style=\"font-weight: bold\">(</span>\n",
       "        <span style=\"color: #808000; text-decoration-color: #808000\">C</span>=<span style=\"color: #008080; text-decoration-color: #008080; font-weight: bold\">44.912802276015285</span>,\n",
       "        <span style=\"color: #808000; text-decoration-color: #808000\">kernel</span>=<span style=\"color: #008000; text-decoration-color: #008000\">'poly'</span>,\n",
       "        <span style=\"color: #808000; text-decoration-color: #808000\">gamma</span>=<span style=\"color: #008080; text-decoration-color: #008080; font-weight: bold\">43.09723529815674</span>,\n",
       "        <span style=\"color: #808000; text-decoration-color: #808000\">tol</span>=<span style=\"color: #008080; text-decoration-color: #008080; font-weight: bold\">1e-05</span>,\n",
       "        <span style=\"color: #808000; text-decoration-color: #808000\">decision_function_shape</span>=<span style=\"color: #008000; text-decoration-color: #008000\">'ovr'</span>\n",
       "    <span style=\"font-weight: bold\">)</span>,\n",
       "    <span style=\"color: #800080; text-decoration-color: #800080; font-weight: bold\">SVCConfig</span><span style=\"font-weight: bold\">(</span>\n",
       "        <span style=\"color: #808000; text-decoration-color: #808000\">C</span>=<span style=\"color: #008080; text-decoration-color: #008080; font-weight: bold\">74.49340569972992</span>,\n",
       "        <span style=\"color: #808000; text-decoration-color: #808000\">kernel</span>=<span style=\"color: #008000; text-decoration-color: #008000\">'linear'</span>,\n",
       "        <span style=\"color: #808000; text-decoration-color: #808000\">gamma</span>=<span style=\"color: #008080; text-decoration-color: #008080; font-weight: bold\">88.64154541492462</span>,\n",
       "        <span style=\"color: #808000; text-decoration-color: #808000\">tol</span>=<span style=\"color: #008080; text-decoration-color: #008080; font-weight: bold\">1e-05</span>,\n",
       "        <span style=\"color: #808000; text-decoration-color: #808000\">decision_function_shape</span>=<span style=\"color: #008000; text-decoration-color: #008000\">'ovr'</span>\n",
       "    <span style=\"font-weight: bold\">)</span>,\n",
       "    <span style=\"color: #800080; text-decoration-color: #800080; font-weight: bold\">SVCConfig</span><span style=\"font-weight: bold\">(</span>\n",
       "        <span style=\"color: #808000; text-decoration-color: #808000\">C</span>=<span style=\"color: #008080; text-decoration-color: #008080; font-weight: bold\">26.60792751312256</span>,\n",
       "        <span style=\"color: #808000; text-decoration-color: #808000\">kernel</span>=<span style=\"color: #008000; text-decoration-color: #008000\">'sigmoid'</span>,\n",
       "        <span style=\"color: #808000; text-decoration-color: #808000\">gamma</span>=<span style=\"color: #008080; text-decoration-color: #008080; font-weight: bold\">0.1</span>,\n",
       "        <span style=\"color: #808000; text-decoration-color: #808000\">tol</span>=<span style=\"color: #008080; text-decoration-color: #008080; font-weight: bold\">0.0007725453978776932</span>,\n",
       "        <span style=\"color: #808000; text-decoration-color: #808000\">decision_function_shape</span>=<span style=\"color: #008000; text-decoration-color: #008000\">'ovr'</span>\n",
       "    <span style=\"font-weight: bold\">)</span>,\n",
       "    <span style=\"color: #800080; text-decoration-color: #800080; font-weight: bold\">SVCConfig</span><span style=\"font-weight: bold\">(</span><span style=\"color: #808000; text-decoration-color: #808000\">C</span>=<span style=\"color: #008080; text-decoration-color: #008080; font-weight: bold\">33.36937995553017</span>, <span style=\"color: #808000; text-decoration-color: #808000\">kernel</span>=<span style=\"color: #008000; text-decoration-color: #008000\">'sigmoid'</span>, <span style=\"color: #808000; text-decoration-color: #808000\">gamma</span>=<span style=\"color: #008080; text-decoration-color: #008080; font-weight: bold\">100.0</span>, <span style=\"color: #808000; text-decoration-color: #808000\">tol</span>=<span style=\"color: #008080; text-decoration-color: #008080; font-weight: bold\">0.001</span>, <span style=\"color: #808000; text-decoration-color: #808000\">decision_function_shape</span>=<span style=\"color: #008000; text-decoration-color: #008000\">'ovo'</span><span style=\"font-weight: bold\">)</span>,\n",
       "    <span style=\"color: #800080; text-decoration-color: #800080; font-weight: bold\">SVCConfig</span><span style=\"font-weight: bold\">(</span>\n",
       "        <span style=\"color: #808000; text-decoration-color: #808000\">C</span>=<span style=\"color: #008080; text-decoration-color: #008080; font-weight: bold\">0.1</span>,\n",
       "        <span style=\"color: #808000; text-decoration-color: #808000\">kernel</span>=<span style=\"color: #008000; text-decoration-color: #008000\">'poly'</span>,\n",
       "        <span style=\"color: #808000; text-decoration-color: #808000\">gamma</span>=<span style=\"color: #008080; text-decoration-color: #008080; font-weight: bold\">28.95052764117718</span>,\n",
       "        <span style=\"color: #808000; text-decoration-color: #808000\">tol</span>=<span style=\"color: #008080; text-decoration-color: #008080; font-weight: bold\">0.00027595629632472994</span>,\n",
       "        <span style=\"color: #808000; text-decoration-color: #808000\">decision_function_shape</span>=<span style=\"color: #008000; text-decoration-color: #008000\">'ovr'</span>\n",
       "    <span style=\"font-weight: bold\">)</span>,\n",
       "    <span style=\"color: #800080; text-decoration-color: #800080; font-weight: bold\">SVCConfig</span><span style=\"font-weight: bold\">(</span>\n",
       "        <span style=\"color: #808000; text-decoration-color: #808000\">C</span>=<span style=\"color: #008080; text-decoration-color: #008080; font-weight: bold\">1.1538162112236023</span>,\n",
       "        <span style=\"color: #808000; text-decoration-color: #808000\">kernel</span>=<span style=\"color: #008000; text-decoration-color: #008000\">'sigmoid'</span>,\n",
       "        <span style=\"color: #808000; text-decoration-color: #808000\">gamma</span>=<span style=\"color: #008080; text-decoration-color: #008080; font-weight: bold\">55.965847373008735</span>,\n",
       "        <span style=\"color: #808000; text-decoration-color: #808000\">tol</span>=<span style=\"color: #008080; text-decoration-color: #008080; font-weight: bold\">1e-05</span>,\n",
       "        <span style=\"color: #808000; text-decoration-color: #808000\">decision_function_shape</span>=<span style=\"color: #008000; text-decoration-color: #008000\">'ovo'</span>\n",
       "    <span style=\"font-weight: bold\">)</span>,\n",
       "    <span style=\"color: #800080; text-decoration-color: #800080; font-weight: bold\">SVCConfig</span><span style=\"font-weight: bold\">(</span>\n",
       "        <span style=\"color: #808000; text-decoration-color: #808000\">C</span>=<span style=\"color: #008080; text-decoration-color: #008080; font-weight: bold\">76.03313325643539</span>,\n",
       "        <span style=\"color: #808000; text-decoration-color: #808000\">kernel</span>=<span style=\"color: #008000; text-decoration-color: #008000\">'sigmoid'</span>,\n",
       "        <span style=\"color: #808000; text-decoration-color: #808000\">gamma</span>=<span style=\"color: #008080; text-decoration-color: #008080; font-weight: bold\">0.1</span>,\n",
       "        <span style=\"color: #808000; text-decoration-color: #808000\">tol</span>=<span style=\"color: #008080; text-decoration-color: #008080; font-weight: bold\">0.0002843928146362305</span>,\n",
       "        <span style=\"color: #808000; text-decoration-color: #808000\">decision_function_shape</span>=<span style=\"color: #008000; text-decoration-color: #008000\">'ovo'</span>\n",
       "    <span style=\"font-weight: bold\">)</span>,\n",
       "    <span style=\"color: #800080; text-decoration-color: #800080; font-weight: bold\">SVCConfig</span><span style=\"font-weight: bold\">(</span>\n",
       "        <span style=\"color: #808000; text-decoration-color: #808000\">C</span>=<span style=\"color: #008080; text-decoration-color: #008080; font-weight: bold\">21.800984445214276</span>,\n",
       "        <span style=\"color: #808000; text-decoration-color: #808000\">kernel</span>=<span style=\"color: #008000; text-decoration-color: #008000\">'poly'</span>,\n",
       "        <span style=\"color: #808000; text-decoration-color: #808000\">gamma</span>=<span style=\"color: #008080; text-decoration-color: #008080; font-weight: bold\">100.0</span>,\n",
       "        <span style=\"color: #808000; text-decoration-color: #808000\">tol</span>=<span style=\"color: #008080; text-decoration-color: #008080; font-weight: bold\">0.0007234319514036179</span>,\n",
       "        <span style=\"color: #808000; text-decoration-color: #808000\">decision_function_shape</span>=<span style=\"color: #008000; text-decoration-color: #008000\">'ovr'</span>\n",
       "    <span style=\"font-weight: bold\">)</span>,\n",
       "    <span style=\"color: #800080; text-decoration-color: #800080; font-weight: bold\">SVCConfig</span><span style=\"font-weight: bold\">(</span>\n",
       "        <span style=\"color: #808000; text-decoration-color: #808000\">C</span>=<span style=\"color: #008080; text-decoration-color: #008080; font-weight: bold\">24.98831284195185</span>,\n",
       "        <span style=\"color: #808000; text-decoration-color: #808000\">kernel</span>=<span style=\"color: #008000; text-decoration-color: #008000\">'sigmoid'</span>,\n",
       "        <span style=\"color: #808000; text-decoration-color: #808000\">gamma</span>=<span style=\"color: #008080; text-decoration-color: #008080; font-weight: bold\">56.61217305660248</span>,\n",
       "        <span style=\"color: #808000; text-decoration-color: #808000\">tol</span>=<span style=\"color: #008080; text-decoration-color: #008080; font-weight: bold\">1e-05</span>,\n",
       "        <span style=\"color: #808000; text-decoration-color: #808000\">decision_function_shape</span>=<span style=\"color: #008000; text-decoration-color: #008000\">'ovo'</span>\n",
       "    <span style=\"font-weight: bold\">)</span>\n",
       "<span style=\"font-weight: bold\">]</span>\n",
       "</pre>\n"
      ],
      "text/plain": [
       "\u001b[1m[\u001b[0m\n",
       "    \u001b[1;35mSVCConfig\u001b[0m\u001b[1m(\u001b[0m\n",
       "        \u001b[33mC\u001b[0m=\u001b[1;36m0\u001b[0m\u001b[1;36m.1\u001b[0m,\n",
       "        \u001b[33mkernel\u001b[0m=\u001b[32m'rbf'\u001b[0m,\n",
       "        \u001b[33mgamma\u001b[0m=\u001b[1;36m51\u001b[0m\u001b[1;36m.507876944541934\u001b[0m,\n",
       "        \u001b[33mtol\u001b[0m=\u001b[1;36m0\u001b[0m\u001b[1;36m.00020088437736034392\u001b[0m,\n",
       "        \u001b[33mdecision_function_shape\u001b[0m=\u001b[32m'ovr'\u001b[0m\n",
       "    \u001b[1m)\u001b[0m,\n",
       "    \u001b[1;35mSVCConfig\u001b[0m\u001b[1m(\u001b[0m\n",
       "        \u001b[33mC\u001b[0m=\u001b[1;36m44\u001b[0m\u001b[1;36m.912802276015285\u001b[0m,\n",
       "        \u001b[33mkernel\u001b[0m=\u001b[32m'poly'\u001b[0m,\n",
       "        \u001b[33mgamma\u001b[0m=\u001b[1;36m43\u001b[0m\u001b[1;36m.09723529815674\u001b[0m,\n",
       "        \u001b[33mtol\u001b[0m=\u001b[1;36m1e\u001b[0m\u001b[1;36m-05\u001b[0m,\n",
       "        \u001b[33mdecision_function_shape\u001b[0m=\u001b[32m'ovr'\u001b[0m\n",
       "    \u001b[1m)\u001b[0m,\n",
       "    \u001b[1;35mSVCConfig\u001b[0m\u001b[1m(\u001b[0m\n",
       "        \u001b[33mC\u001b[0m=\u001b[1;36m74\u001b[0m\u001b[1;36m.49340569972992\u001b[0m,\n",
       "        \u001b[33mkernel\u001b[0m=\u001b[32m'linear'\u001b[0m,\n",
       "        \u001b[33mgamma\u001b[0m=\u001b[1;36m88\u001b[0m\u001b[1;36m.64154541492462\u001b[0m,\n",
       "        \u001b[33mtol\u001b[0m=\u001b[1;36m1e\u001b[0m\u001b[1;36m-05\u001b[0m,\n",
       "        \u001b[33mdecision_function_shape\u001b[0m=\u001b[32m'ovr'\u001b[0m\n",
       "    \u001b[1m)\u001b[0m,\n",
       "    \u001b[1;35mSVCConfig\u001b[0m\u001b[1m(\u001b[0m\n",
       "        \u001b[33mC\u001b[0m=\u001b[1;36m26\u001b[0m\u001b[1;36m.60792751312256\u001b[0m,\n",
       "        \u001b[33mkernel\u001b[0m=\u001b[32m'sigmoid'\u001b[0m,\n",
       "        \u001b[33mgamma\u001b[0m=\u001b[1;36m0\u001b[0m\u001b[1;36m.1\u001b[0m,\n",
       "        \u001b[33mtol\u001b[0m=\u001b[1;36m0\u001b[0m\u001b[1;36m.0007725453978776932\u001b[0m,\n",
       "        \u001b[33mdecision_function_shape\u001b[0m=\u001b[32m'ovr'\u001b[0m\n",
       "    \u001b[1m)\u001b[0m,\n",
       "    \u001b[1;35mSVCConfig\u001b[0m\u001b[1m(\u001b[0m\u001b[33mC\u001b[0m=\u001b[1;36m33\u001b[0m\u001b[1;36m.36937995553017\u001b[0m, \u001b[33mkernel\u001b[0m=\u001b[32m'sigmoid'\u001b[0m, \u001b[33mgamma\u001b[0m=\u001b[1;36m100\u001b[0m\u001b[1;36m.0\u001b[0m, \u001b[33mtol\u001b[0m=\u001b[1;36m0\u001b[0m\u001b[1;36m.001\u001b[0m, \u001b[33mdecision_function_shape\u001b[0m=\u001b[32m'ovo'\u001b[0m\u001b[1m)\u001b[0m,\n",
       "    \u001b[1;35mSVCConfig\u001b[0m\u001b[1m(\u001b[0m\n",
       "        \u001b[33mC\u001b[0m=\u001b[1;36m0\u001b[0m\u001b[1;36m.1\u001b[0m,\n",
       "        \u001b[33mkernel\u001b[0m=\u001b[32m'poly'\u001b[0m,\n",
       "        \u001b[33mgamma\u001b[0m=\u001b[1;36m28\u001b[0m\u001b[1;36m.95052764117718\u001b[0m,\n",
       "        \u001b[33mtol\u001b[0m=\u001b[1;36m0\u001b[0m\u001b[1;36m.00027595629632472994\u001b[0m,\n",
       "        \u001b[33mdecision_function_shape\u001b[0m=\u001b[32m'ovr'\u001b[0m\n",
       "    \u001b[1m)\u001b[0m,\n",
       "    \u001b[1;35mSVCConfig\u001b[0m\u001b[1m(\u001b[0m\n",
       "        \u001b[33mC\u001b[0m=\u001b[1;36m1\u001b[0m\u001b[1;36m.1538162112236023\u001b[0m,\n",
       "        \u001b[33mkernel\u001b[0m=\u001b[32m'sigmoid'\u001b[0m,\n",
       "        \u001b[33mgamma\u001b[0m=\u001b[1;36m55\u001b[0m\u001b[1;36m.965847373008735\u001b[0m,\n",
       "        \u001b[33mtol\u001b[0m=\u001b[1;36m1e\u001b[0m\u001b[1;36m-05\u001b[0m,\n",
       "        \u001b[33mdecision_function_shape\u001b[0m=\u001b[32m'ovo'\u001b[0m\n",
       "    \u001b[1m)\u001b[0m,\n",
       "    \u001b[1;35mSVCConfig\u001b[0m\u001b[1m(\u001b[0m\n",
       "        \u001b[33mC\u001b[0m=\u001b[1;36m76\u001b[0m\u001b[1;36m.03313325643539\u001b[0m,\n",
       "        \u001b[33mkernel\u001b[0m=\u001b[32m'sigmoid'\u001b[0m,\n",
       "        \u001b[33mgamma\u001b[0m=\u001b[1;36m0\u001b[0m\u001b[1;36m.1\u001b[0m,\n",
       "        \u001b[33mtol\u001b[0m=\u001b[1;36m0\u001b[0m\u001b[1;36m.0002843928146362305\u001b[0m,\n",
       "        \u001b[33mdecision_function_shape\u001b[0m=\u001b[32m'ovo'\u001b[0m\n",
       "    \u001b[1m)\u001b[0m,\n",
       "    \u001b[1;35mSVCConfig\u001b[0m\u001b[1m(\u001b[0m\n",
       "        \u001b[33mC\u001b[0m=\u001b[1;36m21\u001b[0m\u001b[1;36m.800984445214276\u001b[0m,\n",
       "        \u001b[33mkernel\u001b[0m=\u001b[32m'poly'\u001b[0m,\n",
       "        \u001b[33mgamma\u001b[0m=\u001b[1;36m100\u001b[0m\u001b[1;36m.0\u001b[0m,\n",
       "        \u001b[33mtol\u001b[0m=\u001b[1;36m0\u001b[0m\u001b[1;36m.0007234319514036179\u001b[0m,\n",
       "        \u001b[33mdecision_function_shape\u001b[0m=\u001b[32m'ovr'\u001b[0m\n",
       "    \u001b[1m)\u001b[0m,\n",
       "    \u001b[1;35mSVCConfig\u001b[0m\u001b[1m(\u001b[0m\n",
       "        \u001b[33mC\u001b[0m=\u001b[1;36m24\u001b[0m\u001b[1;36m.98831284195185\u001b[0m,\n",
       "        \u001b[33mkernel\u001b[0m=\u001b[32m'sigmoid'\u001b[0m,\n",
       "        \u001b[33mgamma\u001b[0m=\u001b[1;36m56\u001b[0m\u001b[1;36m.61217305660248\u001b[0m,\n",
       "        \u001b[33mtol\u001b[0m=\u001b[1;36m1e\u001b[0m\u001b[1;36m-05\u001b[0m,\n",
       "        \u001b[33mdecision_function_shape\u001b[0m=\u001b[32m'ovo'\u001b[0m\n",
       "    \u001b[1m)\u001b[0m\n",
       "\u001b[1m]\u001b[0m\n"
      ]
     },
     "metadata": {},
     "output_type": "display_data"
    }
   ],
   "source": [
    "from linguaml.rl.state import StateConfig, State, BatchedStates\n",
    "import random\n",
    "\n",
    "# Set the look back period\n",
    "StateConfig.lookback = 5\n",
    "\n",
    "# Generate a list of random states\n",
    "states = generate_random_states(10)\n",
    "\n",
    "# Convert to batched states\n",
    "batched_states = BatchedStates.from_states(states)\n",
    "print(f\"shape of data of batched states: {batched_states.data.shape}\")\n",
    "\n",
    "# Select actions\n",
    "batched_actions = agent.select_action(batched_states)\n",
    "print(batched_actions)\n",
    "print(batched_actions.to_hp_configs())"
   ]
  },
  {
   "cell_type": "markdown",
   "metadata": {},
   "source": [
    "## Log-Probabilities"
   ]
  },
  {
   "cell_type": "markdown",
   "metadata": {},
   "source": [
    "### Single Data"
   ]
  },
  {
   "cell_type": "code",
   "execution_count": 39,
   "metadata": {},
   "outputs": [],
   "source": [
    "from linguaml.rl.agent import Agent, ContinuousDistributionFamily\n",
    "from linguaml.tolearn.family import Family\n",
    "\n",
    "# Create an agent\n",
    "agent = Agent(\n",
    "    family=Family.SVC,\n",
    "    numeric_hp_bounds={\n",
    "        \"C\": (0.1, 100),\n",
    "        \"gamma\": (0.1, 100),\n",
    "        \"tol\": (1e-5, 1e-3)\n",
    "    },\n",
    "    hidden_size=128,\n",
    "    cont_dist_family=ContinuousDistributionFamily.NORMAL\n",
    ")\n",
    "\n",
    "# Create a random state\n",
    "state = generate_random_state()\n",
    "\n",
    "# Select an action\n",
    "action = agent.select_action(state)"
   ]
  },
  {
   "cell_type": "markdown",
   "metadata": {},
   "source": [
    "Without providing the argument `state` in agent's method `log_prob`, we compute the log-probability of the action taken based on the latest state:"
   ]
  },
  {
   "cell_type": "code",
   "execution_count": 42,
   "metadata": {},
   "outputs": [
    {
     "data": {
      "text/html": [
       "<pre style=\"white-space:pre;overflow-x:auto;line-height:normal;font-family:Menlo,'DejaVu Sans Mono',consolas,'Courier New',monospace\"><span style=\"color: #800080; text-decoration-color: #800080; font-weight: bold\">tensor</span><span style=\"font-weight: bold\">(</span><span style=\"color: #008080; text-decoration-color: #008080; font-weight: bold\">-3.5283</span>, <span style=\"color: #808000; text-decoration-color: #808000\">grad_fn</span>=<span style=\"font-weight: bold\">&lt;</span><span style=\"color: #ff00ff; text-decoration-color: #ff00ff; font-weight: bold\">SumBackward1</span><span style=\"font-weight: bold\">&gt;)</span>\n",
       "</pre>\n"
      ],
      "text/plain": [
       "\u001b[1;35mtensor\u001b[0m\u001b[1m(\u001b[0m\u001b[1;36m-3.5283\u001b[0m, \u001b[33mgrad_fn\u001b[0m=\u001b[1m<\u001b[0m\u001b[1;95mSumBackward1\u001b[0m\u001b[1m>\u001b[0m\u001b[1m)\u001b[0m\n"
      ]
     },
     "metadata": {},
     "output_type": "display_data"
    }
   ],
   "source": [
    "# Get the log probability of the action based on the latest state\n",
    "log_prob = agent.log_prob(action)\n",
    "\n",
    "print(log_prob)"
   ]
  },
  {
   "cell_type": "markdown",
   "metadata": {},
   "source": [
    "Of course, this is equivalent to:"
   ]
  },
  {
   "cell_type": "code",
   "execution_count": 43,
   "metadata": {},
   "outputs": [
    {
     "data": {
      "text/html": [
       "<pre style=\"white-space:pre;overflow-x:auto;line-height:normal;font-family:Menlo,'DejaVu Sans Mono',consolas,'Courier New',monospace\"><span style=\"color: #800080; text-decoration-color: #800080; font-weight: bold\">tensor</span><span style=\"font-weight: bold\">(</span><span style=\"color: #008080; text-decoration-color: #008080; font-weight: bold\">-3.5283</span>, <span style=\"color: #808000; text-decoration-color: #808000\">grad_fn</span>=<span style=\"font-weight: bold\">&lt;</span><span style=\"color: #ff00ff; text-decoration-color: #ff00ff; font-weight: bold\">SumBackward1</span><span style=\"font-weight: bold\">&gt;)</span>\n",
       "</pre>\n"
      ],
      "text/plain": [
       "\u001b[1;35mtensor\u001b[0m\u001b[1m(\u001b[0m\u001b[1;36m-3.5283\u001b[0m, \u001b[33mgrad_fn\u001b[0m=\u001b[1m<\u001b[0m\u001b[1;95mSumBackward1\u001b[0m\u001b[1m>\u001b[0m\u001b[1m)\u001b[0m\n"
      ]
     },
     "metadata": {},
     "output_type": "display_data"
    }
   ],
   "source": [
    "# Get the log probability of the action based on the provided state\n",
    "log_prob = agent.log_prob(action, state)\n",
    "\n",
    "print(log_prob)"
   ]
  },
  {
   "cell_type": "markdown",
   "metadata": {},
   "source": [
    "But by passing the `state`, the agent regenerated the distributions for selecting the actions by calling the `forward` method. Hence, you may neglect the argument `state` and save some time if you indeed want to compute the log-probability based on the latest state."
   ]
  },
  {
   "cell_type": "markdown",
   "metadata": {},
   "source": [
    "### Batched Data"
   ]
  },
  {
   "cell_type": "code",
   "execution_count": 44,
   "metadata": {},
   "outputs": [
    {
     "data": {
      "text/html": [
       "<pre style=\"white-space:pre;overflow-x:auto;line-height:normal;font-family:Menlo,'DejaVu Sans Mono',consolas,'Courier New',monospace\"><span style=\"color: #800080; text-decoration-color: #800080; font-weight: bold\">tensor</span><span style=\"font-weight: bold\">([</span><span style=\"color: #008080; text-decoration-color: #008080; font-weight: bold\">-3.7806</span>, <span style=\"color: #008080; text-decoration-color: #008080; font-weight: bold\">-3.1261</span>, <span style=\"color: #008080; text-decoration-color: #008080; font-weight: bold\">-3.6266</span>, <span style=\"color: #008080; text-decoration-color: #008080; font-weight: bold\">-3.9272</span>, <span style=\"color: #008080; text-decoration-color: #008080; font-weight: bold\">-3.4137</span>, <span style=\"color: #008080; text-decoration-color: #008080; font-weight: bold\">-3.3805</span>, <span style=\"color: #008080; text-decoration-color: #008080; font-weight: bold\">-4.0454</span>, <span style=\"color: #008080; text-decoration-color: #008080; font-weight: bold\">-3.8760</span>,\n",
       "        <span style=\"color: #008080; text-decoration-color: #008080; font-weight: bold\">-3.6255</span>, <span style=\"color: #008080; text-decoration-color: #008080; font-weight: bold\">-3.4482</span><span style=\"font-weight: bold\">]</span>, <span style=\"color: #808000; text-decoration-color: #808000\">grad_fn</span>=<span style=\"font-weight: bold\">&lt;</span><span style=\"color: #ff00ff; text-decoration-color: #ff00ff; font-weight: bold\">SumBackward1</span><span style=\"font-weight: bold\">&gt;)</span>\n",
       "</pre>\n"
      ],
      "text/plain": [
       "\u001b[1;35mtensor\u001b[0m\u001b[1m(\u001b[0m\u001b[1m[\u001b[0m\u001b[1;36m-3.7806\u001b[0m, \u001b[1;36m-3.1261\u001b[0m, \u001b[1;36m-3.6266\u001b[0m, \u001b[1;36m-3.9272\u001b[0m, \u001b[1;36m-3.4137\u001b[0m, \u001b[1;36m-3.3805\u001b[0m, \u001b[1;36m-4.0454\u001b[0m, \u001b[1;36m-3.8760\u001b[0m,\n",
       "        \u001b[1;36m-3.6255\u001b[0m, \u001b[1;36m-3.4482\u001b[0m\u001b[1m]\u001b[0m, \u001b[33mgrad_fn\u001b[0m=\u001b[1m<\u001b[0m\u001b[1;95mSumBackward1\u001b[0m\u001b[1m>\u001b[0m\u001b[1m)\u001b[0m\n"
      ]
     },
     "metadata": {},
     "output_type": "display_data"
    }
   ],
   "source": [
    "from linguaml.rl.agent import Agent\n",
    "from linguaml.tolearn.family import Family\n",
    "from linguaml.rl.state import BatchedStates\n",
    "\n",
    "# Create an agent\n",
    "agent = Agent(\n",
    "    family=Family.SVC,\n",
    "    numeric_hp_bounds={\n",
    "        \"C\": (0.1, 100),\n",
    "        \"gamma\": (0.1, 100),\n",
    "        \"tol\": (1e-5, 1e-3)\n",
    "    },\n",
    "    hidden_size=128,\n",
    "    cont_dist_family=ContinuousDistributionFamily.NORMAL\n",
    ")\n",
    "\n",
    "\n",
    "# Create a random batch of states\n",
    "batched_states = BatchedStates.from_states(generate_random_states(10))\n",
    "\n",
    "# Select batched actions\n",
    "batched_actions = agent.select_action(batched_states)\n",
    "\n",
    "# Compute the log probabilities of the batched actions\n",
    "log_probs = agent.log_prob(batched_actions)\n",
    "\n",
    "print(log_probs)"
   ]
  },
  {
   "cell_type": "code",
   "execution_count": null,
   "metadata": {},
   "outputs": [],
   "source": []
  }
 ],
 "metadata": {
  "kernelspec": {
   "display_name": "linguaml-OS06el3p-py3.11",
   "language": "python",
   "name": "python3"
  },
  "language_info": {
   "codemirror_mode": {
    "name": "ipython",
    "version": 3
   },
   "file_extension": ".py",
   "mimetype": "text/x-python",
   "name": "python",
   "nbconvert_exporter": "python",
   "pygments_lexer": "ipython3",
   "version": "3.11.0"
  }
 },
 "nbformat": 4,
 "nbformat_minor": 2
}
