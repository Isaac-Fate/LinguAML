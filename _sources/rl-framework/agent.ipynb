{
 "cells": [
  {
   "cell_type": "code",
   "execution_count": 6,
   "metadata": {},
   "outputs": [],
   "source": [
    "from linguaml.rl.agent import Agent\n",
    "from linguaml.rl.state import State, BatchedStates\n",
    "from linguaml.rl.action import Action\n",
    "from linguaml.tolearn.family import Family"
   ]
  },
  {
   "cell_type": "code",
   "execution_count": null,
   "metadata": {},
   "outputs": [],
   "source": [
    "class A:\n",
    "    \n",
    "    class Action(Action):\n",
    "        def __init__(self, data):\n",
    "            super().__init__(data)\n",
    "    \n",
    "    def __init__(self) -> None:\n",
    "        \n",
    "        self.__class__.Action.family = \n",
    "    \n",
    "    def select_action(self) -> Action:\n",
    "        return self.Action(1)"
   ]
  },
  {
   "cell_type": "code",
   "execution_count": null,
   "metadata": {},
   "outputs": [],
   "source": [
    "from linguaml.tolearn.families import SVCFamily\n",
    "\n",
    "agent = Agent(\n",
    "    SVCFamily\n",
    ")"
   ]
  },
  {
   "cell_type": "code",
   "execution_count": null,
   "metadata": {},
   "outputs": [],
   "source": [
    "from functools import partial\n",
    "from linguaml.types import Number, NumberList, is_number_list\n",
    "\n",
    "is_number_list([1, 2, 3.0])"
   ]
  },
  {
   "cell_type": "markdown",
   "metadata": {},
   "source": [
    "## Selecting Actions"
   ]
  },
  {
   "cell_type": "markdown",
   "metadata": {},
   "source": [
    "### Single Action"
   ]
  },
  {
   "cell_type": "code",
   "execution_count": 5,
   "metadata": {},
   "outputs": [
    {
     "ename": "TypeError",
     "evalue": "Agent.__init__() missing 1 required positional argument: 'numeric_hp_bounds'",
     "output_type": "error",
     "traceback": [
      "\u001b[0;31m---------------------------------------------------------------------------\u001b[0m",
      "\u001b[0;31mTypeError\u001b[0m                                 Traceback (most recent call last)",
      "\u001b[1;32m/Users/isaac/Developer/py-projects/linguAML/book/rl-framework/agent.ipynb Cell 6\u001b[0m line \u001b[0;36m1\n\u001b[1;32m      <a href='vscode-notebook-cell:/Users/isaac/Developer/py-projects/linguAML/book/rl-framework/agent.ipynb#X11sZmlsZQ%3D%3D?line=6'>7</a>\u001b[0m State\u001b[39m.\u001b[39mn_time_steps \u001b[39m=\u001b[39m \u001b[39m10\u001b[39m\n\u001b[1;32m      <a href='vscode-notebook-cell:/Users/isaac/Developer/py-projects/linguAML/book/rl-framework/agent.ipynb#X11sZmlsZQ%3D%3D?line=7'>8</a>\u001b[0m state \u001b[39m=\u001b[39m State(np\u001b[39m.\u001b[39mrandom\u001b[39m.\u001b[39mrand(State\u001b[39m.\u001b[39mn_time_steps, calc_n_state_features(SVCFamily)))\n\u001b[0;32m---> <a href='vscode-notebook-cell:/Users/isaac/Developer/py-projects/linguAML/book/rl-framework/agent.ipynb#X11sZmlsZQ%3D%3D?line=9'>10</a>\u001b[0m agent \u001b[39m=\u001b[39m Agent(SVCFamily)\n\u001b[1;32m     <a href='vscode-notebook-cell:/Users/isaac/Developer/py-projects/linguAML/book/rl-framework/agent.ipynb#X11sZmlsZQ%3D%3D?line=10'>11</a>\u001b[0m agent\u001b[39m.\u001b[39mselect_action(state)\n",
      "\u001b[0;31mTypeError\u001b[0m: Agent.__init__() missing 1 required positional argument: 'numeric_hp_bounds'"
     ]
    }
   ],
   "source": [
    "import numpy as np\n",
    "\n",
    "from linguaml.tolearn.families import SVCFamily\n",
    "from linguaml.rl.state import State, calc_n_state_features\n",
    "from linguaml.rl.agent import Agent\n",
    "\n",
    "State.n_time_steps = 10\n",
    "state = State(np.random.rand(State.n_time_steps, calc_n_state_features(SVCFamily)))\n",
    "\n",
    "agent = Agent(SVCFamily)\n",
    "agent.select_action(state)"
   ]
  },
  {
   "cell_type": "code",
   "execution_count": null,
   "metadata": {},
   "outputs": [],
   "source": [
    "len(np.array([1, 2, 3 ]).shape)"
   ]
  },
  {
   "cell_type": "code",
   "execution_count": null,
   "metadata": {},
   "outputs": [],
   "source": [
    "len(np.array(1).shape)"
   ]
  },
  {
   "cell_type": "markdown",
   "metadata": {},
   "source": [
    "### Batched Actions"
   ]
  },
  {
   "cell_type": "code",
   "execution_count": null,
   "metadata": {},
   "outputs": [],
   "source": [
    "import numpy as np\n",
    "\n",
    "from linguaml.tolearn.families import SVCFamily\n",
    "from linguaml.rl.state import BatchedStates, calc_n_state_features\n",
    "from linguaml.rl import state\n",
    "from linguaml.rl.state import BatchedStates\n",
    "from linguaml.rl.agent import Agent\n",
    "\n",
    "state.n_time_steps = 10\n",
    "batched_states = BatchedStates(\n",
    "    np.random.rand(\n",
    "        10, \n",
    "        state.n_time_steps, \n",
    "        calc_n_state_features(SVCFamily)\n",
    "    )\n",
    ")\n",
    "\n",
    "agent = Agent(\n",
    "    SVCFamily,\n",
    "    numeric_hp_bounds={\n",
    "        \"C\": (0.1, 100),\n",
    "        \"gamma\": (1e-3, 0.1),\n",
    "        \"tol\": (1e-5, 1e-1),\n",
    "    }\n",
    ")\n",
    "batched_actions = agent.select_action(batched_states)\n",
    "\n",
    "batched_actions"
   ]
  },
  {
   "cell_type": "code",
   "execution_count": null,
   "metadata": {},
   "outputs": [],
   "source": [
    "batched_actions.to_hp_configs(\n",
    "    agent.family,\n",
    "    agent.numeric_hp_bounds\n",
    ")"
   ]
  },
  {
   "cell_type": "markdown",
   "metadata": {},
   "source": [
    "## Log-Probabilities"
   ]
  },
  {
   "cell_type": "markdown",
   "metadata": {},
   "source": [
    "### Single Data"
   ]
  },
  {
   "cell_type": "code",
   "execution_count": 1,
   "metadata": {},
   "outputs": [
    {
     "data": {
      "text/plain": [
       "{'C': 1.0,\n",
       " 'kernel': 0,\n",
       " 'gamma': 0.0,\n",
       " 'tol': 0.25867778062820435,\n",
       " 'decision_function_shape': 0}"
      ]
     },
     "execution_count": 1,
     "metadata": {},
     "output_type": "execute_result"
    }
   ],
   "source": [
    "from linguaml.rl.agent import Agent\n",
    "from linguaml.tolearn.families import SVCFamily\n",
    "from linguaml.rl.state import State, set_state_time_steps, calc_n_state_features, n_time_steps\n",
    "\n",
    "import numpy as np\n",
    "\n",
    "# Set the number of time steps for the state\n",
    "set_state_time_steps(10)\n",
    "\n",
    "# Create a random state\n",
    "state = State(\n",
    "    np.random.rand(\n",
    "        n_time_steps, \n",
    "        calc_n_state_features(SVCFamily)\n",
    "    )\n",
    ")\n",
    "\n",
    "# Create an agent\n",
    "agent = Agent(\n",
    "    SVCFamily,\n",
    "    numeric_hp_bounds={\n",
    "        \"C\": (0.1, 100),\n",
    "        \"gamma\": (1e-3, 0.1),\n",
    "        \"tol\": (1e-5, 1e-1),\n",
    "    }\n",
    ")\n",
    "\n",
    "# Select an action\n",
    "action = agent.select_action(state)\n",
    "\n",
    "action"
   ]
  },
  {
   "cell_type": "markdown",
   "metadata": {},
   "source": [
    "Without providing the argument `state` in agent's method `log_prob`, we compute the log-probability of the action taken based on the latest state:"
   ]
  },
  {
   "cell_type": "code",
   "execution_count": 2,
   "metadata": {},
   "outputs": [
    {
     "data": {
      "text/plain": [
       "tensor(-3.9092, grad_fn=<SumBackward1>)"
      ]
     },
     "execution_count": 2,
     "metadata": {},
     "output_type": "execute_result"
    }
   ],
   "source": [
    "# Get the log probability of the action based on the latest state\n",
    "log_prob = agent.log_prob(action)\n",
    "\n",
    "log_prob"
   ]
  },
  {
   "cell_type": "markdown",
   "metadata": {},
   "source": [
    "Of course, this is equivalent to:"
   ]
  },
  {
   "cell_type": "code",
   "execution_count": 3,
   "metadata": {},
   "outputs": [
    {
     "data": {
      "text/plain": [
       "tensor(-3.9092, grad_fn=<SumBackward1>)"
      ]
     },
     "execution_count": 3,
     "metadata": {},
     "output_type": "execute_result"
    }
   ],
   "source": [
    "# Get the log probability of the action based on the provided state\n",
    "log_prob = agent.log_prob(action, state)\n",
    "\n",
    "log_prob"
   ]
  },
  {
   "cell_type": "markdown",
   "metadata": {},
   "source": [
    "But by passing the `state`, the agent regenerated the distributions for selecting the actions by calling the `forward` method. Hence, you may neglect the argument `state` and save some time if you indeed want to compute the log-probability based on the latest state."
   ]
  },
  {
   "cell_type": "markdown",
   "metadata": {},
   "source": [
    "### Batched Data"
   ]
  },
  {
   "cell_type": "code",
   "execution_count": 4,
   "metadata": {},
   "outputs": [
    {
     "data": {
      "text/plain": [
       "tensor([-4.0706, -3.3700, -3.2919, -3.2556, -3.6127], grad_fn=<SumBackward1>)"
      ]
     },
     "execution_count": 4,
     "metadata": {},
     "output_type": "execute_result"
    }
   ],
   "source": [
    "from linguaml.rl.agent import Agent\n",
    "from linguaml.tolearn.families import SVCFamily\n",
    "from linguaml.rl.state import BatchedStates, set_state_time_steps, calc_n_state_features, n_time_steps\n",
    "\n",
    "import numpy as np\n",
    "\n",
    "# Set the number of time steps for the state\n",
    "set_state_time_steps(10)\n",
    "\n",
    "# Create a random batch of states\n",
    "batched_states = BatchedStates(\n",
    "    np.random.rand(\n",
    "        5,\n",
    "        n_time_steps, \n",
    "        calc_n_state_features(SVCFamily)\n",
    "    )\n",
    ")\n",
    "\n",
    "# Create an agent\n",
    "agent = Agent(\n",
    "    SVCFamily,\n",
    "    numeric_hp_bounds={\n",
    "        \"C\": (0.1, 100),\n",
    "        \"gamma\": (1e-3, 0.1),\n",
    "        \"tol\": (1e-5, 1e-1),\n",
    "    }\n",
    ")\n",
    "\n",
    "# Select batched actions\n",
    "batched_actions = agent.select_action(batched_states)\n",
    "\n",
    "# Compute the log probabilities of the batched actions\n",
    "log_probs = agent.log_prob(batched_actions)\n",
    "\n",
    "log_probs"
   ]
  },
  {
   "cell_type": "code",
   "execution_count": null,
   "metadata": {},
   "outputs": [],
   "source": []
  }
 ],
 "metadata": {
  "kernelspec": {
   "display_name": "linguaml-OS06el3p-py3.11",
   "language": "python",
   "name": "python3"
  },
  "language_info": {
   "codemirror_mode": {
    "name": "ipython",
    "version": 3
   },
   "file_extension": ".py",
   "mimetype": "text/x-python",
   "name": "python",
   "nbconvert_exporter": "python",
   "pygments_lexer": "ipython3",
   "version": "3.11.0"
  }
 },
 "nbformat": 4,
 "nbformat_minor": 2
}
