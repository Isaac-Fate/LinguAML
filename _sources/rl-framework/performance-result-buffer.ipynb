{
 "cells": [
  {
   "cell_type": "markdown",
   "metadata": {},
   "source": [
    "# Performance Result Buffer"
   ]
  },
  {
   "cell_type": "markdown",
   "metadata": {},
   "source": [
    "We need to keep track of the first several best-performing hyperparameter configurations of the model. These top configurations are stored in the hyperparameter configuration buffer."
   ]
  },
  {
   "cell_type": "markdown",
   "metadata": {},
   "source": [
    "## Priority Queue"
   ]
  },
  {
   "cell_type": "markdown",
   "metadata": {},
   "source": [
    "Since the tuning results should be ordered by the accuracy of the model with a certain hyperparameter configuration setting on the validation dataset, the internal implementation of the tuning result buffer should be a priority queue."
   ]
  },
  {
   "cell_type": "markdown",
   "metadata": {},
   "source": [
    "We implemented our own `PriorityQueue`."
   ]
  },
  {
   "cell_type": "markdown",
   "metadata": {},
   "source": [
    "Suppose we have the following tuning results:"
   ]
  },
  {
   "cell_type": "code",
   "execution_count": 1,
   "metadata": {},
   "outputs": [],
   "source": [
    "from linguaml.families import SVCFamily\n",
    "\n",
    "result1 = {\n",
    "    \"hp_config\": SVCFamily.hp()(\n",
    "        C=0.1,\n",
    "        tol=0.01,\n",
    "        gamma=0.01,\n",
    "        kernel=\"linear\",\n",
    "        decision_function_shape=\"ovo\"\n",
    "    ),\n",
    "    \"accuracy\": 0.6\n",
    "}\n",
    "\n",
    "result2 = {\n",
    "    \"hp_config\": SVCFamily.hp()(\n",
    "        C=10,\n",
    "        tol=0.01,\n",
    "        gamma=0.1,\n",
    "        kernel=\"linear\",\n",
    "        decision_function_shape=\"ovo\"\n",
    "    ),\n",
    "    \"accuracy\": 0.9\n",
    "}\n",
    "\n",
    "result3 = {\n",
    "    \"hp_config\": SVCFamily.hp()(\n",
    "        C=1000,\n",
    "        tol=0.01,\n",
    "        gamma=0.1,\n",
    "        kernel=\"rbf\",\n",
    "        decision_function_shape=\"ovr\"\n",
    "    ),\n",
    "    \"accuracy\": 0.7\n",
    "}\n"
   ]
  },
  {
   "cell_type": "markdown",
   "metadata": {},
   "source": [
    "To put them into a priority queue, you must first define the order. You may do so by initializing the priority queue with a function that defines how the priority of an item is calculated."
   ]
  },
  {
   "cell_type": "markdown",
   "metadata": {},
   "source": [
    "You can then push each result into the priority queue."
   ]
  },
  {
   "cell_type": "code",
   "execution_count": 16,
   "metadata": {},
   "outputs": [],
   "source": [
    "from linguaml.data.priority_queue import PriorityQueue\n",
    "\n",
    "# Creates an empry queue\n",
    "q = PriorityQueue(\n",
    "    get_priority=lambda result: -result[\"accuracy\"]\n",
    ")\n",
    "\n",
    "# Push items\n",
    "q.push(result1)\n",
    "q.push(result2)\n",
    "q.push(result3)"
   ]
  },
  {
   "cell_type": "markdown",
   "metadata": {},
   "source": [
    "The method `peek_first_n_items` returns the first several items with the highest priorities."
   ]
  },
  {
   "cell_type": "code",
   "execution_count": 17,
   "metadata": {},
   "outputs": [
    {
     "data": {
      "text/plain": [
       "[{'hp_config': SVCConfig(C=10.0, kernel='linear', gamma=0.1, tol=0.01, decision_function_shape='ovo'),\n",
       "  'accuracy': 0.9},\n",
       " {'hp_config': SVCConfig(C=1000.0, kernel='rbf', gamma=0.1, tol=0.01, decision_function_shape='ovr'),\n",
       "  'accuracy': 0.7},\n",
       " {'hp_config': SVCConfig(C=0.1, kernel='linear', gamma=0.01, tol=0.01, decision_function_shape='ovo'),\n",
       "  'accuracy': 0.6}]"
      ]
     },
     "execution_count": 17,
     "metadata": {},
     "output_type": "execute_result"
    }
   ],
   "source": [
    "q.peek_first_n_items(3)"
   ]
  },
  {
   "cell_type": "markdown",
   "metadata": {},
   "source": [
    "If you wish to push a list of items, you may use the `extend` method."
   ]
  },
  {
   "cell_type": "code",
   "execution_count": 18,
   "metadata": {},
   "outputs": [
    {
     "data": {
      "text/plain": [
       "[{'hp_config': SVCConfig(C=10.0, kernel='linear', gamma=0.1, tol=0.01, decision_function_shape='ovo'),\n",
       "  'accuracy': 0.9},\n",
       " {'hp_config': SVCConfig(C=1000.0, kernel='rbf', gamma=0.1, tol=0.01, decision_function_shape='ovr'),\n",
       "  'accuracy': 0.7},\n",
       " {'hp_config': SVCConfig(C=0.1, kernel='linear', gamma=0.01, tol=0.01, decision_function_shape='ovo'),\n",
       "  'accuracy': 0.6}]"
      ]
     },
     "execution_count": 18,
     "metadata": {},
     "output_type": "execute_result"
    }
   ],
   "source": [
    "q = PriorityQueue(\n",
    "    get_priority=lambda result: -result[\"accuracy\"]\n",
    ")\n",
    "\n",
    "q.extend([\n",
    "    result1,\n",
    "    result2,\n",
    "    result3\n",
    "])\n",
    "\n",
    "q.peek_first_n_items(3)"
   ]
  },
  {
   "cell_type": "code",
   "execution_count": null,
   "metadata": {},
   "outputs": [],
   "source": []
  }
 ],
 "metadata": {
  "kernelspec": {
   "display_name": "linguaml-OS06el3p-py3.11",
   "language": "python",
   "name": "python3"
  },
  "language_info": {
   "codemirror_mode": {
    "name": "ipython",
    "version": 3
   },
   "file_extension": ".py",
   "mimetype": "text/x-python",
   "name": "python",
   "nbconvert_exporter": "python",
   "pygments_lexer": "ipython3",
   "version": "3.11.0"
  }
 },
 "nbformat": 4,
 "nbformat_minor": 2
}
