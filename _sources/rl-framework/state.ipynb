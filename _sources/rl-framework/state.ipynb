{
 "cells": [
  {
   "cell_type": "markdown",
   "metadata": {},
   "source": [
    "# State"
   ]
  },
  {
   "cell_type": "markdown",
   "metadata": {},
   "source": [
    "## State Configuration"
   ]
  },
  {
   "cell_type": "markdown",
   "metadata": {},
   "source": [
    "Before creating `State` or `BatchedStates` instances, you need to set up the abstract class `StateConfig`."
   ]
  },
  {
   "cell_type": "code",
   "execution_count": 1,
   "metadata": {},
   "outputs": [],
   "source": [
    "from linguaml.rl.state import StateConfig\n",
    "\n",
    "StateConfig.lookback = 5"
   ]
  },
  {
   "cell_type": "markdown",
   "metadata": {},
   "source": [
    "The `lookback` attribute is the number of hyperparameters the agent will look back before selecting an action."
   ]
  },
  {
   "cell_type": "markdown",
   "metadata": {},
   "source": [
    "## State Unit"
   ]
  },
  {
   "cell_type": "code",
   "execution_count": 2,
   "metadata": {},
   "outputs": [
    {
     "data": {
      "text/html": [
       "<pre style=\"white-space:pre;overflow-x:auto;line-height:normal;font-family:Menlo,'DejaVu Sans Mono',consolas,'Courier New',monospace\"><span style=\"font-weight: bold\">{</span><span style=\"color: #008000; text-decoration-color: #008000\">'C'</span>: <span style=\"color: #008080; text-decoration-color: #008080; font-weight: bold\">0.1</span>, <span style=\"color: #008000; text-decoration-color: #008000\">'gamma'</span>: <span style=\"color: #008080; text-decoration-color: #008080; font-weight: bold\">0.5</span>, <span style=\"color: #008000; text-decoration-color: #008000\">'tol'</span>: <span style=\"color: #008080; text-decoration-color: #008080; font-weight: bold\">0.1</span>, <span style=\"color: #008000; text-decoration-color: #008000\">'kernel'</span>: <span style=\"color: #008080; text-decoration-color: #008080; font-weight: bold\">0</span>, <span style=\"color: #008000; text-decoration-color: #008000\">'decision_function_shape'</span>: <span style=\"color: #008080; text-decoration-color: #008080; font-weight: bold\">1</span><span style=\"font-weight: bold\">}</span>\n",
       "</pre>\n"
      ],
      "text/plain": [
       "\u001b[1m{\u001b[0m\u001b[32m'C'\u001b[0m: \u001b[1;36m0.1\u001b[0m, \u001b[32m'gamma'\u001b[0m: \u001b[1;36m0.5\u001b[0m, \u001b[32m'tol'\u001b[0m: \u001b[1;36m0.1\u001b[0m, \u001b[32m'kernel'\u001b[0m: \u001b[1;36m0\u001b[0m, \u001b[32m'decision_function_shape'\u001b[0m: \u001b[1;36m1\u001b[0m\u001b[1m}\u001b[0m\n"
      ]
     },
     "metadata": {},
     "output_type": "display_data"
    }
   ],
   "source": [
    "from linguaml.rl.action import ActionConfig, Action\n",
    "from linguaml.tolearn.family import Family\n",
    "from linguaml.tolearn.hp.bounds import NumericHPBounds\n",
    "from rich import print\n",
    "\n",
    "\n",
    "ActionConfig.family = Family.SVC\n",
    "ActionConfig.numeric_hp_bounds = NumericHPBounds.from_dict({\n",
    "    \"C\": (0.1, 100),\n",
    "    \"gamma\": (0.1, 100),\n",
    "    \"tol\": (1e-5, 1e-3)\n",
    "})\n",
    "\n",
    "action = Action({\n",
    "    \"C\": 0.1,\n",
    "    \"gamma\": 0.5,\n",
    "    \"tol\": 0.1,\n",
    "    \"kernel\": 0,\n",
    "    \"decision_function_shape\": 1\n",
    "})\n",
    "\n",
    "print(action)"
   ]
  },
  {
   "cell_type": "code",
   "execution_count": 3,
   "metadata": {},
   "outputs": [
    {
     "data": {
      "text/html": [
       "<pre style=\"white-space:pre;overflow-x:auto;line-height:normal;font-family:Menlo,'DejaVu Sans Mono',consolas,'Courier New',monospace\"><span style=\"font-weight: bold\">[</span><span style=\"color: #008080; text-decoration-color: #008080; font-weight: bold\">0.1</span> <span style=\"color: #008080; text-decoration-color: #008080; font-weight: bold\">0.5</span> <span style=\"color: #008080; text-decoration-color: #008080; font-weight: bold\">0.1</span> <span style=\"color: #008080; text-decoration-color: #008080; font-weight: bold\">1</span>.  <span style=\"color: #008080; text-decoration-color: #008080; font-weight: bold\">0</span>.  <span style=\"color: #008080; text-decoration-color: #008080; font-weight: bold\">0</span>.  <span style=\"color: #008080; text-decoration-color: #008080; font-weight: bold\">0</span>.  <span style=\"color: #008080; text-decoration-color: #008080; font-weight: bold\">0</span>.  <span style=\"color: #008080; text-decoration-color: #008080; font-weight: bold\">1</span>.  <span style=\"color: #008080; text-decoration-color: #008080; font-weight: bold\">0.7</span><span style=\"font-weight: bold\">]</span>\n",
       "</pre>\n"
      ],
      "text/plain": [
       "\u001b[1m[\u001b[0m\u001b[1;36m0.1\u001b[0m \u001b[1;36m0.5\u001b[0m \u001b[1;36m0.1\u001b[0m \u001b[1;36m1\u001b[0m.  \u001b[1;36m0\u001b[0m.  \u001b[1;36m0\u001b[0m.  \u001b[1;36m0\u001b[0m.  \u001b[1;36m0\u001b[0m.  \u001b[1;36m1\u001b[0m.  \u001b[1;36m0.7\u001b[0m\u001b[1m]\u001b[0m\n"
      ]
     },
     "metadata": {},
     "output_type": "display_data"
    }
   ],
   "source": [
    "from linguaml.rl.state import StateUnit\n",
    "\n",
    "state_unit = StateUnit.from_action_and_reward(action, 0.7)\n",
    "\n",
    "print(state_unit.data)"
   ]
  },
  {
   "cell_type": "code",
   "execution_count": 4,
   "metadata": {},
   "outputs": [
    {
     "data": {
      "text/html": [
       "<pre style=\"white-space:pre;overflow-x:auto;line-height:normal;font-family:Menlo,'DejaVu Sans Mono',consolas,'Courier New',monospace\"><span style=\"color: #800080; text-decoration-color: #800080; font-weight: bold\">PerformanceResult</span><span style=\"font-weight: bold\">(</span>\n",
       "    <span style=\"color: #808000; text-decoration-color: #808000\">hp_config</span>=<span style=\"color: #800080; text-decoration-color: #800080; font-weight: bold\">SVCConfig</span><span style=\"font-weight: bold\">(</span>\n",
       "        <span style=\"color: #808000; text-decoration-color: #808000\">C</span>=<span style=\"color: #008080; text-decoration-color: #008080; font-weight: bold\">10.090000000000002</span>,\n",
       "        <span style=\"color: #808000; text-decoration-color: #808000\">kernel</span>=<span style=\"color: #008000; text-decoration-color: #008000\">'linear'</span>,\n",
       "        <span style=\"color: #808000; text-decoration-color: #808000\">gamma</span>=<span style=\"color: #008080; text-decoration-color: #008080; font-weight: bold\">50.050000000000004</span>,\n",
       "        <span style=\"color: #808000; text-decoration-color: #808000\">tol</span>=<span style=\"color: #008080; text-decoration-color: #008080; font-weight: bold\">0.000109</span>,\n",
       "        <span style=\"color: #808000; text-decoration-color: #808000\">decision_function_shape</span>=<span style=\"color: #008000; text-decoration-color: #008000\">'ovr'</span>\n",
       "    <span style=\"font-weight: bold\">)</span>,\n",
       "    <span style=\"color: #808000; text-decoration-color: #808000\">accuracy</span>=<span style=\"color: #008080; text-decoration-color: #008080; font-weight: bold\">0.7</span>\n",
       "<span style=\"font-weight: bold\">)</span>\n",
       "</pre>\n"
      ],
      "text/plain": [
       "\u001b[1;35mPerformanceResult\u001b[0m\u001b[1m(\u001b[0m\n",
       "    \u001b[33mhp_config\u001b[0m=\u001b[1;35mSVCConfig\u001b[0m\u001b[1m(\u001b[0m\n",
       "        \u001b[33mC\u001b[0m=\u001b[1;36m10\u001b[0m\u001b[1;36m.090000000000002\u001b[0m,\n",
       "        \u001b[33mkernel\u001b[0m=\u001b[32m'linear'\u001b[0m,\n",
       "        \u001b[33mgamma\u001b[0m=\u001b[1;36m50\u001b[0m\u001b[1;36m.050000000000004\u001b[0m,\n",
       "        \u001b[33mtol\u001b[0m=\u001b[1;36m0\u001b[0m\u001b[1;36m.000109\u001b[0m,\n",
       "        \u001b[33mdecision_function_shape\u001b[0m=\u001b[32m'ovr'\u001b[0m\n",
       "    \u001b[1m)\u001b[0m,\n",
       "    \u001b[33maccuracy\u001b[0m=\u001b[1;36m0\u001b[0m\u001b[1;36m.7\u001b[0m\n",
       "\u001b[1m)\u001b[0m\n"
      ]
     },
     "metadata": {},
     "output_type": "display_data"
    }
   ],
   "source": [
    "from linguaml.tolearn.performance import PerformanceResult\n",
    "\n",
    "performance_result = PerformanceResult(\n",
    "    hp_config=action.to_hp_config(),\n",
    "    accuracy=0.7\n",
    ")\n",
    "\n",
    "print(performance_result)"
   ]
  },
  {
   "cell_type": "code",
   "execution_count": 5,
   "metadata": {},
   "outputs": [
    {
     "data": {
      "text/html": [
       "<pre style=\"white-space:pre;overflow-x:auto;line-height:normal;font-family:Menlo,'DejaVu Sans Mono',consolas,'Courier New',monospace\"><span style=\"font-weight: bold\">[</span><span style=\"color: #008080; text-decoration-color: #008080; font-weight: bold\">0.1</span> <span style=\"color: #008080; text-decoration-color: #008080; font-weight: bold\">0.5</span> <span style=\"color: #008080; text-decoration-color: #008080; font-weight: bold\">0.1</span> <span style=\"color: #008080; text-decoration-color: #008080; font-weight: bold\">1</span>.  <span style=\"color: #008080; text-decoration-color: #008080; font-weight: bold\">0</span>.  <span style=\"color: #008080; text-decoration-color: #008080; font-weight: bold\">0</span>.  <span style=\"color: #008080; text-decoration-color: #008080; font-weight: bold\">0</span>.  <span style=\"color: #008080; text-decoration-color: #008080; font-weight: bold\">0</span>.  <span style=\"color: #008080; text-decoration-color: #008080; font-weight: bold\">1</span>.  <span style=\"color: #008080; text-decoration-color: #008080; font-weight: bold\">0.7</span><span style=\"font-weight: bold\">]</span>\n",
       "</pre>\n"
      ],
      "text/plain": [
       "\u001b[1m[\u001b[0m\u001b[1;36m0.1\u001b[0m \u001b[1;36m0.5\u001b[0m \u001b[1;36m0.1\u001b[0m \u001b[1;36m1\u001b[0m.  \u001b[1;36m0\u001b[0m.  \u001b[1;36m0\u001b[0m.  \u001b[1;36m0\u001b[0m.  \u001b[1;36m0\u001b[0m.  \u001b[1;36m1\u001b[0m.  \u001b[1;36m0.7\u001b[0m\u001b[1m]\u001b[0m\n"
      ]
     },
     "metadata": {},
     "output_type": "display_data"
    }
   ],
   "source": [
    "print(StateUnit.from_performance_result(performance_result).data)"
   ]
  },
  {
   "cell_type": "markdown",
   "metadata": {},
   "source": [
    "## Single State"
   ]
  },
  {
   "cell_type": "code",
   "execution_count": 6,
   "metadata": {},
   "outputs": [
    {
     "data": {
      "text/html": [
       "<pre style=\"white-space:pre;overflow-x:auto;line-height:normal;font-family:Menlo,'DejaVu Sans Mono',consolas,'Courier New',monospace\">actinos:\n",
       "</pre>\n"
      ],
      "text/plain": [
       "actinos:\n"
      ]
     },
     "metadata": {},
     "output_type": "display_data"
    },
    {
     "data": {
      "text/html": [
       "<pre style=\"white-space:pre;overflow-x:auto;line-height:normal;font-family:Menlo,'DejaVu Sans Mono',consolas,'Courier New',monospace\"><span style=\"font-weight: bold\">[</span>\n",
       "    <span style=\"font-weight: bold\">{</span>\n",
       "        <span style=\"color: #008000; text-decoration-color: #008000\">'C'</span>: <span style=\"color: #008080; text-decoration-color: #008080; font-weight: bold\">0.6825775208926002</span>,\n",
       "        <span style=\"color: #008000; text-decoration-color: #008000\">'kernel'</span>: <span style=\"color: #008080; text-decoration-color: #008080; font-weight: bold\">2</span>,\n",
       "        <span style=\"color: #008000; text-decoration-color: #008000\">'gamma'</span>: <span style=\"color: #008080; text-decoration-color: #008080; font-weight: bold\">0.13638174258056224</span>,\n",
       "        <span style=\"color: #008000; text-decoration-color: #008000\">'tol'</span>: <span style=\"color: #008080; text-decoration-color: #008080; font-weight: bold\">0.4780416403171879</span>,\n",
       "        <span style=\"color: #008000; text-decoration-color: #008000\">'decision_function_shape'</span>: <span style=\"color: #008080; text-decoration-color: #008080; font-weight: bold\">0</span>\n",
       "    <span style=\"font-weight: bold\">}</span>,\n",
       "    <span style=\"font-weight: bold\">{</span>\n",
       "        <span style=\"color: #008000; text-decoration-color: #008000\">'C'</span>: <span style=\"color: #008080; text-decoration-color: #008080; font-weight: bold\">0.23265524742923316</span>,\n",
       "        <span style=\"color: #008000; text-decoration-color: #008000\">'kernel'</span>: <span style=\"color: #008080; text-decoration-color: #008080; font-weight: bold\">0</span>,\n",
       "        <span style=\"color: #008000; text-decoration-color: #008000\">'gamma'</span>: <span style=\"color: #008080; text-decoration-color: #008080; font-weight: bold\">0.10378297263227121</span>,\n",
       "        <span style=\"color: #008000; text-decoration-color: #008000\">'tol'</span>: <span style=\"color: #008080; text-decoration-color: #008080; font-weight: bold\">0.11241113457753771</span>,\n",
       "        <span style=\"color: #008000; text-decoration-color: #008000\">'decision_function_shape'</span>: <span style=\"color: #008080; text-decoration-color: #008080; font-weight: bold\">0</span>\n",
       "    <span style=\"font-weight: bold\">}</span>,\n",
       "    <span style=\"font-weight: bold\">{</span>\n",
       "        <span style=\"color: #008000; text-decoration-color: #008000\">'C'</span>: <span style=\"color: #008080; text-decoration-color: #008080; font-weight: bold\">0.4898338475826851</span>,\n",
       "        <span style=\"color: #008000; text-decoration-color: #008000\">'kernel'</span>: <span style=\"color: #008080; text-decoration-color: #008080; font-weight: bold\">3</span>,\n",
       "        <span style=\"color: #008000; text-decoration-color: #008000\">'gamma'</span>: <span style=\"color: #008080; text-decoration-color: #008080; font-weight: bold\">0.9900253689106882</span>,\n",
       "        <span style=\"color: #008000; text-decoration-color: #008000\">'tol'</span>: <span style=\"color: #008080; text-decoration-color: #008080; font-weight: bold\">0.4375667352064053</span>,\n",
       "        <span style=\"color: #008000; text-decoration-color: #008000\">'decision_function_shape'</span>: <span style=\"color: #008080; text-decoration-color: #008080; font-weight: bold\">0</span>\n",
       "    <span style=\"font-weight: bold\">}</span>,\n",
       "    <span style=\"font-weight: bold\">{</span>\n",
       "        <span style=\"color: #008000; text-decoration-color: #008000\">'C'</span>: <span style=\"color: #008080; text-decoration-color: #008080; font-weight: bold\">0.4554767391166977</span>,\n",
       "        <span style=\"color: #008000; text-decoration-color: #008000\">'kernel'</span>: <span style=\"color: #008080; text-decoration-color: #008080; font-weight: bold\">2</span>,\n",
       "        <span style=\"color: #008000; text-decoration-color: #008000\">'gamma'</span>: <span style=\"color: #008080; text-decoration-color: #008080; font-weight: bold\">0.11806533636847161</span>,\n",
       "        <span style=\"color: #008000; text-decoration-color: #008000\">'tol'</span>: <span style=\"color: #008080; text-decoration-color: #008080; font-weight: bold\">0.8105868302619496</span>,\n",
       "        <span style=\"color: #008000; text-decoration-color: #008000\">'decision_function_shape'</span>: <span style=\"color: #008080; text-decoration-color: #008080; font-weight: bold\">1</span>\n",
       "    <span style=\"font-weight: bold\">}</span>,\n",
       "    <span style=\"font-weight: bold\">{</span>\n",
       "        <span style=\"color: #008000; text-decoration-color: #008000\">'C'</span>: <span style=\"color: #008080; text-decoration-color: #008080; font-weight: bold\">0.11504021318468338</span>,\n",
       "        <span style=\"color: #008000; text-decoration-color: #008000\">'kernel'</span>: <span style=\"color: #008080; text-decoration-color: #008080; font-weight: bold\">1</span>,\n",
       "        <span style=\"color: #008000; text-decoration-color: #008000\">'gamma'</span>: <span style=\"color: #008080; text-decoration-color: #008080; font-weight: bold\">0.7601909534247265</span>,\n",
       "        <span style=\"color: #008000; text-decoration-color: #008000\">'tol'</span>: <span style=\"color: #008080; text-decoration-color: #008080; font-weight: bold\">0.18433109624367716</span>,\n",
       "        <span style=\"color: #008000; text-decoration-color: #008000\">'decision_function_shape'</span>: <span style=\"color: #008080; text-decoration-color: #008080; font-weight: bold\">0</span>\n",
       "    <span style=\"font-weight: bold\">}</span>\n",
       "<span style=\"font-weight: bold\">]</span>\n",
       "</pre>\n"
      ],
      "text/plain": [
       "\u001b[1m[\u001b[0m\n",
       "    \u001b[1m{\u001b[0m\n",
       "        \u001b[32m'C'\u001b[0m: \u001b[1;36m0.6825775208926002\u001b[0m,\n",
       "        \u001b[32m'kernel'\u001b[0m: \u001b[1;36m2\u001b[0m,\n",
       "        \u001b[32m'gamma'\u001b[0m: \u001b[1;36m0.13638174258056224\u001b[0m,\n",
       "        \u001b[32m'tol'\u001b[0m: \u001b[1;36m0.4780416403171879\u001b[0m,\n",
       "        \u001b[32m'decision_function_shape'\u001b[0m: \u001b[1;36m0\u001b[0m\n",
       "    \u001b[1m}\u001b[0m,\n",
       "    \u001b[1m{\u001b[0m\n",
       "        \u001b[32m'C'\u001b[0m: \u001b[1;36m0.23265524742923316\u001b[0m,\n",
       "        \u001b[32m'kernel'\u001b[0m: \u001b[1;36m0\u001b[0m,\n",
       "        \u001b[32m'gamma'\u001b[0m: \u001b[1;36m0.10378297263227121\u001b[0m,\n",
       "        \u001b[32m'tol'\u001b[0m: \u001b[1;36m0.11241113457753771\u001b[0m,\n",
       "        \u001b[32m'decision_function_shape'\u001b[0m: \u001b[1;36m0\u001b[0m\n",
       "    \u001b[1m}\u001b[0m,\n",
       "    \u001b[1m{\u001b[0m\n",
       "        \u001b[32m'C'\u001b[0m: \u001b[1;36m0.4898338475826851\u001b[0m,\n",
       "        \u001b[32m'kernel'\u001b[0m: \u001b[1;36m3\u001b[0m,\n",
       "        \u001b[32m'gamma'\u001b[0m: \u001b[1;36m0.9900253689106882\u001b[0m,\n",
       "        \u001b[32m'tol'\u001b[0m: \u001b[1;36m0.4375667352064053\u001b[0m,\n",
       "        \u001b[32m'decision_function_shape'\u001b[0m: \u001b[1;36m0\u001b[0m\n",
       "    \u001b[1m}\u001b[0m,\n",
       "    \u001b[1m{\u001b[0m\n",
       "        \u001b[32m'C'\u001b[0m: \u001b[1;36m0.4554767391166977\u001b[0m,\n",
       "        \u001b[32m'kernel'\u001b[0m: \u001b[1;36m2\u001b[0m,\n",
       "        \u001b[32m'gamma'\u001b[0m: \u001b[1;36m0.11806533636847161\u001b[0m,\n",
       "        \u001b[32m'tol'\u001b[0m: \u001b[1;36m0.8105868302619496\u001b[0m,\n",
       "        \u001b[32m'decision_function_shape'\u001b[0m: \u001b[1;36m1\u001b[0m\n",
       "    \u001b[1m}\u001b[0m,\n",
       "    \u001b[1m{\u001b[0m\n",
       "        \u001b[32m'C'\u001b[0m: \u001b[1;36m0.11504021318468338\u001b[0m,\n",
       "        \u001b[32m'kernel'\u001b[0m: \u001b[1;36m1\u001b[0m,\n",
       "        \u001b[32m'gamma'\u001b[0m: \u001b[1;36m0.7601909534247265\u001b[0m,\n",
       "        \u001b[32m'tol'\u001b[0m: \u001b[1;36m0.18433109624367716\u001b[0m,\n",
       "        \u001b[32m'decision_function_shape'\u001b[0m: \u001b[1;36m0\u001b[0m\n",
       "    \u001b[1m}\u001b[0m\n",
       "\u001b[1m]\u001b[0m\n"
      ]
     },
     "metadata": {},
     "output_type": "display_data"
    },
    {
     "data": {
      "text/html": [
       "<pre style=\"white-space:pre;overflow-x:auto;line-height:normal;font-family:Menlo,'DejaVu Sans Mono',consolas,'Courier New',monospace\">rewards: \n",
       "</pre>\n"
      ],
      "text/plain": [
       "rewards: \n"
      ]
     },
     "metadata": {},
     "output_type": "display_data"
    },
    {
     "data": {
      "text/html": [
       "<pre style=\"white-space:pre;overflow-x:auto;line-height:normal;font-family:Menlo,'DejaVu Sans Mono',consolas,'Courier New',monospace\"><span style=\"font-weight: bold\">[</span><span style=\"color: #008080; text-decoration-color: #008080; font-weight: bold\">0.34778118</span> <span style=\"color: #008080; text-decoration-color: #008080; font-weight: bold\">0.39122254</span> <span style=\"color: #008080; text-decoration-color: #008080; font-weight: bold\">0.50390384</span> <span style=\"color: #008080; text-decoration-color: #008080; font-weight: bold\">0.50052495</span> <span style=\"color: #008080; text-decoration-color: #008080; font-weight: bold\">0.34659101</span><span style=\"font-weight: bold\">]</span>\n",
       "</pre>\n"
      ],
      "text/plain": [
       "\u001b[1m[\u001b[0m\u001b[1;36m0.34778118\u001b[0m \u001b[1;36m0.39122254\u001b[0m \u001b[1;36m0.50390384\u001b[0m \u001b[1;36m0.50052495\u001b[0m \u001b[1;36m0.34659101\u001b[0m\u001b[1m]\u001b[0m\n"
      ]
     },
     "metadata": {},
     "output_type": "display_data"
    }
   ],
   "source": [
    "from linguaml.rl.action import BatchedActions\n",
    "import numpy as np\n",
    "\n",
    "# Generate random actions\n",
    "actions = BatchedActions.from_dict({\n",
    "    \"C\": np.random.random(StateConfig.lookback),\n",
    "    \"kernel\": np.random.randint(0, 4, size=StateConfig.lookback),\n",
    "    \"gamma\": np.random.random(StateConfig.lookback),\n",
    "    \"tol\": np.random.random(StateConfig.lookback),\n",
    "    \"decision_function_shape\": np.random.randint(0, 2, size=StateConfig.lookback)\n",
    "}).to_actions()\n",
    "\n",
    "# Generate random rewards\n",
    "rewards = np.random.random(StateConfig.lookback)\n",
    "\n",
    "print(\"actinos:\")\n",
    "print(actions)\n",
    "\n",
    "print(\"rewards: \")\n",
    "print(rewards)"
   ]
  },
  {
   "cell_type": "markdown",
   "metadata": {},
   "source": [
    "It is recommended to construct a `State` instance using the `from_actions_and_rewards` or `from_action_reward_pairs` class methods."
   ]
  },
  {
   "cell_type": "markdown",
   "metadata": {},
   "source": [
    "### From Actions and Rewards"
   ]
  },
  {
   "cell_type": "markdown",
   "metadata": {},
   "source": [
    "Construct a state via `from_actions_and_rewards`:"
   ]
  },
  {
   "cell_type": "code",
   "execution_count": 7,
   "metadata": {},
   "outputs": [
    {
     "data": {
      "text/plain": [
       "array([[0.68257752, 0.13638174, 0.47804164, 0.        , 0.        ,\n",
       "        1.        , 0.        , 1.        , 0.        , 0.34778118],\n",
       "       [0.23265525, 0.10378297, 0.11241113, 1.        , 0.        ,\n",
       "        0.        , 0.        , 1.        , 0.        , 0.39122254],\n",
       "       [0.48983385, 0.99002537, 0.43756674, 0.        , 0.        ,\n",
       "        0.        , 1.        , 1.        , 0.        , 0.50390384],\n",
       "       [0.45547674, 0.11806534, 0.81058683, 0.        , 0.        ,\n",
       "        1.        , 0.        , 0.        , 1.        , 0.50052495],\n",
       "       [0.11504021, 0.76019095, 0.1843311 , 0.        , 1.        ,\n",
       "        0.        , 0.        , 1.        , 0.        , 0.34659101]])"
      ]
     },
     "execution_count": 7,
     "metadata": {},
     "output_type": "execute_result"
    }
   ],
   "source": [
    "from linguaml.rl.state import State\n",
    "\n",
    "# Construct a state\n",
    "state = State.from_actions_and_rewards(actions, rewards)\n",
    "\n",
    "# Check that state's data\n",
    "state.data"
   ]
  },
  {
   "cell_type": "markdown",
   "metadata": {},
   "source": [
    "Construct a state via `from_action_reward_pairs`:"
   ]
  },
  {
   "cell_type": "code",
   "execution_count": 8,
   "metadata": {},
   "outputs": [
    {
     "data": {
      "text/html": [
       "<pre style=\"white-space:pre;overflow-x:auto;line-height:normal;font-family:Menlo,'DejaVu Sans Mono',consolas,'Courier New',monospace\"><span style=\"font-weight: bold\">[</span>\n",
       "    <span style=\"font-weight: bold\">(</span>\n",
       "        <span style=\"font-weight: bold\">{</span>\n",
       "            <span style=\"color: #008000; text-decoration-color: #008000\">'C'</span>: <span style=\"color: #008080; text-decoration-color: #008080; font-weight: bold\">0.6825775208926002</span>,\n",
       "            <span style=\"color: #008000; text-decoration-color: #008000\">'kernel'</span>: <span style=\"color: #008080; text-decoration-color: #008080; font-weight: bold\">2</span>,\n",
       "            <span style=\"color: #008000; text-decoration-color: #008000\">'gamma'</span>: <span style=\"color: #008080; text-decoration-color: #008080; font-weight: bold\">0.13638174258056224</span>,\n",
       "            <span style=\"color: #008000; text-decoration-color: #008000\">'tol'</span>: <span style=\"color: #008080; text-decoration-color: #008080; font-weight: bold\">0.4780416403171879</span>,\n",
       "            <span style=\"color: #008000; text-decoration-color: #008000\">'decision_function_shape'</span>: <span style=\"color: #008080; text-decoration-color: #008080; font-weight: bold\">0</span>\n",
       "        <span style=\"font-weight: bold\">}</span>,\n",
       "        <span style=\"color: #008080; text-decoration-color: #008080; font-weight: bold\">0.34778118005581027</span>\n",
       "    <span style=\"font-weight: bold\">)</span>,\n",
       "    <span style=\"font-weight: bold\">(</span>\n",
       "        <span style=\"font-weight: bold\">{</span>\n",
       "            <span style=\"color: #008000; text-decoration-color: #008000\">'C'</span>: <span style=\"color: #008080; text-decoration-color: #008080; font-weight: bold\">0.23265524742923316</span>,\n",
       "            <span style=\"color: #008000; text-decoration-color: #008000\">'kernel'</span>: <span style=\"color: #008080; text-decoration-color: #008080; font-weight: bold\">0</span>,\n",
       "            <span style=\"color: #008000; text-decoration-color: #008000\">'gamma'</span>: <span style=\"color: #008080; text-decoration-color: #008080; font-weight: bold\">0.10378297263227121</span>,\n",
       "            <span style=\"color: #008000; text-decoration-color: #008000\">'tol'</span>: <span style=\"color: #008080; text-decoration-color: #008080; font-weight: bold\">0.11241113457753771</span>,\n",
       "            <span style=\"color: #008000; text-decoration-color: #008000\">'decision_function_shape'</span>: <span style=\"color: #008080; text-decoration-color: #008080; font-weight: bold\">0</span>\n",
       "        <span style=\"font-weight: bold\">}</span>,\n",
       "        <span style=\"color: #008080; text-decoration-color: #008080; font-weight: bold\">0.39122253937936624</span>\n",
       "    <span style=\"font-weight: bold\">)</span>,\n",
       "    <span style=\"font-weight: bold\">(</span>\n",
       "        <span style=\"font-weight: bold\">{</span>\n",
       "            <span style=\"color: #008000; text-decoration-color: #008000\">'C'</span>: <span style=\"color: #008080; text-decoration-color: #008080; font-weight: bold\">0.4898338475826851</span>,\n",
       "            <span style=\"color: #008000; text-decoration-color: #008000\">'kernel'</span>: <span style=\"color: #008080; text-decoration-color: #008080; font-weight: bold\">3</span>,\n",
       "            <span style=\"color: #008000; text-decoration-color: #008000\">'gamma'</span>: <span style=\"color: #008080; text-decoration-color: #008080; font-weight: bold\">0.9900253689106882</span>,\n",
       "            <span style=\"color: #008000; text-decoration-color: #008000\">'tol'</span>: <span style=\"color: #008080; text-decoration-color: #008080; font-weight: bold\">0.4375667352064053</span>,\n",
       "            <span style=\"color: #008000; text-decoration-color: #008000\">'decision_function_shape'</span>: <span style=\"color: #008080; text-decoration-color: #008080; font-weight: bold\">0</span>\n",
       "        <span style=\"font-weight: bold\">}</span>,\n",
       "        <span style=\"color: #008080; text-decoration-color: #008080; font-weight: bold\">0.50390383582081</span>\n",
       "    <span style=\"font-weight: bold\">)</span>,\n",
       "    <span style=\"font-weight: bold\">(</span>\n",
       "        <span style=\"font-weight: bold\">{</span>\n",
       "            <span style=\"color: #008000; text-decoration-color: #008000\">'C'</span>: <span style=\"color: #008080; text-decoration-color: #008080; font-weight: bold\">0.4554767391166977</span>,\n",
       "            <span style=\"color: #008000; text-decoration-color: #008000\">'kernel'</span>: <span style=\"color: #008080; text-decoration-color: #008080; font-weight: bold\">2</span>,\n",
       "            <span style=\"color: #008000; text-decoration-color: #008000\">'gamma'</span>: <span style=\"color: #008080; text-decoration-color: #008080; font-weight: bold\">0.11806533636847161</span>,\n",
       "            <span style=\"color: #008000; text-decoration-color: #008000\">'tol'</span>: <span style=\"color: #008080; text-decoration-color: #008080; font-weight: bold\">0.8105868302619496</span>,\n",
       "            <span style=\"color: #008000; text-decoration-color: #008000\">'decision_function_shape'</span>: <span style=\"color: #008080; text-decoration-color: #008080; font-weight: bold\">1</span>\n",
       "        <span style=\"font-weight: bold\">}</span>,\n",
       "        <span style=\"color: #008080; text-decoration-color: #008080; font-weight: bold\">0.5005249473431244</span>\n",
       "    <span style=\"font-weight: bold\">)</span>,\n",
       "    <span style=\"font-weight: bold\">(</span>\n",
       "        <span style=\"font-weight: bold\">{</span>\n",
       "            <span style=\"color: #008000; text-decoration-color: #008000\">'C'</span>: <span style=\"color: #008080; text-decoration-color: #008080; font-weight: bold\">0.11504021318468338</span>,\n",
       "            <span style=\"color: #008000; text-decoration-color: #008000\">'kernel'</span>: <span style=\"color: #008080; text-decoration-color: #008080; font-weight: bold\">1</span>,\n",
       "            <span style=\"color: #008000; text-decoration-color: #008000\">'gamma'</span>: <span style=\"color: #008080; text-decoration-color: #008080; font-weight: bold\">0.7601909534247265</span>,\n",
       "            <span style=\"color: #008000; text-decoration-color: #008000\">'tol'</span>: <span style=\"color: #008080; text-decoration-color: #008080; font-weight: bold\">0.18433109624367716</span>,\n",
       "            <span style=\"color: #008000; text-decoration-color: #008000\">'decision_function_shape'</span>: <span style=\"color: #008080; text-decoration-color: #008080; font-weight: bold\">0</span>\n",
       "        <span style=\"font-weight: bold\">}</span>,\n",
       "        <span style=\"color: #008080; text-decoration-color: #008080; font-weight: bold\">0.3465910074359839</span>\n",
       "    <span style=\"font-weight: bold\">)</span>\n",
       "<span style=\"font-weight: bold\">]</span>\n",
       "</pre>\n"
      ],
      "text/plain": [
       "\u001b[1m[\u001b[0m\n",
       "    \u001b[1m(\u001b[0m\n",
       "        \u001b[1m{\u001b[0m\n",
       "            \u001b[32m'C'\u001b[0m: \u001b[1;36m0.6825775208926002\u001b[0m,\n",
       "            \u001b[32m'kernel'\u001b[0m: \u001b[1;36m2\u001b[0m,\n",
       "            \u001b[32m'gamma'\u001b[0m: \u001b[1;36m0.13638174258056224\u001b[0m,\n",
       "            \u001b[32m'tol'\u001b[0m: \u001b[1;36m0.4780416403171879\u001b[0m,\n",
       "            \u001b[32m'decision_function_shape'\u001b[0m: \u001b[1;36m0\u001b[0m\n",
       "        \u001b[1m}\u001b[0m,\n",
       "        \u001b[1;36m0.34778118005581027\u001b[0m\n",
       "    \u001b[1m)\u001b[0m,\n",
       "    \u001b[1m(\u001b[0m\n",
       "        \u001b[1m{\u001b[0m\n",
       "            \u001b[32m'C'\u001b[0m: \u001b[1;36m0.23265524742923316\u001b[0m,\n",
       "            \u001b[32m'kernel'\u001b[0m: \u001b[1;36m0\u001b[0m,\n",
       "            \u001b[32m'gamma'\u001b[0m: \u001b[1;36m0.10378297263227121\u001b[0m,\n",
       "            \u001b[32m'tol'\u001b[0m: \u001b[1;36m0.11241113457753771\u001b[0m,\n",
       "            \u001b[32m'decision_function_shape'\u001b[0m: \u001b[1;36m0\u001b[0m\n",
       "        \u001b[1m}\u001b[0m,\n",
       "        \u001b[1;36m0.39122253937936624\u001b[0m\n",
       "    \u001b[1m)\u001b[0m,\n",
       "    \u001b[1m(\u001b[0m\n",
       "        \u001b[1m{\u001b[0m\n",
       "            \u001b[32m'C'\u001b[0m: \u001b[1;36m0.4898338475826851\u001b[0m,\n",
       "            \u001b[32m'kernel'\u001b[0m: \u001b[1;36m3\u001b[0m,\n",
       "            \u001b[32m'gamma'\u001b[0m: \u001b[1;36m0.9900253689106882\u001b[0m,\n",
       "            \u001b[32m'tol'\u001b[0m: \u001b[1;36m0.4375667352064053\u001b[0m,\n",
       "            \u001b[32m'decision_function_shape'\u001b[0m: \u001b[1;36m0\u001b[0m\n",
       "        \u001b[1m}\u001b[0m,\n",
       "        \u001b[1;36m0.50390383582081\u001b[0m\n",
       "    \u001b[1m)\u001b[0m,\n",
       "    \u001b[1m(\u001b[0m\n",
       "        \u001b[1m{\u001b[0m\n",
       "            \u001b[32m'C'\u001b[0m: \u001b[1;36m0.4554767391166977\u001b[0m,\n",
       "            \u001b[32m'kernel'\u001b[0m: \u001b[1;36m2\u001b[0m,\n",
       "            \u001b[32m'gamma'\u001b[0m: \u001b[1;36m0.11806533636847161\u001b[0m,\n",
       "            \u001b[32m'tol'\u001b[0m: \u001b[1;36m0.8105868302619496\u001b[0m,\n",
       "            \u001b[32m'decision_function_shape'\u001b[0m: \u001b[1;36m1\u001b[0m\n",
       "        \u001b[1m}\u001b[0m,\n",
       "        \u001b[1;36m0.5005249473431244\u001b[0m\n",
       "    \u001b[1m)\u001b[0m,\n",
       "    \u001b[1m(\u001b[0m\n",
       "        \u001b[1m{\u001b[0m\n",
       "            \u001b[32m'C'\u001b[0m: \u001b[1;36m0.11504021318468338\u001b[0m,\n",
       "            \u001b[32m'kernel'\u001b[0m: \u001b[1;36m1\u001b[0m,\n",
       "            \u001b[32m'gamma'\u001b[0m: \u001b[1;36m0.7601909534247265\u001b[0m,\n",
       "            \u001b[32m'tol'\u001b[0m: \u001b[1;36m0.18433109624367716\u001b[0m,\n",
       "            \u001b[32m'decision_function_shape'\u001b[0m: \u001b[1;36m0\u001b[0m\n",
       "        \u001b[1m}\u001b[0m,\n",
       "        \u001b[1;36m0.3465910074359839\u001b[0m\n",
       "    \u001b[1m)\u001b[0m\n",
       "\u001b[1m]\u001b[0m\n"
      ]
     },
     "metadata": {},
     "output_type": "display_data"
    }
   ],
   "source": [
    "action_reward_pairs = list(zip(actions, rewards))\n",
    "print(action_reward_pairs)"
   ]
  },
  {
   "cell_type": "code",
   "execution_count": 9,
   "metadata": {},
   "outputs": [
    {
     "data": {
      "text/html": [
       "<pre style=\"white-space:pre;overflow-x:auto;line-height:normal;font-family:Menlo,'DejaVu Sans Mono',consolas,'Courier New',monospace\"><span style=\"font-weight: bold\">[[</span><span style=\"color: #008080; text-decoration-color: #008080; font-weight: bold\">0.68257752</span> <span style=\"color: #008080; text-decoration-color: #008080; font-weight: bold\">0.13638174</span> <span style=\"color: #008080; text-decoration-color: #008080; font-weight: bold\">0.47804164</span> <span style=\"color: #008080; text-decoration-color: #008080; font-weight: bold\">0</span>.         <span style=\"color: #008080; text-decoration-color: #008080; font-weight: bold\">0</span>.         <span style=\"color: #008080; text-decoration-color: #008080; font-weight: bold\">1</span>.\n",
       "  <span style=\"color: #008080; text-decoration-color: #008080; font-weight: bold\">0</span>.         <span style=\"color: #008080; text-decoration-color: #008080; font-weight: bold\">1</span>.         <span style=\"color: #008080; text-decoration-color: #008080; font-weight: bold\">0</span>.         <span style=\"color: #008080; text-decoration-color: #008080; font-weight: bold\">0.34778118</span><span style=\"font-weight: bold\">]</span>\n",
       " <span style=\"font-weight: bold\">[</span><span style=\"color: #008080; text-decoration-color: #008080; font-weight: bold\">0.23265525</span> <span style=\"color: #008080; text-decoration-color: #008080; font-weight: bold\">0.10378297</span> <span style=\"color: #008080; text-decoration-color: #008080; font-weight: bold\">0.11241113</span> <span style=\"color: #008080; text-decoration-color: #008080; font-weight: bold\">1</span>.         <span style=\"color: #008080; text-decoration-color: #008080; font-weight: bold\">0</span>.         <span style=\"color: #008080; text-decoration-color: #008080; font-weight: bold\">0</span>.\n",
       "  <span style=\"color: #008080; text-decoration-color: #008080; font-weight: bold\">0</span>.         <span style=\"color: #008080; text-decoration-color: #008080; font-weight: bold\">1</span>.         <span style=\"color: #008080; text-decoration-color: #008080; font-weight: bold\">0</span>.         <span style=\"color: #008080; text-decoration-color: #008080; font-weight: bold\">0.39122254</span><span style=\"font-weight: bold\">]</span>\n",
       " <span style=\"font-weight: bold\">[</span><span style=\"color: #008080; text-decoration-color: #008080; font-weight: bold\">0.48983385</span> <span style=\"color: #008080; text-decoration-color: #008080; font-weight: bold\">0.99002537</span> <span style=\"color: #008080; text-decoration-color: #008080; font-weight: bold\">0.43756674</span> <span style=\"color: #008080; text-decoration-color: #008080; font-weight: bold\">0</span>.         <span style=\"color: #008080; text-decoration-color: #008080; font-weight: bold\">0</span>.         <span style=\"color: #008080; text-decoration-color: #008080; font-weight: bold\">0</span>.\n",
       "  <span style=\"color: #008080; text-decoration-color: #008080; font-weight: bold\">1</span>.         <span style=\"color: #008080; text-decoration-color: #008080; font-weight: bold\">1</span>.         <span style=\"color: #008080; text-decoration-color: #008080; font-weight: bold\">0</span>.         <span style=\"color: #008080; text-decoration-color: #008080; font-weight: bold\">0.50390384</span><span style=\"font-weight: bold\">]</span>\n",
       " <span style=\"font-weight: bold\">[</span><span style=\"color: #008080; text-decoration-color: #008080; font-weight: bold\">0.45547674</span> <span style=\"color: #008080; text-decoration-color: #008080; font-weight: bold\">0.11806534</span> <span style=\"color: #008080; text-decoration-color: #008080; font-weight: bold\">0.81058683</span> <span style=\"color: #008080; text-decoration-color: #008080; font-weight: bold\">0</span>.         <span style=\"color: #008080; text-decoration-color: #008080; font-weight: bold\">0</span>.         <span style=\"color: #008080; text-decoration-color: #008080; font-weight: bold\">1</span>.\n",
       "  <span style=\"color: #008080; text-decoration-color: #008080; font-weight: bold\">0</span>.         <span style=\"color: #008080; text-decoration-color: #008080; font-weight: bold\">0</span>.         <span style=\"color: #008080; text-decoration-color: #008080; font-weight: bold\">1</span>.         <span style=\"color: #008080; text-decoration-color: #008080; font-weight: bold\">0.50052495</span><span style=\"font-weight: bold\">]</span>\n",
       " <span style=\"font-weight: bold\">[</span><span style=\"color: #008080; text-decoration-color: #008080; font-weight: bold\">0.11504021</span> <span style=\"color: #008080; text-decoration-color: #008080; font-weight: bold\">0.76019095</span> <span style=\"color: #008080; text-decoration-color: #008080; font-weight: bold\">0.1843311</span>  <span style=\"color: #008080; text-decoration-color: #008080; font-weight: bold\">0</span>.         <span style=\"color: #008080; text-decoration-color: #008080; font-weight: bold\">1</span>.         <span style=\"color: #008080; text-decoration-color: #008080; font-weight: bold\">0</span>.\n",
       "  <span style=\"color: #008080; text-decoration-color: #008080; font-weight: bold\">0</span>.         <span style=\"color: #008080; text-decoration-color: #008080; font-weight: bold\">1</span>.         <span style=\"color: #008080; text-decoration-color: #008080; font-weight: bold\">0</span>.         <span style=\"color: #008080; text-decoration-color: #008080; font-weight: bold\">0.34659101</span><span style=\"font-weight: bold\">]]</span>\n",
       "</pre>\n"
      ],
      "text/plain": [
       "\u001b[1m[\u001b[0m\u001b[1m[\u001b[0m\u001b[1;36m0.68257752\u001b[0m \u001b[1;36m0.13638174\u001b[0m \u001b[1;36m0.47804164\u001b[0m \u001b[1;36m0\u001b[0m.         \u001b[1;36m0\u001b[0m.         \u001b[1;36m1\u001b[0m.\n",
       "  \u001b[1;36m0\u001b[0m.         \u001b[1;36m1\u001b[0m.         \u001b[1;36m0\u001b[0m.         \u001b[1;36m0.34778118\u001b[0m\u001b[1m]\u001b[0m\n",
       " \u001b[1m[\u001b[0m\u001b[1;36m0.23265525\u001b[0m \u001b[1;36m0.10378297\u001b[0m \u001b[1;36m0.11241113\u001b[0m \u001b[1;36m1\u001b[0m.         \u001b[1;36m0\u001b[0m.         \u001b[1;36m0\u001b[0m.\n",
       "  \u001b[1;36m0\u001b[0m.         \u001b[1;36m1\u001b[0m.         \u001b[1;36m0\u001b[0m.         \u001b[1;36m0.39122254\u001b[0m\u001b[1m]\u001b[0m\n",
       " \u001b[1m[\u001b[0m\u001b[1;36m0.48983385\u001b[0m \u001b[1;36m0.99002537\u001b[0m \u001b[1;36m0.43756674\u001b[0m \u001b[1;36m0\u001b[0m.         \u001b[1;36m0\u001b[0m.         \u001b[1;36m0\u001b[0m.\n",
       "  \u001b[1;36m1\u001b[0m.         \u001b[1;36m1\u001b[0m.         \u001b[1;36m0\u001b[0m.         \u001b[1;36m0.50390384\u001b[0m\u001b[1m]\u001b[0m\n",
       " \u001b[1m[\u001b[0m\u001b[1;36m0.45547674\u001b[0m \u001b[1;36m0.11806534\u001b[0m \u001b[1;36m0.81058683\u001b[0m \u001b[1;36m0\u001b[0m.         \u001b[1;36m0\u001b[0m.         \u001b[1;36m1\u001b[0m.\n",
       "  \u001b[1;36m0\u001b[0m.         \u001b[1;36m0\u001b[0m.         \u001b[1;36m1\u001b[0m.         \u001b[1;36m0.50052495\u001b[0m\u001b[1m]\u001b[0m\n",
       " \u001b[1m[\u001b[0m\u001b[1;36m0.11504021\u001b[0m \u001b[1;36m0.76019095\u001b[0m \u001b[1;36m0.1843311\u001b[0m  \u001b[1;36m0\u001b[0m.         \u001b[1;36m1\u001b[0m.         \u001b[1;36m0\u001b[0m.\n",
       "  \u001b[1;36m0\u001b[0m.         \u001b[1;36m1\u001b[0m.         \u001b[1;36m0\u001b[0m.         \u001b[1;36m0.34659101\u001b[0m\u001b[1m]\u001b[0m\u001b[1m]\u001b[0m\n"
      ]
     },
     "metadata": {},
     "output_type": "display_data"
    }
   ],
   "source": [
    "state = State.from_action_and_reward_pairs(action_reward_pairs)\n",
    "\n",
    "print(state.data)"
   ]
  },
  {
   "cell_type": "markdown",
   "metadata": {},
   "source": [
    "### From Performance Results"
   ]
  },
  {
   "cell_type": "markdown",
   "metadata": {},
   "source": [
    "The internal implementation of `from_performance_results` first converts each `PerformanceResult` to actions and rewards, and then calls `from_actions_and_rewards`."
   ]
  },
  {
   "cell_type": "markdown",
   "metadata": {},
   "source": [
    "Hence, it is recommended to use `from_actions_and_rewards` directly. But if the actions and rewards are not available, there is no choice but to use `from_performance_results`."
   ]
  },
  {
   "cell_type": "code",
   "execution_count": 10,
   "metadata": {},
   "outputs": [
    {
     "data": {
      "text/html": [
       "<pre style=\"white-space:pre;overflow-x:auto;line-height:normal;font-family:Menlo,'DejaVu Sans Mono',consolas,'Courier New',monospace\"><span style=\"font-weight: bold\">[</span>\n",
       "    <span style=\"color: #800080; text-decoration-color: #800080; font-weight: bold\">PerformanceResult</span><span style=\"font-weight: bold\">(</span>\n",
       "        <span style=\"color: #808000; text-decoration-color: #808000\">hp_config</span>=<span style=\"color: #800080; text-decoration-color: #800080; font-weight: bold\">SVCConfig</span><span style=\"font-weight: bold\">(</span>\n",
       "            <span style=\"color: #808000; text-decoration-color: #808000\">C</span>=<span style=\"color: #008080; text-decoration-color: #008080; font-weight: bold\">68.28949433717075</span>,\n",
       "            <span style=\"color: #808000; text-decoration-color: #808000\">kernel</span>=<span style=\"color: #008000; text-decoration-color: #008000\">'rbf'</span>,\n",
       "            <span style=\"color: #808000; text-decoration-color: #808000\">gamma</span>=<span style=\"color: #008080; text-decoration-color: #008080; font-weight: bold\">13.724536083798167</span>,\n",
       "            <span style=\"color: #808000; text-decoration-color: #808000\">tol</span>=<span style=\"color: #008080; text-decoration-color: #008080; font-weight: bold\">0.00048326122391401604</span>,\n",
       "            <span style=\"color: #808000; text-decoration-color: #808000\">decision_function_shape</span>=<span style=\"color: #008000; text-decoration-color: #008000\">'ovo'</span>\n",
       "        <span style=\"font-weight: bold\">)</span>,\n",
       "        <span style=\"color: #808000; text-decoration-color: #808000\">accuracy</span>=<span style=\"color: #008080; text-decoration-color: #008080; font-weight: bold\">0.34778118005581027</span>\n",
       "    <span style=\"font-weight: bold\">)</span>,\n",
       "    <span style=\"color: #800080; text-decoration-color: #800080; font-weight: bold\">PerformanceResult</span><span style=\"font-weight: bold\">(</span>\n",
       "        <span style=\"color: #808000; text-decoration-color: #808000\">hp_config</span>=<span style=\"color: #800080; text-decoration-color: #800080; font-weight: bold\">SVCConfig</span><span style=\"font-weight: bold\">(</span>\n",
       "            <span style=\"color: #808000; text-decoration-color: #808000\">C</span>=<span style=\"color: #008080; text-decoration-color: #008080; font-weight: bold\">23.342259218180395</span>,\n",
       "            <span style=\"color: #808000; text-decoration-color: #808000\">kernel</span>=<span style=\"color: #008000; text-decoration-color: #008000\">'linear'</span>,\n",
       "            <span style=\"color: #808000; text-decoration-color: #808000\">gamma</span>=<span style=\"color: #008080; text-decoration-color: #008080; font-weight: bold\">10.467918965963895</span>,\n",
       "            <span style=\"color: #808000; text-decoration-color: #808000\">tol</span>=<span style=\"color: #008080; text-decoration-color: #008080; font-weight: bold\">0.00012128702323176233</span>,\n",
       "            <span style=\"color: #808000; text-decoration-color: #808000\">decision_function_shape</span>=<span style=\"color: #008000; text-decoration-color: #008000\">'ovo'</span>\n",
       "        <span style=\"font-weight: bold\">)</span>,\n",
       "        <span style=\"color: #808000; text-decoration-color: #808000\">accuracy</span>=<span style=\"color: #008080; text-decoration-color: #008080; font-weight: bold\">0.39122253937936624</span>\n",
       "    <span style=\"font-weight: bold\">)</span>,\n",
       "    <span style=\"color: #800080; text-decoration-color: #800080; font-weight: bold\">PerformanceResult</span><span style=\"font-weight: bold\">(</span>\n",
       "        <span style=\"color: #808000; text-decoration-color: #808000\">hp_config</span>=<span style=\"color: #800080; text-decoration-color: #800080; font-weight: bold\">SVCConfig</span><span style=\"font-weight: bold\">(</span>\n",
       "            <span style=\"color: #808000; text-decoration-color: #808000\">C</span>=<span style=\"color: #008080; text-decoration-color: #008080; font-weight: bold\">49.03440137351025</span>,\n",
       "            <span style=\"color: #808000; text-decoration-color: #808000\">kernel</span>=<span style=\"color: #008000; text-decoration-color: #008000\">'sigmoid'</span>,\n",
       "            <span style=\"color: #808000; text-decoration-color: #808000\">gamma</span>=<span style=\"color: #008080; text-decoration-color: #008080; font-weight: bold\">99.00353435417775</span>,\n",
       "            <span style=\"color: #808000; text-decoration-color: #808000\">tol</span>=<span style=\"color: #008080; text-decoration-color: #008080; font-weight: bold\">0.0004431910678543413</span>,\n",
       "            <span style=\"color: #808000; text-decoration-color: #808000\">decision_function_shape</span>=<span style=\"color: #008000; text-decoration-color: #008000\">'ovo'</span>\n",
       "        <span style=\"font-weight: bold\">)</span>,\n",
       "        <span style=\"color: #808000; text-decoration-color: #808000\">accuracy</span>=<span style=\"color: #008080; text-decoration-color: #008080; font-weight: bold\">0.50390383582081</span>\n",
       "    <span style=\"font-weight: bold\">)</span>,\n",
       "    <span style=\"color: #800080; text-decoration-color: #800080; font-weight: bold\">PerformanceResult</span><span style=\"font-weight: bold\">(</span>\n",
       "        <span style=\"color: #808000; text-decoration-color: #808000\">hp_config</span>=<span style=\"color: #800080; text-decoration-color: #800080; font-weight: bold\">SVCConfig</span><span style=\"font-weight: bold\">(</span>\n",
       "            <span style=\"color: #808000; text-decoration-color: #808000\">C</span>=<span style=\"color: #008080; text-decoration-color: #008080; font-weight: bold\">45.60212623775811</span>,\n",
       "            <span style=\"color: #808000; text-decoration-color: #808000\">kernel</span>=<span style=\"color: #008000; text-decoration-color: #008000\">'rbf'</span>,\n",
       "            <span style=\"color: #808000; text-decoration-color: #808000\">gamma</span>=<span style=\"color: #008080; text-decoration-color: #008080; font-weight: bold\">11.894727103210315</span>,\n",
       "            <span style=\"color: #808000; text-decoration-color: #808000\">tol</span>=<span style=\"color: #008080; text-decoration-color: #008080; font-weight: bold\">0.0008124809619593301</span>,\n",
       "            <span style=\"color: #808000; text-decoration-color: #808000\">decision_function_shape</span>=<span style=\"color: #008000; text-decoration-color: #008000\">'ovr'</span>\n",
       "        <span style=\"font-weight: bold\">)</span>,\n",
       "        <span style=\"color: #808000; text-decoration-color: #808000\">accuracy</span>=<span style=\"color: #008080; text-decoration-color: #008080; font-weight: bold\">0.5005249473431244</span>\n",
       "    <span style=\"font-weight: bold\">)</span>,\n",
       "    <span style=\"color: #800080; text-decoration-color: #800080; font-weight: bold\">PerformanceResult</span><span style=\"font-weight: bold\">(</span>\n",
       "        <span style=\"color: #808000; text-decoration-color: #808000\">hp_config</span>=<span style=\"color: #800080; text-decoration-color: #800080; font-weight: bold\">SVCConfig</span><span style=\"font-weight: bold\">(</span>\n",
       "            <span style=\"color: #808000; text-decoration-color: #808000\">C</span>=<span style=\"color: #008080; text-decoration-color: #008080; font-weight: bold\">11.59251729714987</span>,\n",
       "            <span style=\"color: #808000; text-decoration-color: #808000\">kernel</span>=<span style=\"color: #008000; text-decoration-color: #008000\">'poly'</span>,\n",
       "            <span style=\"color: #808000; text-decoration-color: #808000\">gamma</span>=<span style=\"color: #008080; text-decoration-color: #008080; font-weight: bold\">76.04307624713017</span>,\n",
       "            <span style=\"color: #808000; text-decoration-color: #808000\">tol</span>=<span style=\"color: #008080; text-decoration-color: #008080; font-weight: bold\">0.0001924877852812404</span>,\n",
       "            <span style=\"color: #808000; text-decoration-color: #808000\">decision_function_shape</span>=<span style=\"color: #008000; text-decoration-color: #008000\">'ovo'</span>\n",
       "        <span style=\"font-weight: bold\">)</span>,\n",
       "        <span style=\"color: #808000; text-decoration-color: #808000\">accuracy</span>=<span style=\"color: #008080; text-decoration-color: #008080; font-weight: bold\">0.3465910074359839</span>\n",
       "    <span style=\"font-weight: bold\">)</span>\n",
       "<span style=\"font-weight: bold\">]</span>\n",
       "</pre>\n"
      ],
      "text/plain": [
       "\u001b[1m[\u001b[0m\n",
       "    \u001b[1;35mPerformanceResult\u001b[0m\u001b[1m(\u001b[0m\n",
       "        \u001b[33mhp_config\u001b[0m=\u001b[1;35mSVCConfig\u001b[0m\u001b[1m(\u001b[0m\n",
       "            \u001b[33mC\u001b[0m=\u001b[1;36m68\u001b[0m\u001b[1;36m.28949433717075\u001b[0m,\n",
       "            \u001b[33mkernel\u001b[0m=\u001b[32m'rbf'\u001b[0m,\n",
       "            \u001b[33mgamma\u001b[0m=\u001b[1;36m13\u001b[0m\u001b[1;36m.724536083798167\u001b[0m,\n",
       "            \u001b[33mtol\u001b[0m=\u001b[1;36m0\u001b[0m\u001b[1;36m.00048326122391401604\u001b[0m,\n",
       "            \u001b[33mdecision_function_shape\u001b[0m=\u001b[32m'ovo'\u001b[0m\n",
       "        \u001b[1m)\u001b[0m,\n",
       "        \u001b[33maccuracy\u001b[0m=\u001b[1;36m0\u001b[0m\u001b[1;36m.34778118005581027\u001b[0m\n",
       "    \u001b[1m)\u001b[0m,\n",
       "    \u001b[1;35mPerformanceResult\u001b[0m\u001b[1m(\u001b[0m\n",
       "        \u001b[33mhp_config\u001b[0m=\u001b[1;35mSVCConfig\u001b[0m\u001b[1m(\u001b[0m\n",
       "            \u001b[33mC\u001b[0m=\u001b[1;36m23\u001b[0m\u001b[1;36m.342259218180395\u001b[0m,\n",
       "            \u001b[33mkernel\u001b[0m=\u001b[32m'linear'\u001b[0m,\n",
       "            \u001b[33mgamma\u001b[0m=\u001b[1;36m10\u001b[0m\u001b[1;36m.467918965963895\u001b[0m,\n",
       "            \u001b[33mtol\u001b[0m=\u001b[1;36m0\u001b[0m\u001b[1;36m.00012128702323176233\u001b[0m,\n",
       "            \u001b[33mdecision_function_shape\u001b[0m=\u001b[32m'ovo'\u001b[0m\n",
       "        \u001b[1m)\u001b[0m,\n",
       "        \u001b[33maccuracy\u001b[0m=\u001b[1;36m0\u001b[0m\u001b[1;36m.39122253937936624\u001b[0m\n",
       "    \u001b[1m)\u001b[0m,\n",
       "    \u001b[1;35mPerformanceResult\u001b[0m\u001b[1m(\u001b[0m\n",
       "        \u001b[33mhp_config\u001b[0m=\u001b[1;35mSVCConfig\u001b[0m\u001b[1m(\u001b[0m\n",
       "            \u001b[33mC\u001b[0m=\u001b[1;36m49\u001b[0m\u001b[1;36m.03440137351025\u001b[0m,\n",
       "            \u001b[33mkernel\u001b[0m=\u001b[32m'sigmoid'\u001b[0m,\n",
       "            \u001b[33mgamma\u001b[0m=\u001b[1;36m99\u001b[0m\u001b[1;36m.00353435417775\u001b[0m,\n",
       "            \u001b[33mtol\u001b[0m=\u001b[1;36m0\u001b[0m\u001b[1;36m.0004431910678543413\u001b[0m,\n",
       "            \u001b[33mdecision_function_shape\u001b[0m=\u001b[32m'ovo'\u001b[0m\n",
       "        \u001b[1m)\u001b[0m,\n",
       "        \u001b[33maccuracy\u001b[0m=\u001b[1;36m0\u001b[0m\u001b[1;36m.50390383582081\u001b[0m\n",
       "    \u001b[1m)\u001b[0m,\n",
       "    \u001b[1;35mPerformanceResult\u001b[0m\u001b[1m(\u001b[0m\n",
       "        \u001b[33mhp_config\u001b[0m=\u001b[1;35mSVCConfig\u001b[0m\u001b[1m(\u001b[0m\n",
       "            \u001b[33mC\u001b[0m=\u001b[1;36m45\u001b[0m\u001b[1;36m.60212623775811\u001b[0m,\n",
       "            \u001b[33mkernel\u001b[0m=\u001b[32m'rbf'\u001b[0m,\n",
       "            \u001b[33mgamma\u001b[0m=\u001b[1;36m11\u001b[0m\u001b[1;36m.894727103210315\u001b[0m,\n",
       "            \u001b[33mtol\u001b[0m=\u001b[1;36m0\u001b[0m\u001b[1;36m.0008124809619593301\u001b[0m,\n",
       "            \u001b[33mdecision_function_shape\u001b[0m=\u001b[32m'ovr'\u001b[0m\n",
       "        \u001b[1m)\u001b[0m,\n",
       "        \u001b[33maccuracy\u001b[0m=\u001b[1;36m0\u001b[0m\u001b[1;36m.5005249473431244\u001b[0m\n",
       "    \u001b[1m)\u001b[0m,\n",
       "    \u001b[1;35mPerformanceResult\u001b[0m\u001b[1m(\u001b[0m\n",
       "        \u001b[33mhp_config\u001b[0m=\u001b[1;35mSVCConfig\u001b[0m\u001b[1m(\u001b[0m\n",
       "            \u001b[33mC\u001b[0m=\u001b[1;36m11\u001b[0m\u001b[1;36m.59251729714987\u001b[0m,\n",
       "            \u001b[33mkernel\u001b[0m=\u001b[32m'poly'\u001b[0m,\n",
       "            \u001b[33mgamma\u001b[0m=\u001b[1;36m76\u001b[0m\u001b[1;36m.04307624713017\u001b[0m,\n",
       "            \u001b[33mtol\u001b[0m=\u001b[1;36m0\u001b[0m\u001b[1;36m.0001924877852812404\u001b[0m,\n",
       "            \u001b[33mdecision_function_shape\u001b[0m=\u001b[32m'ovo'\u001b[0m\n",
       "        \u001b[1m)\u001b[0m,\n",
       "        \u001b[33maccuracy\u001b[0m=\u001b[1;36m0\u001b[0m\u001b[1;36m.3465910074359839\u001b[0m\n",
       "    \u001b[1m)\u001b[0m\n",
       "\u001b[1m]\u001b[0m\n"
      ]
     },
     "metadata": {},
     "output_type": "display_data"
    }
   ],
   "source": [
    "performance_results = [\n",
    "    PerformanceResult(\n",
    "        hp_config=action.to_hp_config(),\n",
    "        accuracy=reward\n",
    "    )\n",
    "    for action, reward in action_reward_pairs\n",
    "]\n",
    "\n",
    "print(performance_results)"
   ]
  },
  {
   "cell_type": "code",
   "execution_count": 11,
   "metadata": {},
   "outputs": [
    {
     "data": {
      "text/html": [
       "<pre style=\"white-space:pre;overflow-x:auto;line-height:normal;font-family:Menlo,'DejaVu Sans Mono',consolas,'Courier New',monospace\"><span style=\"font-weight: bold\">[[</span><span style=\"color: #008080; text-decoration-color: #008080; font-weight: bold\">0.68257752</span> <span style=\"color: #008080; text-decoration-color: #008080; font-weight: bold\">0.13638174</span> <span style=\"color: #008080; text-decoration-color: #008080; font-weight: bold\">0.47804164</span> <span style=\"color: #008080; text-decoration-color: #008080; font-weight: bold\">0</span>.         <span style=\"color: #008080; text-decoration-color: #008080; font-weight: bold\">0</span>.         <span style=\"color: #008080; text-decoration-color: #008080; font-weight: bold\">1</span>.\n",
       "  <span style=\"color: #008080; text-decoration-color: #008080; font-weight: bold\">0</span>.         <span style=\"color: #008080; text-decoration-color: #008080; font-weight: bold\">1</span>.         <span style=\"color: #008080; text-decoration-color: #008080; font-weight: bold\">0</span>.         <span style=\"color: #008080; text-decoration-color: #008080; font-weight: bold\">0.34778118</span><span style=\"font-weight: bold\">]</span>\n",
       " <span style=\"font-weight: bold\">[</span><span style=\"color: #008080; text-decoration-color: #008080; font-weight: bold\">0.23265525</span> <span style=\"color: #008080; text-decoration-color: #008080; font-weight: bold\">0.10378297</span> <span style=\"color: #008080; text-decoration-color: #008080; font-weight: bold\">0.11241113</span> <span style=\"color: #008080; text-decoration-color: #008080; font-weight: bold\">1</span>.         <span style=\"color: #008080; text-decoration-color: #008080; font-weight: bold\">0</span>.         <span style=\"color: #008080; text-decoration-color: #008080; font-weight: bold\">0</span>.\n",
       "  <span style=\"color: #008080; text-decoration-color: #008080; font-weight: bold\">0</span>.         <span style=\"color: #008080; text-decoration-color: #008080; font-weight: bold\">1</span>.         <span style=\"color: #008080; text-decoration-color: #008080; font-weight: bold\">0</span>.         <span style=\"color: #008080; text-decoration-color: #008080; font-weight: bold\">0.39122254</span><span style=\"font-weight: bold\">]</span>\n",
       " <span style=\"font-weight: bold\">[</span><span style=\"color: #008080; text-decoration-color: #008080; font-weight: bold\">0.48983385</span> <span style=\"color: #008080; text-decoration-color: #008080; font-weight: bold\">0.99002537</span> <span style=\"color: #008080; text-decoration-color: #008080; font-weight: bold\">0.43756674</span> <span style=\"color: #008080; text-decoration-color: #008080; font-weight: bold\">0</span>.         <span style=\"color: #008080; text-decoration-color: #008080; font-weight: bold\">0</span>.         <span style=\"color: #008080; text-decoration-color: #008080; font-weight: bold\">0</span>.\n",
       "  <span style=\"color: #008080; text-decoration-color: #008080; font-weight: bold\">1</span>.         <span style=\"color: #008080; text-decoration-color: #008080; font-weight: bold\">1</span>.         <span style=\"color: #008080; text-decoration-color: #008080; font-weight: bold\">0</span>.         <span style=\"color: #008080; text-decoration-color: #008080; font-weight: bold\">0.50390384</span><span style=\"font-weight: bold\">]</span>\n",
       " <span style=\"font-weight: bold\">[</span><span style=\"color: #008080; text-decoration-color: #008080; font-weight: bold\">0.45547674</span> <span style=\"color: #008080; text-decoration-color: #008080; font-weight: bold\">0.11806534</span> <span style=\"color: #008080; text-decoration-color: #008080; font-weight: bold\">0.81058683</span> <span style=\"color: #008080; text-decoration-color: #008080; font-weight: bold\">0</span>.         <span style=\"color: #008080; text-decoration-color: #008080; font-weight: bold\">0</span>.         <span style=\"color: #008080; text-decoration-color: #008080; font-weight: bold\">1</span>.\n",
       "  <span style=\"color: #008080; text-decoration-color: #008080; font-weight: bold\">0</span>.         <span style=\"color: #008080; text-decoration-color: #008080; font-weight: bold\">0</span>.         <span style=\"color: #008080; text-decoration-color: #008080; font-weight: bold\">1</span>.         <span style=\"color: #008080; text-decoration-color: #008080; font-weight: bold\">0.50052495</span><span style=\"font-weight: bold\">]</span>\n",
       " <span style=\"font-weight: bold\">[</span><span style=\"color: #008080; text-decoration-color: #008080; font-weight: bold\">0.11504021</span> <span style=\"color: #008080; text-decoration-color: #008080; font-weight: bold\">0.76019095</span> <span style=\"color: #008080; text-decoration-color: #008080; font-weight: bold\">0.1843311</span>  <span style=\"color: #008080; text-decoration-color: #008080; font-weight: bold\">0</span>.         <span style=\"color: #008080; text-decoration-color: #008080; font-weight: bold\">1</span>.         <span style=\"color: #008080; text-decoration-color: #008080; font-weight: bold\">0</span>.\n",
       "  <span style=\"color: #008080; text-decoration-color: #008080; font-weight: bold\">0</span>.         <span style=\"color: #008080; text-decoration-color: #008080; font-weight: bold\">1</span>.         <span style=\"color: #008080; text-decoration-color: #008080; font-weight: bold\">0</span>.         <span style=\"color: #008080; text-decoration-color: #008080; font-weight: bold\">0.34659101</span><span style=\"font-weight: bold\">]]</span>\n",
       "</pre>\n"
      ],
      "text/plain": [
       "\u001b[1m[\u001b[0m\u001b[1m[\u001b[0m\u001b[1;36m0.68257752\u001b[0m \u001b[1;36m0.13638174\u001b[0m \u001b[1;36m0.47804164\u001b[0m \u001b[1;36m0\u001b[0m.         \u001b[1;36m0\u001b[0m.         \u001b[1;36m1\u001b[0m.\n",
       "  \u001b[1;36m0\u001b[0m.         \u001b[1;36m1\u001b[0m.         \u001b[1;36m0\u001b[0m.         \u001b[1;36m0.34778118\u001b[0m\u001b[1m]\u001b[0m\n",
       " \u001b[1m[\u001b[0m\u001b[1;36m0.23265525\u001b[0m \u001b[1;36m0.10378297\u001b[0m \u001b[1;36m0.11241113\u001b[0m \u001b[1;36m1\u001b[0m.         \u001b[1;36m0\u001b[0m.         \u001b[1;36m0\u001b[0m.\n",
       "  \u001b[1;36m0\u001b[0m.         \u001b[1;36m1\u001b[0m.         \u001b[1;36m0\u001b[0m.         \u001b[1;36m0.39122254\u001b[0m\u001b[1m]\u001b[0m\n",
       " \u001b[1m[\u001b[0m\u001b[1;36m0.48983385\u001b[0m \u001b[1;36m0.99002537\u001b[0m \u001b[1;36m0.43756674\u001b[0m \u001b[1;36m0\u001b[0m.         \u001b[1;36m0\u001b[0m.         \u001b[1;36m0\u001b[0m.\n",
       "  \u001b[1;36m1\u001b[0m.         \u001b[1;36m1\u001b[0m.         \u001b[1;36m0\u001b[0m.         \u001b[1;36m0.50390384\u001b[0m\u001b[1m]\u001b[0m\n",
       " \u001b[1m[\u001b[0m\u001b[1;36m0.45547674\u001b[0m \u001b[1;36m0.11806534\u001b[0m \u001b[1;36m0.81058683\u001b[0m \u001b[1;36m0\u001b[0m.         \u001b[1;36m0\u001b[0m.         \u001b[1;36m1\u001b[0m.\n",
       "  \u001b[1;36m0\u001b[0m.         \u001b[1;36m0\u001b[0m.         \u001b[1;36m1\u001b[0m.         \u001b[1;36m0.50052495\u001b[0m\u001b[1m]\u001b[0m\n",
       " \u001b[1m[\u001b[0m\u001b[1;36m0.11504021\u001b[0m \u001b[1;36m0.76019095\u001b[0m \u001b[1;36m0.1843311\u001b[0m  \u001b[1;36m0\u001b[0m.         \u001b[1;36m1\u001b[0m.         \u001b[1;36m0\u001b[0m.\n",
       "  \u001b[1;36m0\u001b[0m.         \u001b[1;36m1\u001b[0m.         \u001b[1;36m0\u001b[0m.         \u001b[1;36m0.34659101\u001b[0m\u001b[1m]\u001b[0m\u001b[1m]\u001b[0m\n"
      ]
     },
     "metadata": {},
     "output_type": "display_data"
    }
   ],
   "source": [
    "state = State.from_performance_results(performance_results)\n",
    "\n",
    "print(state.data)"
   ]
  },
  {
   "cell_type": "markdown",
   "metadata": {},
   "source": [
    "### To PyTorch Tensor"
   ]
  },
  {
   "cell_type": "code",
   "execution_count": 12,
   "metadata": {},
   "outputs": [
    {
     "data": {
      "text/html": [
       "<pre style=\"white-space:pre;overflow-x:auto;line-height:normal;font-family:Menlo,'DejaVu Sans Mono',consolas,'Courier New',monospace\"><span style=\"color: #800080; text-decoration-color: #800080; font-weight: bold\">tensor</span><span style=\"font-weight: bold\">([[</span><span style=\"color: #008080; text-decoration-color: #008080; font-weight: bold\">0.6826</span>, <span style=\"color: #008080; text-decoration-color: #008080; font-weight: bold\">0.1364</span>, <span style=\"color: #008080; text-decoration-color: #008080; font-weight: bold\">0.4780</span>, <span style=\"color: #008080; text-decoration-color: #008080; font-weight: bold\">0.0000</span>, <span style=\"color: #008080; text-decoration-color: #008080; font-weight: bold\">0.0000</span>, <span style=\"color: #008080; text-decoration-color: #008080; font-weight: bold\">1.0000</span>, <span style=\"color: #008080; text-decoration-color: #008080; font-weight: bold\">0.0000</span>, <span style=\"color: #008080; text-decoration-color: #008080; font-weight: bold\">1.0000</span>, <span style=\"color: #008080; text-decoration-color: #008080; font-weight: bold\">0.0000</span>,\n",
       "         <span style=\"color: #008080; text-decoration-color: #008080; font-weight: bold\">0.3478</span><span style=\"font-weight: bold\">]</span>,\n",
       "        <span style=\"font-weight: bold\">[</span><span style=\"color: #008080; text-decoration-color: #008080; font-weight: bold\">0.2327</span>, <span style=\"color: #008080; text-decoration-color: #008080; font-weight: bold\">0.1038</span>, <span style=\"color: #008080; text-decoration-color: #008080; font-weight: bold\">0.1124</span>, <span style=\"color: #008080; text-decoration-color: #008080; font-weight: bold\">1.0000</span>, <span style=\"color: #008080; text-decoration-color: #008080; font-weight: bold\">0.0000</span>, <span style=\"color: #008080; text-decoration-color: #008080; font-weight: bold\">0.0000</span>, <span style=\"color: #008080; text-decoration-color: #008080; font-weight: bold\">0.0000</span>, <span style=\"color: #008080; text-decoration-color: #008080; font-weight: bold\">1.0000</span>, <span style=\"color: #008080; text-decoration-color: #008080; font-weight: bold\">0.0000</span>,\n",
       "         <span style=\"color: #008080; text-decoration-color: #008080; font-weight: bold\">0.3912</span><span style=\"font-weight: bold\">]</span>,\n",
       "        <span style=\"font-weight: bold\">[</span><span style=\"color: #008080; text-decoration-color: #008080; font-weight: bold\">0.4898</span>, <span style=\"color: #008080; text-decoration-color: #008080; font-weight: bold\">0.9900</span>, <span style=\"color: #008080; text-decoration-color: #008080; font-weight: bold\">0.4376</span>, <span style=\"color: #008080; text-decoration-color: #008080; font-weight: bold\">0.0000</span>, <span style=\"color: #008080; text-decoration-color: #008080; font-weight: bold\">0.0000</span>, <span style=\"color: #008080; text-decoration-color: #008080; font-weight: bold\">0.0000</span>, <span style=\"color: #008080; text-decoration-color: #008080; font-weight: bold\">1.0000</span>, <span style=\"color: #008080; text-decoration-color: #008080; font-weight: bold\">1.0000</span>, <span style=\"color: #008080; text-decoration-color: #008080; font-weight: bold\">0.0000</span>,\n",
       "         <span style=\"color: #008080; text-decoration-color: #008080; font-weight: bold\">0.5039</span><span style=\"font-weight: bold\">]</span>,\n",
       "        <span style=\"font-weight: bold\">[</span><span style=\"color: #008080; text-decoration-color: #008080; font-weight: bold\">0.4555</span>, <span style=\"color: #008080; text-decoration-color: #008080; font-weight: bold\">0.1181</span>, <span style=\"color: #008080; text-decoration-color: #008080; font-weight: bold\">0.8106</span>, <span style=\"color: #008080; text-decoration-color: #008080; font-weight: bold\">0.0000</span>, <span style=\"color: #008080; text-decoration-color: #008080; font-weight: bold\">0.0000</span>, <span style=\"color: #008080; text-decoration-color: #008080; font-weight: bold\">1.0000</span>, <span style=\"color: #008080; text-decoration-color: #008080; font-weight: bold\">0.0000</span>, <span style=\"color: #008080; text-decoration-color: #008080; font-weight: bold\">0.0000</span>, <span style=\"color: #008080; text-decoration-color: #008080; font-weight: bold\">1.0000</span>,\n",
       "         <span style=\"color: #008080; text-decoration-color: #008080; font-weight: bold\">0.5005</span><span style=\"font-weight: bold\">]</span>,\n",
       "        <span style=\"font-weight: bold\">[</span><span style=\"color: #008080; text-decoration-color: #008080; font-weight: bold\">0.1150</span>, <span style=\"color: #008080; text-decoration-color: #008080; font-weight: bold\">0.7602</span>, <span style=\"color: #008080; text-decoration-color: #008080; font-weight: bold\">0.1843</span>, <span style=\"color: #008080; text-decoration-color: #008080; font-weight: bold\">0.0000</span>, <span style=\"color: #008080; text-decoration-color: #008080; font-weight: bold\">1.0000</span>, <span style=\"color: #008080; text-decoration-color: #008080; font-weight: bold\">0.0000</span>, <span style=\"color: #008080; text-decoration-color: #008080; font-weight: bold\">0.0000</span>, <span style=\"color: #008080; text-decoration-color: #008080; font-weight: bold\">1.0000</span>, <span style=\"color: #008080; text-decoration-color: #008080; font-weight: bold\">0.0000</span>,\n",
       "         <span style=\"color: #008080; text-decoration-color: #008080; font-weight: bold\">0.3466</span><span style=\"font-weight: bold\">]])</span>\n",
       "</pre>\n"
      ],
      "text/plain": [
       "\u001b[1;35mtensor\u001b[0m\u001b[1m(\u001b[0m\u001b[1m[\u001b[0m\u001b[1m[\u001b[0m\u001b[1;36m0.6826\u001b[0m, \u001b[1;36m0.1364\u001b[0m, \u001b[1;36m0.4780\u001b[0m, \u001b[1;36m0.0000\u001b[0m, \u001b[1;36m0.0000\u001b[0m, \u001b[1;36m1.0000\u001b[0m, \u001b[1;36m0.0000\u001b[0m, \u001b[1;36m1.0000\u001b[0m, \u001b[1;36m0.0000\u001b[0m,\n",
       "         \u001b[1;36m0.3478\u001b[0m\u001b[1m]\u001b[0m,\n",
       "        \u001b[1m[\u001b[0m\u001b[1;36m0.2327\u001b[0m, \u001b[1;36m0.1038\u001b[0m, \u001b[1;36m0.1124\u001b[0m, \u001b[1;36m1.0000\u001b[0m, \u001b[1;36m0.0000\u001b[0m, \u001b[1;36m0.0000\u001b[0m, \u001b[1;36m0.0000\u001b[0m, \u001b[1;36m1.0000\u001b[0m, \u001b[1;36m0.0000\u001b[0m,\n",
       "         \u001b[1;36m0.3912\u001b[0m\u001b[1m]\u001b[0m,\n",
       "        \u001b[1m[\u001b[0m\u001b[1;36m0.4898\u001b[0m, \u001b[1;36m0.9900\u001b[0m, \u001b[1;36m0.4376\u001b[0m, \u001b[1;36m0.0000\u001b[0m, \u001b[1;36m0.0000\u001b[0m, \u001b[1;36m0.0000\u001b[0m, \u001b[1;36m1.0000\u001b[0m, \u001b[1;36m1.0000\u001b[0m, \u001b[1;36m0.0000\u001b[0m,\n",
       "         \u001b[1;36m0.5039\u001b[0m\u001b[1m]\u001b[0m,\n",
       "        \u001b[1m[\u001b[0m\u001b[1;36m0.4555\u001b[0m, \u001b[1;36m0.1181\u001b[0m, \u001b[1;36m0.8106\u001b[0m, \u001b[1;36m0.0000\u001b[0m, \u001b[1;36m0.0000\u001b[0m, \u001b[1;36m1.0000\u001b[0m, \u001b[1;36m0.0000\u001b[0m, \u001b[1;36m0.0000\u001b[0m, \u001b[1;36m1.0000\u001b[0m,\n",
       "         \u001b[1;36m0.5005\u001b[0m\u001b[1m]\u001b[0m,\n",
       "        \u001b[1m[\u001b[0m\u001b[1;36m0.1150\u001b[0m, \u001b[1;36m0.7602\u001b[0m, \u001b[1;36m0.1843\u001b[0m, \u001b[1;36m0.0000\u001b[0m, \u001b[1;36m1.0000\u001b[0m, \u001b[1;36m0.0000\u001b[0m, \u001b[1;36m0.0000\u001b[0m, \u001b[1;36m1.0000\u001b[0m, \u001b[1;36m0.0000\u001b[0m,\n",
       "         \u001b[1;36m0.3466\u001b[0m\u001b[1m]\u001b[0m\u001b[1m]\u001b[0m\u001b[1m)\u001b[0m\n"
      ]
     },
     "metadata": {},
     "output_type": "display_data"
    }
   ],
   "source": [
    "print(state.to_tensor())"
   ]
  },
  {
   "cell_type": "markdown",
   "metadata": {},
   "source": [
    "## Batched States"
   ]
  },
  {
   "cell_type": "code",
   "execution_count": 13,
   "metadata": {},
   "outputs": [
    {
     "data": {
      "text/html": [
       "<pre style=\"white-space:pre;overflow-x:auto;line-height:normal;font-family:Menlo,'DejaVu Sans Mono',consolas,'Courier New',monospace\"><span style=\"font-weight: bold\">[[[</span><span style=\"color: #008080; text-decoration-color: #008080; font-weight: bold\">0.68257752</span> <span style=\"color: #008080; text-decoration-color: #008080; font-weight: bold\">0.13638174</span> <span style=\"color: #008080; text-decoration-color: #008080; font-weight: bold\">0.47804164</span> <span style=\"color: #008080; text-decoration-color: #008080; font-weight: bold\">0</span>.         <span style=\"color: #008080; text-decoration-color: #008080; font-weight: bold\">0</span>.         <span style=\"color: #008080; text-decoration-color: #008080; font-weight: bold\">1</span>.\n",
       "   <span style=\"color: #008080; text-decoration-color: #008080; font-weight: bold\">0</span>.         <span style=\"color: #008080; text-decoration-color: #008080; font-weight: bold\">1</span>.         <span style=\"color: #008080; text-decoration-color: #008080; font-weight: bold\">0</span>.         <span style=\"color: #008080; text-decoration-color: #008080; font-weight: bold\">0.34778118</span><span style=\"font-weight: bold\">]</span>\n",
       "  <span style=\"font-weight: bold\">[</span><span style=\"color: #008080; text-decoration-color: #008080; font-weight: bold\">0.23265525</span> <span style=\"color: #008080; text-decoration-color: #008080; font-weight: bold\">0.10378297</span> <span style=\"color: #008080; text-decoration-color: #008080; font-weight: bold\">0.11241113</span> <span style=\"color: #008080; text-decoration-color: #008080; font-weight: bold\">1</span>.         <span style=\"color: #008080; text-decoration-color: #008080; font-weight: bold\">0</span>.         <span style=\"color: #008080; text-decoration-color: #008080; font-weight: bold\">0</span>.\n",
       "   <span style=\"color: #008080; text-decoration-color: #008080; font-weight: bold\">0</span>.         <span style=\"color: #008080; text-decoration-color: #008080; font-weight: bold\">1</span>.         <span style=\"color: #008080; text-decoration-color: #008080; font-weight: bold\">0</span>.         <span style=\"color: #008080; text-decoration-color: #008080; font-weight: bold\">0.39122254</span><span style=\"font-weight: bold\">]</span>\n",
       "  <span style=\"font-weight: bold\">[</span><span style=\"color: #008080; text-decoration-color: #008080; font-weight: bold\">0.48983385</span> <span style=\"color: #008080; text-decoration-color: #008080; font-weight: bold\">0.99002537</span> <span style=\"color: #008080; text-decoration-color: #008080; font-weight: bold\">0.43756674</span> <span style=\"color: #008080; text-decoration-color: #008080; font-weight: bold\">0</span>.         <span style=\"color: #008080; text-decoration-color: #008080; font-weight: bold\">0</span>.         <span style=\"color: #008080; text-decoration-color: #008080; font-weight: bold\">0</span>.\n",
       "   <span style=\"color: #008080; text-decoration-color: #008080; font-weight: bold\">1</span>.         <span style=\"color: #008080; text-decoration-color: #008080; font-weight: bold\">1</span>.         <span style=\"color: #008080; text-decoration-color: #008080; font-weight: bold\">0</span>.         <span style=\"color: #008080; text-decoration-color: #008080; font-weight: bold\">0.50390384</span><span style=\"font-weight: bold\">]</span>\n",
       "  <span style=\"font-weight: bold\">[</span><span style=\"color: #008080; text-decoration-color: #008080; font-weight: bold\">0.45547674</span> <span style=\"color: #008080; text-decoration-color: #008080; font-weight: bold\">0.11806534</span> <span style=\"color: #008080; text-decoration-color: #008080; font-weight: bold\">0.81058683</span> <span style=\"color: #008080; text-decoration-color: #008080; font-weight: bold\">0</span>.         <span style=\"color: #008080; text-decoration-color: #008080; font-weight: bold\">0</span>.         <span style=\"color: #008080; text-decoration-color: #008080; font-weight: bold\">1</span>.\n",
       "   <span style=\"color: #008080; text-decoration-color: #008080; font-weight: bold\">0</span>.         <span style=\"color: #008080; text-decoration-color: #008080; font-weight: bold\">0</span>.         <span style=\"color: #008080; text-decoration-color: #008080; font-weight: bold\">1</span>.         <span style=\"color: #008080; text-decoration-color: #008080; font-weight: bold\">0.50052495</span><span style=\"font-weight: bold\">]</span>\n",
       "  <span style=\"font-weight: bold\">[</span><span style=\"color: #008080; text-decoration-color: #008080; font-weight: bold\">0.11504021</span> <span style=\"color: #008080; text-decoration-color: #008080; font-weight: bold\">0.76019095</span> <span style=\"color: #008080; text-decoration-color: #008080; font-weight: bold\">0.1843311</span>  <span style=\"color: #008080; text-decoration-color: #008080; font-weight: bold\">0</span>.         <span style=\"color: #008080; text-decoration-color: #008080; font-weight: bold\">1</span>.         <span style=\"color: #008080; text-decoration-color: #008080; font-weight: bold\">0</span>.\n",
       "   <span style=\"color: #008080; text-decoration-color: #008080; font-weight: bold\">0</span>.         <span style=\"color: #008080; text-decoration-color: #008080; font-weight: bold\">1</span>.         <span style=\"color: #008080; text-decoration-color: #008080; font-weight: bold\">0</span>.         <span style=\"color: #008080; text-decoration-color: #008080; font-weight: bold\">0.34659101</span><span style=\"font-weight: bold\">]]</span>\n",
       "\n",
       " <span style=\"font-weight: bold\">[[</span><span style=\"color: #008080; text-decoration-color: #008080; font-weight: bold\">0.68257752</span> <span style=\"color: #008080; text-decoration-color: #008080; font-weight: bold\">0.13638174</span> <span style=\"color: #008080; text-decoration-color: #008080; font-weight: bold\">0.47804164</span> <span style=\"color: #008080; text-decoration-color: #008080; font-weight: bold\">0</span>.         <span style=\"color: #008080; text-decoration-color: #008080; font-weight: bold\">0</span>.         <span style=\"color: #008080; text-decoration-color: #008080; font-weight: bold\">1</span>.\n",
       "   <span style=\"color: #008080; text-decoration-color: #008080; font-weight: bold\">0</span>.         <span style=\"color: #008080; text-decoration-color: #008080; font-weight: bold\">1</span>.         <span style=\"color: #008080; text-decoration-color: #008080; font-weight: bold\">0</span>.         <span style=\"color: #008080; text-decoration-color: #008080; font-weight: bold\">0.34778118</span><span style=\"font-weight: bold\">]</span>\n",
       "  <span style=\"font-weight: bold\">[</span><span style=\"color: #008080; text-decoration-color: #008080; font-weight: bold\">0.23265525</span> <span style=\"color: #008080; text-decoration-color: #008080; font-weight: bold\">0.10378297</span> <span style=\"color: #008080; text-decoration-color: #008080; font-weight: bold\">0.11241113</span> <span style=\"color: #008080; text-decoration-color: #008080; font-weight: bold\">1</span>.         <span style=\"color: #008080; text-decoration-color: #008080; font-weight: bold\">0</span>.         <span style=\"color: #008080; text-decoration-color: #008080; font-weight: bold\">0</span>.\n",
       "   <span style=\"color: #008080; text-decoration-color: #008080; font-weight: bold\">0</span>.         <span style=\"color: #008080; text-decoration-color: #008080; font-weight: bold\">1</span>.         <span style=\"color: #008080; text-decoration-color: #008080; font-weight: bold\">0</span>.         <span style=\"color: #008080; text-decoration-color: #008080; font-weight: bold\">0.39122254</span><span style=\"font-weight: bold\">]</span>\n",
       "  <span style=\"font-weight: bold\">[</span><span style=\"color: #008080; text-decoration-color: #008080; font-weight: bold\">0.48983385</span> <span style=\"color: #008080; text-decoration-color: #008080; font-weight: bold\">0.99002537</span> <span style=\"color: #008080; text-decoration-color: #008080; font-weight: bold\">0.43756674</span> <span style=\"color: #008080; text-decoration-color: #008080; font-weight: bold\">0</span>.         <span style=\"color: #008080; text-decoration-color: #008080; font-weight: bold\">0</span>.         <span style=\"color: #008080; text-decoration-color: #008080; font-weight: bold\">0</span>.\n",
       "   <span style=\"color: #008080; text-decoration-color: #008080; font-weight: bold\">1</span>.         <span style=\"color: #008080; text-decoration-color: #008080; font-weight: bold\">1</span>.         <span style=\"color: #008080; text-decoration-color: #008080; font-weight: bold\">0</span>.         <span style=\"color: #008080; text-decoration-color: #008080; font-weight: bold\">0.50390384</span><span style=\"font-weight: bold\">]</span>\n",
       "  <span style=\"font-weight: bold\">[</span><span style=\"color: #008080; text-decoration-color: #008080; font-weight: bold\">0.45547674</span> <span style=\"color: #008080; text-decoration-color: #008080; font-weight: bold\">0.11806534</span> <span style=\"color: #008080; text-decoration-color: #008080; font-weight: bold\">0.81058683</span> <span style=\"color: #008080; text-decoration-color: #008080; font-weight: bold\">0</span>.         <span style=\"color: #008080; text-decoration-color: #008080; font-weight: bold\">0</span>.         <span style=\"color: #008080; text-decoration-color: #008080; font-weight: bold\">1</span>.\n",
       "   <span style=\"color: #008080; text-decoration-color: #008080; font-weight: bold\">0</span>.         <span style=\"color: #008080; text-decoration-color: #008080; font-weight: bold\">0</span>.         <span style=\"color: #008080; text-decoration-color: #008080; font-weight: bold\">1</span>.         <span style=\"color: #008080; text-decoration-color: #008080; font-weight: bold\">0.50052495</span><span style=\"font-weight: bold\">]</span>\n",
       "  <span style=\"font-weight: bold\">[</span><span style=\"color: #008080; text-decoration-color: #008080; font-weight: bold\">0.11504021</span> <span style=\"color: #008080; text-decoration-color: #008080; font-weight: bold\">0.76019095</span> <span style=\"color: #008080; text-decoration-color: #008080; font-weight: bold\">0.1843311</span>  <span style=\"color: #008080; text-decoration-color: #008080; font-weight: bold\">0</span>.         <span style=\"color: #008080; text-decoration-color: #008080; font-weight: bold\">1</span>.         <span style=\"color: #008080; text-decoration-color: #008080; font-weight: bold\">0</span>.\n",
       "   <span style=\"color: #008080; text-decoration-color: #008080; font-weight: bold\">0</span>.         <span style=\"color: #008080; text-decoration-color: #008080; font-weight: bold\">1</span>.         <span style=\"color: #008080; text-decoration-color: #008080; font-weight: bold\">0</span>.         <span style=\"color: #008080; text-decoration-color: #008080; font-weight: bold\">0.34659101</span><span style=\"font-weight: bold\">]]]</span>\n",
       "</pre>\n"
      ],
      "text/plain": [
       "\u001b[1m[\u001b[0m\u001b[1m[\u001b[0m\u001b[1m[\u001b[0m\u001b[1;36m0.68257752\u001b[0m \u001b[1;36m0.13638174\u001b[0m \u001b[1;36m0.47804164\u001b[0m \u001b[1;36m0\u001b[0m.         \u001b[1;36m0\u001b[0m.         \u001b[1;36m1\u001b[0m.\n",
       "   \u001b[1;36m0\u001b[0m.         \u001b[1;36m1\u001b[0m.         \u001b[1;36m0\u001b[0m.         \u001b[1;36m0.34778118\u001b[0m\u001b[1m]\u001b[0m\n",
       "  \u001b[1m[\u001b[0m\u001b[1;36m0.23265525\u001b[0m \u001b[1;36m0.10378297\u001b[0m \u001b[1;36m0.11241113\u001b[0m \u001b[1;36m1\u001b[0m.         \u001b[1;36m0\u001b[0m.         \u001b[1;36m0\u001b[0m.\n",
       "   \u001b[1;36m0\u001b[0m.         \u001b[1;36m1\u001b[0m.         \u001b[1;36m0\u001b[0m.         \u001b[1;36m0.39122254\u001b[0m\u001b[1m]\u001b[0m\n",
       "  \u001b[1m[\u001b[0m\u001b[1;36m0.48983385\u001b[0m \u001b[1;36m0.99002537\u001b[0m \u001b[1;36m0.43756674\u001b[0m \u001b[1;36m0\u001b[0m.         \u001b[1;36m0\u001b[0m.         \u001b[1;36m0\u001b[0m.\n",
       "   \u001b[1;36m1\u001b[0m.         \u001b[1;36m1\u001b[0m.         \u001b[1;36m0\u001b[0m.         \u001b[1;36m0.50390384\u001b[0m\u001b[1m]\u001b[0m\n",
       "  \u001b[1m[\u001b[0m\u001b[1;36m0.45547674\u001b[0m \u001b[1;36m0.11806534\u001b[0m \u001b[1;36m0.81058683\u001b[0m \u001b[1;36m0\u001b[0m.         \u001b[1;36m0\u001b[0m.         \u001b[1;36m1\u001b[0m.\n",
       "   \u001b[1;36m0\u001b[0m.         \u001b[1;36m0\u001b[0m.         \u001b[1;36m1\u001b[0m.         \u001b[1;36m0.50052495\u001b[0m\u001b[1m]\u001b[0m\n",
       "  \u001b[1m[\u001b[0m\u001b[1;36m0.11504021\u001b[0m \u001b[1;36m0.76019095\u001b[0m \u001b[1;36m0.1843311\u001b[0m  \u001b[1;36m0\u001b[0m.         \u001b[1;36m1\u001b[0m.         \u001b[1;36m0\u001b[0m.\n",
       "   \u001b[1;36m0\u001b[0m.         \u001b[1;36m1\u001b[0m.         \u001b[1;36m0\u001b[0m.         \u001b[1;36m0.34659101\u001b[0m\u001b[1m]\u001b[0m\u001b[1m]\u001b[0m\n",
       "\n",
       " \u001b[1m[\u001b[0m\u001b[1m[\u001b[0m\u001b[1;36m0.68257752\u001b[0m \u001b[1;36m0.13638174\u001b[0m \u001b[1;36m0.47804164\u001b[0m \u001b[1;36m0\u001b[0m.         \u001b[1;36m0\u001b[0m.         \u001b[1;36m1\u001b[0m.\n",
       "   \u001b[1;36m0\u001b[0m.         \u001b[1;36m1\u001b[0m.         \u001b[1;36m0\u001b[0m.         \u001b[1;36m0.34778118\u001b[0m\u001b[1m]\u001b[0m\n",
       "  \u001b[1m[\u001b[0m\u001b[1;36m0.23265525\u001b[0m \u001b[1;36m0.10378297\u001b[0m \u001b[1;36m0.11241113\u001b[0m \u001b[1;36m1\u001b[0m.         \u001b[1;36m0\u001b[0m.         \u001b[1;36m0\u001b[0m.\n",
       "   \u001b[1;36m0\u001b[0m.         \u001b[1;36m1\u001b[0m.         \u001b[1;36m0\u001b[0m.         \u001b[1;36m0.39122254\u001b[0m\u001b[1m]\u001b[0m\n",
       "  \u001b[1m[\u001b[0m\u001b[1;36m0.48983385\u001b[0m \u001b[1;36m0.99002537\u001b[0m \u001b[1;36m0.43756674\u001b[0m \u001b[1;36m0\u001b[0m.         \u001b[1;36m0\u001b[0m.         \u001b[1;36m0\u001b[0m.\n",
       "   \u001b[1;36m1\u001b[0m.         \u001b[1;36m1\u001b[0m.         \u001b[1;36m0\u001b[0m.         \u001b[1;36m0.50390384\u001b[0m\u001b[1m]\u001b[0m\n",
       "  \u001b[1m[\u001b[0m\u001b[1;36m0.45547674\u001b[0m \u001b[1;36m0.11806534\u001b[0m \u001b[1;36m0.81058683\u001b[0m \u001b[1;36m0\u001b[0m.         \u001b[1;36m0\u001b[0m.         \u001b[1;36m1\u001b[0m.\n",
       "   \u001b[1;36m0\u001b[0m.         \u001b[1;36m0\u001b[0m.         \u001b[1;36m1\u001b[0m.         \u001b[1;36m0.50052495\u001b[0m\u001b[1m]\u001b[0m\n",
       "  \u001b[1m[\u001b[0m\u001b[1;36m0.11504021\u001b[0m \u001b[1;36m0.76019095\u001b[0m \u001b[1;36m0.1843311\u001b[0m  \u001b[1;36m0\u001b[0m.         \u001b[1;36m1\u001b[0m.         \u001b[1;36m0\u001b[0m.\n",
       "   \u001b[1;36m0\u001b[0m.         \u001b[1;36m1\u001b[0m.         \u001b[1;36m0\u001b[0m.         \u001b[1;36m0.34659101\u001b[0m\u001b[1m]\u001b[0m\u001b[1m]\u001b[0m\u001b[1m]\u001b[0m\n"
      ]
     },
     "metadata": {},
     "output_type": "display_data"
    },
    {
     "data": {
      "text/html": [
       "<pre style=\"white-space:pre;overflow-x:auto;line-height:normal;font-family:Menlo,'DejaVu Sans Mono',consolas,'Courier New',monospace\">shape: <span style=\"font-weight: bold\">(</span><span style=\"color: #008080; text-decoration-color: #008080; font-weight: bold\">2</span>, <span style=\"color: #008080; text-decoration-color: #008080; font-weight: bold\">5</span>, <span style=\"color: #008080; text-decoration-color: #008080; font-weight: bold\">10</span><span style=\"font-weight: bold\">)</span>\n",
       "</pre>\n"
      ],
      "text/plain": [
       "shape: \u001b[1m(\u001b[0m\u001b[1;36m2\u001b[0m, \u001b[1;36m5\u001b[0m, \u001b[1;36m10\u001b[0m\u001b[1m)\u001b[0m\n"
      ]
     },
     "metadata": {},
     "output_type": "display_data"
    }
   ],
   "source": [
    "from linguaml.rl.state import BatchedStates\n",
    "\n",
    "batched_states = BatchedStates.from_states([state, state])\n",
    "\n",
    "print(batched_states.data)\n",
    "print(f\"shape: {batched_states.data.shape}\")"
   ]
  },
  {
   "cell_type": "code",
   "execution_count": 14,
   "metadata": {},
   "outputs": [
    {
     "data": {
      "text/html": [
       "<pre style=\"white-space:pre;overflow-x:auto;line-height:normal;font-family:Menlo,'DejaVu Sans Mono',consolas,'Courier New',monospace\"><span style=\"color: #800080; text-decoration-color: #800080; font-weight: bold\">tensor</span><span style=\"font-weight: bold\">([[[</span><span style=\"color: #008080; text-decoration-color: #008080; font-weight: bold\">0.6826</span>, <span style=\"color: #008080; text-decoration-color: #008080; font-weight: bold\">0.1364</span>, <span style=\"color: #008080; text-decoration-color: #008080; font-weight: bold\">0.4780</span>, <span style=\"color: #008080; text-decoration-color: #008080; font-weight: bold\">0.0000</span>, <span style=\"color: #008080; text-decoration-color: #008080; font-weight: bold\">0.0000</span>, <span style=\"color: #008080; text-decoration-color: #008080; font-weight: bold\">1.0000</span>, <span style=\"color: #008080; text-decoration-color: #008080; font-weight: bold\">0.0000</span>, <span style=\"color: #008080; text-decoration-color: #008080; font-weight: bold\">1.0000</span>,\n",
       "          <span style=\"color: #008080; text-decoration-color: #008080; font-weight: bold\">0.0000</span>, <span style=\"color: #008080; text-decoration-color: #008080; font-weight: bold\">0.3478</span><span style=\"font-weight: bold\">]</span>,\n",
       "         <span style=\"font-weight: bold\">[</span><span style=\"color: #008080; text-decoration-color: #008080; font-weight: bold\">0.2327</span>, <span style=\"color: #008080; text-decoration-color: #008080; font-weight: bold\">0.1038</span>, <span style=\"color: #008080; text-decoration-color: #008080; font-weight: bold\">0.1124</span>, <span style=\"color: #008080; text-decoration-color: #008080; font-weight: bold\">1.0000</span>, <span style=\"color: #008080; text-decoration-color: #008080; font-weight: bold\">0.0000</span>, <span style=\"color: #008080; text-decoration-color: #008080; font-weight: bold\">0.0000</span>, <span style=\"color: #008080; text-decoration-color: #008080; font-weight: bold\">0.0000</span>, <span style=\"color: #008080; text-decoration-color: #008080; font-weight: bold\">1.0000</span>,\n",
       "          <span style=\"color: #008080; text-decoration-color: #008080; font-weight: bold\">0.0000</span>, <span style=\"color: #008080; text-decoration-color: #008080; font-weight: bold\">0.3912</span><span style=\"font-weight: bold\">]</span>,\n",
       "         <span style=\"font-weight: bold\">[</span><span style=\"color: #008080; text-decoration-color: #008080; font-weight: bold\">0.4898</span>, <span style=\"color: #008080; text-decoration-color: #008080; font-weight: bold\">0.9900</span>, <span style=\"color: #008080; text-decoration-color: #008080; font-weight: bold\">0.4376</span>, <span style=\"color: #008080; text-decoration-color: #008080; font-weight: bold\">0.0000</span>, <span style=\"color: #008080; text-decoration-color: #008080; font-weight: bold\">0.0000</span>, <span style=\"color: #008080; text-decoration-color: #008080; font-weight: bold\">0.0000</span>, <span style=\"color: #008080; text-decoration-color: #008080; font-weight: bold\">1.0000</span>, <span style=\"color: #008080; text-decoration-color: #008080; font-weight: bold\">1.0000</span>,\n",
       "          <span style=\"color: #008080; text-decoration-color: #008080; font-weight: bold\">0.0000</span>, <span style=\"color: #008080; text-decoration-color: #008080; font-weight: bold\">0.5039</span><span style=\"font-weight: bold\">]</span>,\n",
       "         <span style=\"font-weight: bold\">[</span><span style=\"color: #008080; text-decoration-color: #008080; font-weight: bold\">0.4555</span>, <span style=\"color: #008080; text-decoration-color: #008080; font-weight: bold\">0.1181</span>, <span style=\"color: #008080; text-decoration-color: #008080; font-weight: bold\">0.8106</span>, <span style=\"color: #008080; text-decoration-color: #008080; font-weight: bold\">0.0000</span>, <span style=\"color: #008080; text-decoration-color: #008080; font-weight: bold\">0.0000</span>, <span style=\"color: #008080; text-decoration-color: #008080; font-weight: bold\">1.0000</span>, <span style=\"color: #008080; text-decoration-color: #008080; font-weight: bold\">0.0000</span>, <span style=\"color: #008080; text-decoration-color: #008080; font-weight: bold\">0.0000</span>,\n",
       "          <span style=\"color: #008080; text-decoration-color: #008080; font-weight: bold\">1.0000</span>, <span style=\"color: #008080; text-decoration-color: #008080; font-weight: bold\">0.5005</span><span style=\"font-weight: bold\">]</span>,\n",
       "         <span style=\"font-weight: bold\">[</span><span style=\"color: #008080; text-decoration-color: #008080; font-weight: bold\">0.1150</span>, <span style=\"color: #008080; text-decoration-color: #008080; font-weight: bold\">0.7602</span>, <span style=\"color: #008080; text-decoration-color: #008080; font-weight: bold\">0.1843</span>, <span style=\"color: #008080; text-decoration-color: #008080; font-weight: bold\">0.0000</span>, <span style=\"color: #008080; text-decoration-color: #008080; font-weight: bold\">1.0000</span>, <span style=\"color: #008080; text-decoration-color: #008080; font-weight: bold\">0.0000</span>, <span style=\"color: #008080; text-decoration-color: #008080; font-weight: bold\">0.0000</span>, <span style=\"color: #008080; text-decoration-color: #008080; font-weight: bold\">1.0000</span>,\n",
       "          <span style=\"color: #008080; text-decoration-color: #008080; font-weight: bold\">0.0000</span>, <span style=\"color: #008080; text-decoration-color: #008080; font-weight: bold\">0.3466</span><span style=\"font-weight: bold\">]]</span>,\n",
       "\n",
       "        <span style=\"font-weight: bold\">[[</span><span style=\"color: #008080; text-decoration-color: #008080; font-weight: bold\">0.6826</span>, <span style=\"color: #008080; text-decoration-color: #008080; font-weight: bold\">0.1364</span>, <span style=\"color: #008080; text-decoration-color: #008080; font-weight: bold\">0.4780</span>, <span style=\"color: #008080; text-decoration-color: #008080; font-weight: bold\">0.0000</span>, <span style=\"color: #008080; text-decoration-color: #008080; font-weight: bold\">0.0000</span>, <span style=\"color: #008080; text-decoration-color: #008080; font-weight: bold\">1.0000</span>, <span style=\"color: #008080; text-decoration-color: #008080; font-weight: bold\">0.0000</span>, <span style=\"color: #008080; text-decoration-color: #008080; font-weight: bold\">1.0000</span>,\n",
       "          <span style=\"color: #008080; text-decoration-color: #008080; font-weight: bold\">0.0000</span>, <span style=\"color: #008080; text-decoration-color: #008080; font-weight: bold\">0.3478</span><span style=\"font-weight: bold\">]</span>,\n",
       "         <span style=\"font-weight: bold\">[</span><span style=\"color: #008080; text-decoration-color: #008080; font-weight: bold\">0.2327</span>, <span style=\"color: #008080; text-decoration-color: #008080; font-weight: bold\">0.1038</span>, <span style=\"color: #008080; text-decoration-color: #008080; font-weight: bold\">0.1124</span>, <span style=\"color: #008080; text-decoration-color: #008080; font-weight: bold\">1.0000</span>, <span style=\"color: #008080; text-decoration-color: #008080; font-weight: bold\">0.0000</span>, <span style=\"color: #008080; text-decoration-color: #008080; font-weight: bold\">0.0000</span>, <span style=\"color: #008080; text-decoration-color: #008080; font-weight: bold\">0.0000</span>, <span style=\"color: #008080; text-decoration-color: #008080; font-weight: bold\">1.0000</span>,\n",
       "          <span style=\"color: #008080; text-decoration-color: #008080; font-weight: bold\">0.0000</span>, <span style=\"color: #008080; text-decoration-color: #008080; font-weight: bold\">0.3912</span><span style=\"font-weight: bold\">]</span>,\n",
       "         <span style=\"font-weight: bold\">[</span><span style=\"color: #008080; text-decoration-color: #008080; font-weight: bold\">0.4898</span>, <span style=\"color: #008080; text-decoration-color: #008080; font-weight: bold\">0.9900</span>, <span style=\"color: #008080; text-decoration-color: #008080; font-weight: bold\">0.4376</span>, <span style=\"color: #008080; text-decoration-color: #008080; font-weight: bold\">0.0000</span>, <span style=\"color: #008080; text-decoration-color: #008080; font-weight: bold\">0.0000</span>, <span style=\"color: #008080; text-decoration-color: #008080; font-weight: bold\">0.0000</span>, <span style=\"color: #008080; text-decoration-color: #008080; font-weight: bold\">1.0000</span>, <span style=\"color: #008080; text-decoration-color: #008080; font-weight: bold\">1.0000</span>,\n",
       "          <span style=\"color: #008080; text-decoration-color: #008080; font-weight: bold\">0.0000</span>, <span style=\"color: #008080; text-decoration-color: #008080; font-weight: bold\">0.5039</span><span style=\"font-weight: bold\">]</span>,\n",
       "         <span style=\"font-weight: bold\">[</span><span style=\"color: #008080; text-decoration-color: #008080; font-weight: bold\">0.4555</span>, <span style=\"color: #008080; text-decoration-color: #008080; font-weight: bold\">0.1181</span>, <span style=\"color: #008080; text-decoration-color: #008080; font-weight: bold\">0.8106</span>, <span style=\"color: #008080; text-decoration-color: #008080; font-weight: bold\">0.0000</span>, <span style=\"color: #008080; text-decoration-color: #008080; font-weight: bold\">0.0000</span>, <span style=\"color: #008080; text-decoration-color: #008080; font-weight: bold\">1.0000</span>, <span style=\"color: #008080; text-decoration-color: #008080; font-weight: bold\">0.0000</span>, <span style=\"color: #008080; text-decoration-color: #008080; font-weight: bold\">0.0000</span>,\n",
       "          <span style=\"color: #008080; text-decoration-color: #008080; font-weight: bold\">1.0000</span>, <span style=\"color: #008080; text-decoration-color: #008080; font-weight: bold\">0.5005</span><span style=\"font-weight: bold\">]</span>,\n",
       "         <span style=\"font-weight: bold\">[</span><span style=\"color: #008080; text-decoration-color: #008080; font-weight: bold\">0.1150</span>, <span style=\"color: #008080; text-decoration-color: #008080; font-weight: bold\">0.7602</span>, <span style=\"color: #008080; text-decoration-color: #008080; font-weight: bold\">0.1843</span>, <span style=\"color: #008080; text-decoration-color: #008080; font-weight: bold\">0.0000</span>, <span style=\"color: #008080; text-decoration-color: #008080; font-weight: bold\">1.0000</span>, <span style=\"color: #008080; text-decoration-color: #008080; font-weight: bold\">0.0000</span>, <span style=\"color: #008080; text-decoration-color: #008080; font-weight: bold\">0.0000</span>, <span style=\"color: #008080; text-decoration-color: #008080; font-weight: bold\">1.0000</span>,\n",
       "          <span style=\"color: #008080; text-decoration-color: #008080; font-weight: bold\">0.0000</span>, <span style=\"color: #008080; text-decoration-color: #008080; font-weight: bold\">0.3466</span><span style=\"font-weight: bold\">]]])</span>\n",
       "</pre>\n"
      ],
      "text/plain": [
       "\u001b[1;35mtensor\u001b[0m\u001b[1m(\u001b[0m\u001b[1m[\u001b[0m\u001b[1m[\u001b[0m\u001b[1m[\u001b[0m\u001b[1;36m0.6826\u001b[0m, \u001b[1;36m0.1364\u001b[0m, \u001b[1;36m0.4780\u001b[0m, \u001b[1;36m0.0000\u001b[0m, \u001b[1;36m0.0000\u001b[0m, \u001b[1;36m1.0000\u001b[0m, \u001b[1;36m0.0000\u001b[0m, \u001b[1;36m1.0000\u001b[0m,\n",
       "          \u001b[1;36m0.0000\u001b[0m, \u001b[1;36m0.3478\u001b[0m\u001b[1m]\u001b[0m,\n",
       "         \u001b[1m[\u001b[0m\u001b[1;36m0.2327\u001b[0m, \u001b[1;36m0.1038\u001b[0m, \u001b[1;36m0.1124\u001b[0m, \u001b[1;36m1.0000\u001b[0m, \u001b[1;36m0.0000\u001b[0m, \u001b[1;36m0.0000\u001b[0m, \u001b[1;36m0.0000\u001b[0m, \u001b[1;36m1.0000\u001b[0m,\n",
       "          \u001b[1;36m0.0000\u001b[0m, \u001b[1;36m0.3912\u001b[0m\u001b[1m]\u001b[0m,\n",
       "         \u001b[1m[\u001b[0m\u001b[1;36m0.4898\u001b[0m, \u001b[1;36m0.9900\u001b[0m, \u001b[1;36m0.4376\u001b[0m, \u001b[1;36m0.0000\u001b[0m, \u001b[1;36m0.0000\u001b[0m, \u001b[1;36m0.0000\u001b[0m, \u001b[1;36m1.0000\u001b[0m, \u001b[1;36m1.0000\u001b[0m,\n",
       "          \u001b[1;36m0.0000\u001b[0m, \u001b[1;36m0.5039\u001b[0m\u001b[1m]\u001b[0m,\n",
       "         \u001b[1m[\u001b[0m\u001b[1;36m0.4555\u001b[0m, \u001b[1;36m0.1181\u001b[0m, \u001b[1;36m0.8106\u001b[0m, \u001b[1;36m0.0000\u001b[0m, \u001b[1;36m0.0000\u001b[0m, \u001b[1;36m1.0000\u001b[0m, \u001b[1;36m0.0000\u001b[0m, \u001b[1;36m0.0000\u001b[0m,\n",
       "          \u001b[1;36m1.0000\u001b[0m, \u001b[1;36m0.5005\u001b[0m\u001b[1m]\u001b[0m,\n",
       "         \u001b[1m[\u001b[0m\u001b[1;36m0.1150\u001b[0m, \u001b[1;36m0.7602\u001b[0m, \u001b[1;36m0.1843\u001b[0m, \u001b[1;36m0.0000\u001b[0m, \u001b[1;36m1.0000\u001b[0m, \u001b[1;36m0.0000\u001b[0m, \u001b[1;36m0.0000\u001b[0m, \u001b[1;36m1.0000\u001b[0m,\n",
       "          \u001b[1;36m0.0000\u001b[0m, \u001b[1;36m0.3466\u001b[0m\u001b[1m]\u001b[0m\u001b[1m]\u001b[0m,\n",
       "\n",
       "        \u001b[1m[\u001b[0m\u001b[1m[\u001b[0m\u001b[1;36m0.6826\u001b[0m, \u001b[1;36m0.1364\u001b[0m, \u001b[1;36m0.4780\u001b[0m, \u001b[1;36m0.0000\u001b[0m, \u001b[1;36m0.0000\u001b[0m, \u001b[1;36m1.0000\u001b[0m, \u001b[1;36m0.0000\u001b[0m, \u001b[1;36m1.0000\u001b[0m,\n",
       "          \u001b[1;36m0.0000\u001b[0m, \u001b[1;36m0.3478\u001b[0m\u001b[1m]\u001b[0m,\n",
       "         \u001b[1m[\u001b[0m\u001b[1;36m0.2327\u001b[0m, \u001b[1;36m0.1038\u001b[0m, \u001b[1;36m0.1124\u001b[0m, \u001b[1;36m1.0000\u001b[0m, \u001b[1;36m0.0000\u001b[0m, \u001b[1;36m0.0000\u001b[0m, \u001b[1;36m0.0000\u001b[0m, \u001b[1;36m1.0000\u001b[0m,\n",
       "          \u001b[1;36m0.0000\u001b[0m, \u001b[1;36m0.3912\u001b[0m\u001b[1m]\u001b[0m,\n",
       "         \u001b[1m[\u001b[0m\u001b[1;36m0.4898\u001b[0m, \u001b[1;36m0.9900\u001b[0m, \u001b[1;36m0.4376\u001b[0m, \u001b[1;36m0.0000\u001b[0m, \u001b[1;36m0.0000\u001b[0m, \u001b[1;36m0.0000\u001b[0m, \u001b[1;36m1.0000\u001b[0m, \u001b[1;36m1.0000\u001b[0m,\n",
       "          \u001b[1;36m0.0000\u001b[0m, \u001b[1;36m0.5039\u001b[0m\u001b[1m]\u001b[0m,\n",
       "         \u001b[1m[\u001b[0m\u001b[1;36m0.4555\u001b[0m, \u001b[1;36m0.1181\u001b[0m, \u001b[1;36m0.8106\u001b[0m, \u001b[1;36m0.0000\u001b[0m, \u001b[1;36m0.0000\u001b[0m, \u001b[1;36m1.0000\u001b[0m, \u001b[1;36m0.0000\u001b[0m, \u001b[1;36m0.0000\u001b[0m,\n",
       "          \u001b[1;36m1.0000\u001b[0m, \u001b[1;36m0.5005\u001b[0m\u001b[1m]\u001b[0m,\n",
       "         \u001b[1m[\u001b[0m\u001b[1;36m0.1150\u001b[0m, \u001b[1;36m0.7602\u001b[0m, \u001b[1;36m0.1843\u001b[0m, \u001b[1;36m0.0000\u001b[0m, \u001b[1;36m1.0000\u001b[0m, \u001b[1;36m0.0000\u001b[0m, \u001b[1;36m0.0000\u001b[0m, \u001b[1;36m1.0000\u001b[0m,\n",
       "          \u001b[1;36m0.0000\u001b[0m, \u001b[1;36m0.3466\u001b[0m\u001b[1m]\u001b[0m\u001b[1m]\u001b[0m\u001b[1m]\u001b[0m\u001b[1m)\u001b[0m\n"
      ]
     },
     "metadata": {},
     "output_type": "display_data"
    }
   ],
   "source": [
    "print(batched_states.to_tensor())"
   ]
  },
  {
   "cell_type": "code",
   "execution_count": null,
   "metadata": {},
   "outputs": [],
   "source": []
  }
 ],
 "metadata": {
  "kernelspec": {
   "display_name": "linguaml-OS06el3p-py3.11",
   "language": "python",
   "name": "python3"
  },
  "language_info": {
   "codemirror_mode": {
    "name": "ipython",
    "version": 3
   },
   "file_extension": ".py",
   "mimetype": "text/x-python",
   "name": "python",
   "nbconvert_exporter": "python",
   "pygments_lexer": "ipython3",
   "version": "3.11.0"
  }
 },
 "nbformat": 4,
 "nbformat_minor": 2
}
